{
 "cells": [
  {
   "cell_type": "markdown",
   "id": "1d92f237",
   "metadata": {
    "pycharm": {
     "name": "#%% md\n"
    }
   },
   "source": [
    "# Basic Optimization"
   ]
  },
  {
   "cell_type": "code",
   "execution_count": 1,
   "id": "0974e779",
   "metadata": {
    "pycharm": {
     "name": "#%%\n"
    },
    "tags": []
   },
   "source": [
    "import sys\n",
    "import os\n",
    "\n",
    "sys.path.insert(0, os.path.abspath(\".\"))\n",
    "sys.path.append(os.path.abspath(\"../../../\"))"
   ],
   "outputs": []
  },
  {
   "cell_type": "markdown",
   "id": "497bc74a",
   "metadata": {
    "pycharm": {
     "name": "#%% md\n"
    }
   },
   "source": [
    "This tutorial demonstrates how to perform optimization with DESC. It will go through two examples: \n",
    "\n",
    "1) targeting the \"triple product\" quasi-symmetry objective $f_T$ in the full plasma volume\n",
    "2) targeting the \"two-term\" objective $f_C$ for quasi-helical symmetry at the plasma boundary surface\n",
    "\n",
    "These examples are adapted from a problem first presented in [Rodriguez et al. (2022)](https://www.cambridge.org/core/journals/journal-of-plasma-physics/article/measures-of-quasisymmetry-for-stellarators/01B9DFE86A23964F331E0E0615B4E7A2) and reproduced in [Dudt et al. (2023)](https://www.cambridge.org/core/journals/journal-of-plasma-physics/article/desc-stellarator-code-suite-part-3-quasisymmetry-optimization/0B262B685969D2F5697BEE28C8A78DB1)."
   ]
  },
  {
   "cell_type": "markdown",
   "id": "4b44dea5",
   "metadata": {
    "pycharm": {
     "name": "#%% md\n"
    }
   },
   "source": [
    "If you have access to a GPU, uncomment the following two lines. You should see about an order of magnitude speed improvement with only these two lines of code!"
   ]
  },
  {
   "cell_type": "code",
   "execution_count": 2,
   "id": "b9e4ccab-0482-4866-97e7-5c58c05a9d84",
   "metadata": {
    "tags": []
   },
   "source": [
    "# from desc import set_device\n",
    "# set_device(\"gpu\")"
   ],
   "outputs": []
  },
  {
   "cell_type": "code",
   "execution_count": 3,
   "id": "ee57db1b",
   "metadata": {
    "pycharm": {
     "name": "#%%\n"
    },
    "tags": []
   },
   "source": [
    "%matplotlib inline\n",
    "import numpy as np\n",
    "import matplotlib.pyplot as plt\n",
    "\n",
    "plt.rcParams[\"font.size\"] = 20\n",
    "\n",
    "import desc.io\n",
    "from desc.grid import LinearGrid, ConcentricGrid\n",
    "from desc.objectives import (\n",
    "    ObjectiveFunction,\n",
    "    FixBoundaryR,\n",
    "    FixBoundaryZ,\n",
    "    FixPressure,\n",
    "    FixIota,\n",
    "    FixPsi,\n",
    "    AspectRatio,\n",
    "    ForceBalance,\n",
    "    QuasisymmetryBoozer,\n",
    "    QuasisymmetryTwoTerm,\n",
    "    QuasisymmetryTripleProduct,\n",
    ")\n",
    "from desc.optimize import Optimizer\n",
    "from desc.plotting import (\n",
    "    plot_grid,\n",
    "    plot_boozer_modes,\n",
    "    plot_boozer_surface,\n",
    "    plot_qs_error,\n",
    "    plot_boundaries,\n",
    "    plot_boundary,\n",
    ")"
   ],
   "outputs": []
  },
  {
   "cell_type": "markdown",
   "id": "41d83a4b-8e55-4be3-b57f-54b023c4f6dd",
   "metadata": {},
   "source": [
    "## Initial guess"
   ]
  },
  {
   "cell_type": "markdown",
   "id": "db2bd33c",
   "metadata": {
    "pycharm": {
     "name": "#%% md\n"
    }
   },
   "source": [
    "To save time during this tutorial, we will load an equilibrium solution to use as the initial guess for optimization. This equilibrium is already somewhat close to quasi-helical symmetry (QH) but can be improved. "
   ]
  },
  {
   "cell_type": "code",
   "execution_count": 4,
   "id": "dd4085bc",
   "metadata": {
    "pycharm": {
     "name": "#%%\n"
    },
    "tags": []
   },
   "source": [
    "# load initial equilibrium\n",
    "eq_init = desc.io.load(\"qs_initial_guess.h5\")"
   ],
   "outputs": []
  },
  {
   "cell_type": "code",
   "execution_count": 5,
   "id": "3416297d-52c0-4ecf-9244-bfb124eae3dc",
   "metadata": {
    "tags": []
   },
   "source": [
    "plot_boundary(eq_init, figsize=(8, 8))"
   ],
   "outputs": []
  },
  {
   "cell_type": "markdown",
   "id": "a3b51954",
   "metadata": {
    "pycharm": {
     "name": "#%% md\n"
    }
   },
   "source": [
    "There are several plotting functions available in DESC that are useful for visualizing the quasi-symmetry (QS) errors. Let us look at the initial errors before optimization: "
   ]
  },
  {
   "cell_type": "code",
   "execution_count": 6,
   "id": "7c58097b",
   "metadata": {
    "pycharm": {
     "name": "#%%\n"
    },
    "tags": []
   },
   "source": [
    "# plot modes of |B| in Boozer coordinates\n",
    "plot_boozer_modes(eq_init, num_modes=8, rho=10)\n",
    "\n",
    "# plot |B| contours in Boozer coordinates on a surface (default is rho=1)\n",
    "plot_boozer_surface(eq_init)\n",
    "\n",
    "# plot normalized QS metrics\n",
    "plot_qs_error(eq_init, helicity=(1, eq_init.NFP), rho=10)"
   ],
   "outputs": []
  },
  {
   "cell_type": "markdown",
   "id": "1df7a48b",
   "metadata": {
    "pycharm": {
     "name": "#%% md\n"
    }
   },
   "source": [
    "## QS metrics\n",
    "\n",
    "The last plot shows the three different QS errors implemented in DESC. Their definitions and the normalized scalar quantities plotted for each flux surface are shown below: \n",
    "\n",
    "### Boozer Coordinates\n",
    "\n",
    "This is the \"traditional\" definition of QS. The drawbacks of this metric are that Boozer coordinates are expensive to compute, and it only provides \"global\" information about the error on each surface. But it has the nice property of $\\hat{f}_B \\in [0,1]$. \n",
    "\n",
    "\\begin{equation}\n",
    "|\\mathbf{B}| = B(\\psi, M\\vartheta_{B} - N\\zeta_{B})\n",
    "\\end{equation}\n",
    "\n",
    "\\begin{equation}\n",
    "\\mathbf{f}_{B} = \\{ B_{mn} ~|~ m/n \\neq M/N \\}\n",
    "\\end{equation}\n",
    "\n",
    "\\begin{equation}\n",
    "\\hat{f}_{B} = \\frac{|\\mathbf{f}_{B}|}{\\sqrt{\\sum_{m,n} B_{mn}^2}}\n",
    "\\end{equation}\n",
    "\n",
    "### Two-Term\n",
    "\n",
    "This definition is advantageous because it does not require a transformation to Boozer coordinates, and it reveals \"local\" errors within a flux surface.\n",
    "\n",
    "\\begin{equation}\n",
    "f_{C} = \\left( M \\iota - N \\right) \\left( \\mathbf{B} \\times \\nabla \\psi \\right) \\cdot \\nabla B - \\left( M G + N I \\right) \\mathbf{B} \\cdot \\nabla B. \n",
    "\\end{equation}\n",
    "\n",
    "\\begin{equation}\n",
    "\\mathbf{f}_{C} = \\{ f_{C}(\\theta_{i},\\zeta_{j}) ~|~ i \\in [0,2\\pi), j \\in [0,2\\pi/N_{FP}) \\}\n",
    "\\end{equation}\n",
    "\n",
    "\\begin{equation}\n",
    "\\hat{f}_{C} = \\frac{\\langle |f_C| \\rangle}{\\langle B \\rangle^3}.\n",
    "\\end{equation}\n",
    "\n",
    "### Triple Product\n",
    "\n",
    "This is also a local error metric that can be evaluated without Boozer coordinates. The potential advantages of this definition are that it does not require specifying the helicity (type of quasi-symmetry) and does not assume $\\mathbf{J}\\cdot\\nabla\\psi=0$. \n",
    "\n",
    "\\begin{equation}\n",
    "f_{T} = \\nabla \\psi \\times \\nabla B \\cdot \\nabla \\left( \\mathbf{B} \\cdot \\nabla B \\right)\n",
    "\\end{equation}\n",
    "\n",
    "\\begin{equation}\n",
    "\\mathbf{f}_{T} = \\{ f_{T}(\\theta_{i},\\zeta_{j}) ~|~ i \\in [0,2\\pi), j \\in [0,2\\pi/N_{FP}) \\}\n",
    "\\end{equation}\n",
    "\n",
    "\\begin{equation}\n",
    "\\hat{f}_{T}(\\psi) = \\frac{\\langle R \\rangle^2 \\langle |f_{T}| \\rangle}{\\langle B \\rangle^4}\n",
    "\\end{equation}"
   ]
  },
  {
   "cell_type": "markdown",
   "id": "6a342471-7bc9-4763-b80e-3de96cdd0496",
   "metadata": {},
   "source": [
    "## Optimizer"
   ]
  },
  {
   "cell_type": "markdown",
   "id": "3348ce72",
   "metadata": {
    "pycharm": {
     "name": "#%% md\n"
    }
   },
   "source": [
    "To set up the optimization problem, we need to choose an optimization algorithm. `\"proximal-lsq-exact\"` is a custom least-squares routine (with `proximal` referring to the proximal projection done at each step to ensure force balance i.e. it perturbs the boundary in the direction to optimize the objective function, then resolves the equilibrium to ensure force balance), but there are other options available ([see documentation](https://desc-docs.readthedocs.io/en/latest/_api/optimize/desc.optimize.Optimizer.html)). "
   ]
  },
  {
   "cell_type": "code",
   "execution_count": 7,
   "id": "3cf749c0",
   "metadata": {
    "pycharm": {
     "name": "#%%\n"
    },
    "tags": []
   },
   "source": [
    "optimizer = Optimizer(\"proximal-lsq-exact\")"
   ],
   "outputs": []
  },
  {
   "cell_type": "markdown",
   "id": "9315ebf6-438f-4a13-a27a-947842f28ca9",
   "metadata": {},
   "source": [
    "## Specifying constraints"
   ]
  },
  {
   "cell_type": "markdown",
   "id": "8a74cacf",
   "metadata": {
    "pycharm": {
     "name": "#%% md\n"
    }
   },
   "source": [
    "Next we need to define the optimization constraints. In DESC, we explicitly specify the constraints, and all other parameters become free variables for optimization. In this example, we would like the following 4 stellarator-symmetric boundary coefficients to be our only optimization variables:\n",
    "\n",
    "$R^{b}_{1,2} \\cos(\\theta) \\cos(2N_{FP}\\phi)$\n",
    "\n",
    "$R^{b}_{-1,-2} \\sin(\\theta) \\sin(2N_{FP}\\phi)$\n",
    "\n",
    "$Z^{b}_{-1,2} \\sin(\\theta) \\cos(2N_{FP}\\phi)$\n",
    "\n",
    "$Z^{b}_{1,-2} \\cos(\\theta) \\sin(2N_{FP}\\phi)$\n",
    "\n",
    "We will fix all other boundary modes besides these. We will also fix the pressure profile, rotational transform profile, and total toroidal magnetic flux. Finally, we also specify equilibrium force balance as a constraint by including the `ForceBalance()` objective in the list of constraints."
   ]
  },
  {
   "cell_type": "code",
   "execution_count": 8,
   "id": "b89fca93",
   "metadata": {
    "pycharm": {
     "name": "#%%\n"
    },
    "tags": []
   },
   "source": [
    "# indices of boundary modes we want to optimize\n",
    "idx_Rcc = eq_init.surface.R_basis.get_idx(M=1, N=2)\n",
    "idx_Rss = eq_init.surface.R_basis.get_idx(M=-1, N=-2)\n",
    "idx_Zsc = eq_init.surface.Z_basis.get_idx(M=-1, N=2)\n",
    "idx_Zcs = eq_init.surface.Z_basis.get_idx(M=1, N=-2)\n",
    "print(\"surface.R_basis.modes is an array of [l,m,n] of the surface modes:\")\n",
    "print(eq_init.surface.R_basis.modes[0:10])\n",
    "\n",
    "# boundary modes to constrain\n",
    "R_modes = np.delete(eq_init.surface.R_basis.modes, [idx_Rcc, idx_Rss], axis=0)\n",
    "Z_modes = np.delete(eq_init.surface.Z_basis.modes, [idx_Zsc, idx_Zcs], axis=0)\n",
    "\n",
    "eq_qs_T = eq_init.copy()  # make a copy of the original one\n",
    "# constraints\n",
    "constraints = (\n",
    "    ForceBalance(eq=eq_qs_T),  # enforce JxB-grad(p)=0 during optimization\n",
    "    FixBoundaryR(eq=eq_qs_T, modes=R_modes),  # fix specified R boundary modes\n",
    "    FixBoundaryZ(eq=eq_qs_T, modes=Z_modes),  # fix specified Z boundary modes\n",
    "    FixPressure(eq=eq_qs_T),  # fix pressure profile\n",
    "    FixIota(eq=eq_qs_T),  # fix rotational transform profile\n",
    "    FixPsi(eq=eq_qs_T),  # fix total toroidal magnetic flux\n",
    ")"
   ],
   "outputs": []
  },
  {
   "cell_type": "markdown",
   "id": "04ab14db",
   "metadata": {
    "pycharm": {
     "name": "#%% md\n"
    }
   },
   "source": [
    "## Optimizing for Triple Product QS in Volume"
   ]
  },
  {
   "cell_type": "markdown",
   "id": "7340b667",
   "metadata": {
    "pycharm": {
     "name": "#%% md\n"
    }
   },
   "source": [
    "First we are going to optimize for QS using the \"triple product\" objective, evaluated throughout the plasma volume. We start by creating the grid of collocation points where we want the $f_T$ errors to be evaluated. We then initialize the appropriate objective function with this grid. "
   ]
  },
  {
   "cell_type": "code",
   "execution_count": 9,
   "id": "9d887cef",
   "metadata": {
    "pycharm": {
     "name": "#%%\n"
    },
    "tags": []
   },
   "source": [
    "# objective\n",
    "grid_vol = ConcentricGrid(\n",
    "    L=eq_init.L_grid,\n",
    "    M=eq_init.M_grid,\n",
    "    N=eq_init.N_grid,\n",
    "    NFP=eq_init.NFP,\n",
    "    sym=eq_init.sym,\n",
    ")\n",
    "plot_grid(grid_vol, figsize=(8, 8))\n",
    "\n",
    "objective_fT = ObjectiveFunction(QuasisymmetryTripleProduct(eq=eq_qs_T, grid=grid_vol))"
   ],
   "outputs": []
  },
  {
   "cell_type": "markdown",
   "id": "4c4da820",
   "metadata": {
    "pycharm": {
     "name": "#%% md\n"
    }
   },
   "source": [
    "We are now ready to run the optimization problem. The syntax is shown below with many of the optimization options that are available -- you can try changing these parameters. "
   ]
  },
  {
   "cell_type": "code",
   "execution_count": 10,
   "id": "51bd3157",
   "metadata": {
    "pycharm": {
     "name": "#%%\n"
    },
    "tags": []
   },
   "source": [
    "eq_qs_T, result_T = eq_qs_T.optimize(\n",
    "    objective=objective_fT,\n",
    "    constraints=constraints,\n",
    "    optimizer=optimizer,\n",
    "    ftol=5e-2,  # stopping tolerance on the function value\n",
    "    xtol=1e-6,  # stopping tolerance on the step size\n",
    "    gtol=1e-6,  # stopping tolerance on the gradient\n",
    "    maxiter=50,  # maximum number of iterations\n",
    "    options={\n",
    "        \"perturb_options\": {\"order\": 2, \"verbose\": 0},  # use 2nd-order perturbations\n",
    "        \"solve_options\": {\n",
    "            \"ftol\": 5e-3,\n",
    "            \"xtol\": 1e-6,\n",
    "            \"gtol\": 1e-6,\n",
    "            \"verbose\": 0,\n",
    "        },  # for equilibrium subproblem\n",
    "    },\n",
    "    copy=False,  # copy=False we will overwrite the eq_qs_T object with the optimized result\n",
    "    verbose=3,\n",
    ")"
   ],
   "outputs": []
  },
  {
   "cell_type": "markdown",
   "id": "2d253b0d",
   "metadata": {
    "pycharm": {
     "name": "#%% md\n"
    }
   },
   "source": [
    "Let us plot the QS errors again to see how well the optimization worked: "
   ]
  },
  {
   "cell_type": "code",
   "execution_count": 11,
   "id": "f196ded4",
   "metadata": {
    "pycharm": {
     "name": "#%%\n"
    },
    "tags": []
   },
   "source": [
    "plot_boozer_surface(eq_qs_T);  # |B| contours at rho=1 surface"
   ],
   "outputs": []
  },
  {
   "cell_type": "code",
   "execution_count": 12,
   "id": "3281d4f6",
   "metadata": {
    "pycharm": {
     "name": "#%%\n"
    },
    "tags": []
   },
   "source": [
    "# compare f_T & f_C before (o) vs after (x) optimization\n",
    "fig, ax = plot_qs_error(\n",
    "    eq_init, helicity=(1, eq_init.NFP), fB=False, legend=False, rho=10\n",
    ")\n",
    "plot_qs_error(\n",
    "    eq_qs_T, helicity=(1, eq_init.NFP), fB=False, ax=ax, marker=[\"x\", \"x\"], rho=10\n",
    ");"
   ],
   "outputs": []
  },
  {
   "cell_type": "code",
   "execution_count": 13,
   "id": "79de4d0f",
   "metadata": {
    "pycharm": {
     "name": "#%%\n"
    },
    "tags": []
   },
   "source": [
    "# compare f_B before (o) vs after (x) optimization\n",
    "fig, ax = plot_qs_error(\n",
    "    eq_init, helicity=(1, eq_init.NFP), fT=False, fC=False, legend=False, rho=10\n",
    ")\n",
    "plot_qs_error(\n",
    "    eq_qs_T, helicity=(1, eq_init.NFP), fT=False, fC=False, ax=ax, marker=[\"x\"], rho=10\n",
    ");"
   ],
   "outputs": []
  },
  {
   "cell_type": "markdown",
   "id": "14ea79a4",
   "metadata": {
    "pycharm": {
     "name": "#%% md\n"
    }
   },
   "source": [
    "## Optimizing for Two-Term QH at Boundary Surface"
   ]
  },
  {
   "cell_type": "markdown",
   "id": "dfc5b03e",
   "metadata": {
    "pycharm": {
     "name": "#%% md\n"
    }
   },
   "source": [
    "Next we are going to optimize for QH using the \"two-term\" objective, evaluated at the $\\rho=1$ flux surface. Again we need to create the grid of collocation points where we want the $f_C$ errors to be evaluated. We then initialize the appropriate objective function with this grid. "
   ]
  },
  {
   "cell_type": "code",
   "execution_count": 14,
   "id": "5a909e41",
   "metadata": {
    "pycharm": {
     "name": "#%%\n"
    },
    "tags": []
   },
   "source": [
    "grid_rho1 = LinearGrid(\n",
    "    M=eq_init.M_grid,\n",
    "    N=eq_init.N_grid,\n",
    "    NFP=eq_init.NFP,\n",
    "    sym=eq_init.sym,\n",
    "    rho=np.array(1.0),\n",
    ")\n",
    "plot_grid(grid_rho1, figsize=(8, 8))\n",
    "\n",
    "eq_qs_C = eq_init.copy()\n",
    "# constraints\n",
    "constraints = (\n",
    "    ForceBalance(eq=eq_qs_C),  # enforce JxB-grad(p)=0 during optimization\n",
    "    FixBoundaryR(eq=eq_qs_C, modes=R_modes),  # fix specified R boundary modes\n",
    "    FixBoundaryZ(eq=eq_qs_C, modes=Z_modes),  # fix specified Z boundary modes\n",
    "    FixPressure(eq=eq_qs_C),  # fix pressure profile\n",
    "    FixIota(eq=eq_qs_C),  # fix rotational transform profile\n",
    "    FixPsi(eq=eq_qs_C),  # fix total toroidal magnetic flux\n",
    ")\n",
    "# two-term objective\n",
    "objective_fC = ObjectiveFunction(\n",
    "    QuasisymmetryTwoTerm(eq=eq_qs_C, grid=grid_rho1, helicity=(1, eq_init.NFP))\n",
    ")"
   ],
   "outputs": []
  },
  {
   "cell_type": "markdown",
   "id": "85f17216",
   "metadata": {
    "pycharm": {
     "name": "#%% md\n"
    }
   },
   "source": [
    "Now we can re-run the optimization from the same intial guess as before, but using this different objective function. We can reuse the same `optimizer` from the first run. "
   ]
  },
  {
   "cell_type": "code",
   "execution_count": 15,
   "id": "1827353a",
   "metadata": {
    "pycharm": {
     "name": "#%%\n"
    },
    "tags": []
   },
   "source": [
    "eq_qs_C, result_C = eq_qs_C.optimize(\n",
    "    objective=objective_fC,\n",
    "    constraints=constraints,\n",
    "    optimizer=optimizer,\n",
    "    ftol=1e-2,\n",
    "    xtol=1e-6,\n",
    "    gtol=1e-6,\n",
    "    maxiter=50,\n",
    "    options={\n",
    "        \"perturb_options\": {\"order\": 2, \"verbose\": 0},\n",
    "        \"solve_options\": {\"ftol\": 1e-2, \"xtol\": 1e-6, \"gtol\": 1e-6, \"verbose\": 0},\n",
    "    },\n",
    "    copy=False,\n",
    "    verbose=3,\n",
    ")"
   ],
   "outputs": []
  },
  {
   "cell_type": "markdown",
   "id": "102723be",
   "metadata": {
    "pycharm": {
     "name": "#%% md\n"
    }
   },
   "source": [
    "Let us plot the QS errors again for this case. Was one objective more effective than the other at improving quasi-symmetry for this example? "
   ]
  },
  {
   "cell_type": "code",
   "execution_count": 16,
   "id": "f22b56d3",
   "metadata": {
    "pycharm": {
     "name": "#%%\n"
    },
    "tags": []
   },
   "source": [
    "plot_boozer_surface(eq_qs_C);  # |B| contours at rho=1 surface"
   ],
   "outputs": []
  },
  {
   "cell_type": "code",
   "execution_count": 17,
   "id": "a39dc1eb",
   "metadata": {
    "pycharm": {
     "name": "#%%\n"
    },
    "tags": []
   },
   "source": [
    "# compare f_T & f_C before (o) vs after (x) optimization\n",
    "fig, ax = plot_qs_error(\n",
    "    eq_init, helicity=(1, eq_init.NFP), fB=False, legend=False, rho=10\n",
    ")\n",
    "plot_qs_error(\n",
    "    eq_qs_C, helicity=(1, eq_init.NFP), fB=False, ax=ax, marker=[\"x\", \"x\"], rho=10\n",
    ");"
   ],
   "outputs": []
  },
  {
   "cell_type": "code",
   "execution_count": 18,
   "id": "425521a9",
   "metadata": {
    "pycharm": {
     "name": "#%%\n"
    },
    "tags": []
   },
   "source": [
    "# compare f_B before (o) vs after (x) optimization\n",
    "fig, ax = plot_qs_error(\n",
    "    eq_init, helicity=(1, eq_init.NFP), fT=False, fC=False, legend=False, rho=10\n",
    ")\n",
    "plot_qs_error(\n",
    "    eq_qs_C, helicity=(1, eq_init.NFP), fT=False, fC=False, ax=ax, marker=[\"x\"], rho=10\n",
    ");"
   ],
   "outputs": []
  },
  {
   "cell_type": "markdown",
   "id": "eb077a08",
   "metadata": {
    "pycharm": {
     "name": "#%% md\n"
    }
   },
   "source": [
    "## Combining Multiple Objectives"
   ]
  },
  {
   "cell_type": "markdown",
   "id": "69e5fd39",
   "metadata": {
    "pycharm": {
     "name": "#%% md\n"
    }
   },
   "source": [
    "It is very easy in DESC to combine multiple optimization objectives with relative weights between them. Here is an example of how to create an objective optimizing for both $f_B$ and a target aspect ratio: "
   ]
  },
  {
   "cell_type": "code",
   "execution_count": 19,
   "id": "1ca679f2",
   "metadata": {
    "pycharm": {
     "name": "#%%\n"
    },
    "tags": []
   },
   "source": [
    "objective = ObjectiveFunction(\n",
    "    (\n",
    "        QuasisymmetryBoozer(eq=eq_init, helicity=(1, eq_init.NFP), weight=1e-2),\n",
    "        AspectRatio(eq=eq_init, target=6, weight=1e1),\n",
    "    )\n",
    ")"
   ],
   "outputs": []
  }
 ],
 "metadata": {
  "kernelspec": {
   "display_name": "Python 3 (ipykernel)",
   "language": "python",
   "name": "python3"
  },
  "language_info": {
   "codemirror_mode": {
    "name": "ipython",
    "version": 3
   },
   "file_extension": ".py",
   "mimetype": "text/x-python",
   "name": "python",
   "nbconvert_exporter": "python",
   "pygments_lexer": "ipython3",
   "version": "3.10.11"
  }
 },
 "nbformat": 4,
 "nbformat_minor": 5
}
