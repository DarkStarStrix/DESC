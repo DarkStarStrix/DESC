{
 "cells": [
  {
   "cell_type": "markdown",
   "metadata": {
    "pycharm": {
     "name": "#%% md\n"
    }
   },
   "source": [
    "# Continuation method step by step"
   ]
  },
  {
   "cell_type": "markdown",
   "metadata": {
    "pycharm": {
     "name": "#%% md\n"
    }
   },
   "source": [
    "In this example we step through the continuation method step by step - starting from an axisymmetric vacuum configuration, adding 3D shaping, and then adding pressure."
   ]
  },
  {
   "cell_type": "code",
   "execution_count": 1,
   "metadata": {
    "nbsphinx": "hidden",
    "pycharm": {
     "name": "#%%\n"
    },
    "tags": []
   },
   "source": [
    "import sys\n",
    "import os\n",
    "\n",
    "sys.path.insert(0, os.path.abspath(\".\"))\n",
    "sys.path.append(os.path.abspath(\"../../../\"))\n",
    "import matplotlib.pyplot as plt\n",
    "\n",
    "plt.rcParams.update({\"font.size\": 20})"
   ],
   "outputs": []
  },
  {
   "cell_type": "markdown",
   "metadata": {
    "pycharm": {
     "name": "#%% md\n"
    }
   },
   "source": [
    "If you have access to a GPU, uncomment the following two lines. You should see about an order of magnitude speed improvement with only these two lines of code!"
   ]
  },
  {
   "cell_type": "code",
   "execution_count": 2,
   "metadata": {
    "pycharm": {
     "name": "#%%\n"
    },
    "tags": []
   },
   "source": [
    "# from desc import set_device\n",
    "# set_device(\"gpu\")"
   ],
   "outputs": []
  },
  {
   "cell_type": "code",
   "execution_count": 3,
   "metadata": {
    "pycharm": {
     "name": "#%%\n"
    },
    "tags": []
   },
   "source": [
    "%matplotlib inline\n",
    "import numpy as np\n",
    "\n",
    "from desc.equilibrium import Equilibrium\n",
    "from desc.geometry import FourierRZToroidalSurface\n",
    "from desc.objectives import (\n",
    "    ObjectiveFunction,\n",
    "    ForceBalance,\n",
    "    get_fixed_boundary_constraints,\n",
    ")\n",
    "from desc.optimize import Optimizer\n",
    "from desc.plotting import plot_1d, plot_section, plot_surfaces\n",
    "from desc.profiles import PowerSeriesProfile"
   ],
   "outputs": []
  },
  {
   "cell_type": "markdown",
   "metadata": {
    "pycharm": {
     "name": "#%% md\n"
    }
   },
   "source": [
    "## 2D Equilibrium"
   ]
  },
  {
   "cell_type": "markdown",
   "metadata": {
    "pycharm": {
     "name": "#%% md\n"
    }
   },
   "source": [
    "We start by creating the surface object that represents the axisymmetric boundary."
   ]
  },
  {
   "cell_type": "code",
   "execution_count": 4,
   "metadata": {
    "pycharm": {
     "name": "#%%\n"
    },
    "tags": []
   },
   "source": [
    "surface_2D = FourierRZToroidalSurface(\n",
    "    R_lmn=np.array([10, -1]),  # boundary coefficients\n",
    "    Z_lmn=np.array([1]),\n",
    "    modes_R=np.array([[0, 0], [1, 0]]),  # [M, N] boundary Fourier modes\n",
    "    modes_Z=np.array([[-1, 0]]),\n",
    "    NFP=5,  # number of (toroidal) field periods (does not matter for 2D, but will for 3D solution)\n",
    ")"
   ],
   "outputs": []
  },
  {
   "cell_type": "markdown",
   "metadata": {
    "pycharm": {
     "name": "#%% md\n"
    }
   },
   "source": [
    "Now we can initialize an Equilibrium with this boundary surface. By default, `Equilibrium` objects have pressure and net toroidal current profiles of `0` assigned. We also increase the resolution and use a collocation grid that oversamples by a factor of two. "
   ]
  },
  {
   "cell_type": "code",
   "execution_count": 5,
   "metadata": {
    "pycharm": {
     "name": "#%%\n"
    },
    "tags": []
   },
   "source": [
    "# axisymmetric & stellarator symmetric equilibrium\n",
    "eq = Equilibrium(surface=surface_2D, sym=True)\n",
    "eq.change_resolution(L=6, M=6, L_grid=12, M_grid=12)"
   ],
   "outputs": []
  },
  {
   "cell_type": "markdown",
   "metadata": {
    "pycharm": {
     "name": "#%% md\n"
    }
   },
   "source": [
    "Next we create our objective function, `ForceBalance` which will seek to make $\\mathbf{F} \\equiv \\mathbf{J} \\times \\mathbf{B} - \\nabla p = 0$"
   ]
  },
  {
   "cell_type": "code",
   "execution_count": 6,
   "metadata": {
    "pycharm": {
     "name": "#%%\n"
    },
    "tags": []
   },
   "source": [
    "objective = ObjectiveFunction(ForceBalance(eq=eq))"
   ],
   "outputs": []
  },
  {
   "cell_type": "markdown",
   "metadata": {
    "pycharm": {
     "name": "#%% md\n"
    }
   },
   "source": [
    "Next we need to specify the optimization constraints, which indicate what parameters that will remain fixed during the optimization process. For this fixed-boundary problem we can call the utility function `get_fixed_boundary_constraints` that returns a list of the desired constraints."
   ]
  },
  {
   "cell_type": "code",
   "execution_count": 7,
   "metadata": {
    "pycharm": {
     "name": "#%%\n"
    },
    "tags": []
   },
   "source": [
    "constraints = get_fixed_boundary_constraints(eq=eq)\n",
    "for c in constraints:\n",
    "    print(c)"
   ],
   "outputs": []
  },
  {
   "cell_type": "markdown",
   "metadata": {
    "pycharm": {
     "name": "#%% md\n"
    }
   },
   "source": [
    "Finally, we can solve the equilibrium with the objective and constraints specified above. We also chose an optimization algorithm by initializing an `Optimizer` object. The `verbose=3` option will display output at each optimization step. "
   ]
  },
  {
   "cell_type": "code",
   "execution_count": 8,
   "metadata": {
    "pycharm": {
     "name": "#%%\n"
    },
    "tags": []
   },
   "source": [
    "# this is a port of scipy's trust region least squares algorithm but using JAX functions for better performance\n",
    "optimizer = Optimizer(\"lsq-exact\")\n",
    "eq, solver_outputs = eq.solve(\n",
    "    objective=objective, constraints=constraints, optimizer=optimizer, verbose=3\n",
    ")"
   ],
   "outputs": []
  },
  {
   "cell_type": "markdown",
   "metadata": {
    "pycharm": {
     "name": "#%% md\n"
    }
   },
   "source": [
    "We can analyze the equilibrium solution using the available plotting routines. . Here we plot the magnitude of the total current density $|\\mathbf{J}|$ and the normalized force balance error. We expect both quantities to be low for this vacuum solution. "
   ]
  },
  {
   "cell_type": "code",
   "execution_count": 9,
   "metadata": {
    "pycharm": {
     "name": "#%%\n"
    },
    "tags": []
   },
   "source": [
    "plot_section(eq, \"|J|\")\n",
    "plot_section(eq, \"|F|\", norm_F=True, log=True);"
   ],
   "outputs": []
  },
  {
   "cell_type": "markdown",
   "metadata": {
    "pycharm": {
     "name": "#%% md\n"
    }
   },
   "source": [
    "Since this is an axisymmetric vacuum equilibrium, there should be no pressure or rotational transform. We can plot both quantities as follows: "
   ]
  },
  {
   "cell_type": "code",
   "execution_count": 10,
   "metadata": {
    "pycharm": {
     "name": "#%%\n"
    },
    "tags": []
   },
   "source": [
    "plot_1d(eq, \"p\")\n",
    "plot_1d(eq, \"iota\")"
   ],
   "outputs": []
  },
  {
   "cell_type": "markdown",
   "metadata": {
    "pycharm": {
     "name": "#%% md\n"
    }
   },
   "source": [
    "## 3D Equilibrium"
   ]
  },
  {
   "cell_type": "markdown",
   "metadata": {
    "pycharm": {
     "name": "#%% md\n"
    }
   },
   "source": [
    "Now we want to solve a stellarator vacuum equilibrium by perturbing the existing tokamak solution we already found. We start by creating a new surface to represent the 3D (non-axisymmetric) stellarator boundary. "
   ]
  },
  {
   "cell_type": "code",
   "execution_count": 11,
   "metadata": {
    "pycharm": {
     "name": "#%%\n"
    },
    "tags": []
   },
   "source": [
    "surface_3D = FourierRZToroidalSurface(\n",
    "    R_lmn=np.array([10, -1, -0.3, 0.3]),  # boundary coefficients\n",
    "    Z_lmn=np.array([1, -0.3, -0.3]),\n",
    "    modes_R=np.array(\n",
    "        [[0, 0], [1, 0], [1, 1], [-1, -1]]\n",
    "    ),  # [M, N] boundary Fourier modes\n",
    "    modes_Z=np.array([[-1, 0], [-1, 1], [1, -1]]),\n",
    "    NFP=5,  # number of (toroidal) field periods\n",
    ")"
   ],
   "outputs": []
  },
  {
   "cell_type": "markdown",
   "metadata": {
    "pycharm": {
     "name": "#%% md\n"
    }
   },
   "source": [
    "In the previous solution we did not use any toroidal Fourier modes because they were unnecessary for axisymmetry. Now we need to increase the toroidal resolution, and we will also increase the radial and poloidal resolutions as well. Again we oversample the collocation grid by a factor of two. \n",
    "\n",
    "We will also update the resolution of the 3D surface to match the new resolution of the Equilibrium. "
   ]
  },
  {
   "cell_type": "code",
   "execution_count": 12,
   "metadata": {
    "pycharm": {
     "name": "#%%\n"
    },
    "tags": []
   },
   "source": [
    "eq.change_resolution(L=10, M=10, N=6, L_grid=20, M_grid=20, N_grid=12)\n",
    "surface_3D.change_resolution(eq.L, eq.M, eq.N)"
   ],
   "outputs": []
  },
  {
   "cell_type": "markdown",
   "metadata": {
    "pycharm": {
     "name": "#%% md\n"
    }
   },
   "source": [
    "We need to initialize new instances of the `objective` and `constraints`. This is necessary because the original instances got built for a specific resolution during the previous 2D equilibrium solve, and are no longer compatible with the Equilibrium after increasing the resolution. "
   ]
  },
  {
   "cell_type": "code",
   "execution_count": 13,
   "metadata": {
    "pycharm": {
     "name": "#%%\n"
    },
    "tags": []
   },
   "source": [
    "objective = ObjectiveFunction(ForceBalance(eq=eq))\n",
    "constraints = get_fixed_boundary_constraints(eq=eq)"
   ],
   "outputs": []
  },
  {
   "cell_type": "markdown",
   "metadata": {
    "pycharm": {
     "name": "#%% md\n"
    }
   },
   "source": [
    "Next is the boundary perturbation. In this step, we approximate the heliotron equilibrium solution from a 2nd-order Taylor expansion about the axisymmetric solution. This is possible thanks to the wealth of derivative information provided by automatic differentiation. "
   ]
  },
  {
   "cell_type": "code",
   "execution_count": 14,
   "metadata": {
    "pycharm": {
     "name": "#%%\n"
    },
    "tags": []
   },
   "source": [
    "eq.perturb(\n",
    "    deltas={\n",
    "        \"Rb_lmn\": surface_3D.R_lmn - eq.Rb_lmn,  # change in the R boundary coefficients\n",
    "        \"Zb_lmn\": surface_3D.Z_lmn - eq.Zb_lmn,  # change in the Z boundary coefficients\n",
    "    },\n",
    "    objective=objective,  # perturb the solution such that J=0 is maintained\n",
    "    constraints=constraints,  # same constraints used in the equilibrium solve\n",
    "    order=2,  # use a 2nd-order Taylor expansion\n",
    "    verbose=2,  # display timing data\n",
    ")"
   ],
   "outputs": []
  },
  {
   "cell_type": "markdown",
   "metadata": {
    "pycharm": {
     "name": "#%% md\n"
    }
   },
   "source": [
    "We now have an approximation of the stellarator equilibrium from the tokamak solution! Let us look at the 3D surfaces and rotational transform profile to check that the perturbation actually updated the solution: "
   ]
  },
  {
   "cell_type": "code",
   "execution_count": 15,
   "metadata": {
    "pycharm": {
     "name": "#%%\n"
    },
    "tags": []
   },
   "source": [
    "plot_surfaces(eq)\n",
    "plot_1d(eq, \"iota\");"
   ],
   "outputs": []
  },
  {
   "cell_type": "markdown",
   "metadata": {
    "pycharm": {
     "name": "#%% md\n"
    }
   },
   "source": [
    "The surfaces match the heliotron boundary we want and there is non-zero rotational transform as expected. But the equilibrium error is now large because the perturbed solution is only an approximation to the true equilibrium: "
   ]
  },
  {
   "cell_type": "code",
   "execution_count": 16,
   "metadata": {
    "pycharm": {
     "name": "#%%\n"
    }
   },
   "source": [
    "plot_section(eq, \"|F|\", norm_F=True, log=True);"
   ],
   "outputs": []
  },
  {
   "cell_type": "markdown",
   "metadata": {
    "pycharm": {
     "name": "#%% md\n"
    }
   },
   "source": [
    "We can re-solve the equilibrium using the new 3D boundary constraint. This should converge in only a few Newton iterations because we are starting from a good initial guess. "
   ]
  },
  {
   "cell_type": "code",
   "execution_count": 17,
   "metadata": {
    "pycharm": {
     "name": "#%%\n"
    },
    "tags": []
   },
   "source": [
    "eq, solver_outputs = eq.solve(\n",
    "    objective=objective,  # solve JxB-grad(p)=0\n",
    "    constraints=constraints,  # fixed-boundary constraints\n",
    "    optimizer=optimizer,  # we can use the same optimizer as before\n",
    "    ftol=1e-2,  # stopping tolerance on the function value\n",
    "    xtol=1e-4,  # stopping tolerance on the step size\n",
    "    gtol=1e-6,  # stopping tolerance on the gradient\n",
    "    maxiter=20,  # maximum number of iterations\n",
    "    verbose=3,  # display output at each iteration\n",
    ")"
   ],
   "outputs": []
  },
  {
   "cell_type": "markdown",
   "metadata": {
    "pycharm": {
     "name": "#%% md\n"
    }
   },
   "source": [
    "We can analyze our final solution using the same plotting commands as before. Note that the flux surfaces and rotational transform profile only had small corrections compared to the perturbed solution, but the equilibrium error was significantly improved. "
   ]
  },
  {
   "cell_type": "code",
   "execution_count": 18,
   "metadata": {
    "pycharm": {
     "name": "#%%\n"
    }
   },
   "source": [
    "plot_surfaces(eq)\n",
    "plot_1d(eq, \"iota\")\n",
    "plot_section(eq, \"|J|\", log=True)\n",
    "plot_section(eq, \"|F|\", norm_F=True, log=True);"
   ],
   "outputs": []
  },
  {
   "cell_type": "markdown",
   "metadata": {
    "pycharm": {
     "name": "#%% md\n"
    }
   },
   "source": [
    "## Finite beta stellarator"
   ]
  },
  {
   "cell_type": "markdown",
   "metadata": {
    "pycharm": {
     "name": "#%% md\n"
    }
   },
   "source": [
    "We've solved for a vacuum stellarator, but what if we now want to look at what happens at finite beta? We can simply apply a pressure perturbation.\n"
   ]
  },
  {
   "cell_type": "code",
   "execution_count": 19,
   "metadata": {
    "pycharm": {
     "name": "#%%\n"
    }
   },
   "source": [
    "from desc.objectives import ForceBalance\n",
    "\n",
    "objective = ObjectiveFunction(ForceBalance(eq=eq))\n",
    "constraints = get_fixed_boundary_constraints(eq=eq, profiles=True)"
   ],
   "outputs": []
  },
  {
   "cell_type": "markdown",
   "metadata": {
    "pycharm": {
     "name": "#%% md\n"
    }
   },
   "source": [
    "Next we'll make our desired pressure profile, corresponding to a profile of the form $p(\\rho) = 2000(1 - 2 \\rho^2 + \\rho^4) ~\\text{Pa}$"
   ]
  },
  {
   "cell_type": "code",
   "execution_count": 20,
   "metadata": {
    "pycharm": {
     "name": "#%%\n"
    }
   },
   "source": [
    "from desc.profiles import PowerSeriesProfile\n",
    "\n",
    "pressure = PowerSeriesProfile([2000, 0, -4000, 0, 2000])\n",
    "pressure.change_resolution(eq.L)"
   ],
   "outputs": []
  },
  {
   "cell_type": "code",
   "execution_count": 21,
   "metadata": {
    "pycharm": {
     "name": "#%%\n"
    }
   },
   "source": [
    "eq.perturb(\n",
    "    deltas={\"p_l\": pressure.params - eq.p_l},  # change in the pressure coefficients\n",
    "    objective=objective,  # perturb the solution such that JxB-grad(p)=0 is maintained\n",
    "    constraints=constraints,  # same constraints used in the equilibrium solve\n",
    "    order=2,  # use a 2nd-order Taylor expansion\n",
    "    verbose=2,  # display timing data\n",
    ")"
   ],
   "outputs": []
  },
  {
   "cell_type": "markdown",
   "metadata": {
    "pycharm": {
     "name": "#%% md\n"
    }
   },
   "source": [
    "We can see that the axis has moved due to the Shafranov shift, and the pressure profile is now nonzero. The force balance error is significantly larger, however."
   ]
  },
  {
   "cell_type": "code",
   "execution_count": 22,
   "metadata": {
    "pycharm": {
     "name": "#%%\n"
    }
   },
   "source": [
    "plot_surfaces(eq)\n",
    "plot_1d(eq, \"p\")\n",
    "plot_section(eq, \"|F|\", norm_F=True, log=True);"
   ],
   "outputs": []
  },
  {
   "cell_type": "code",
   "execution_count": 23,
   "metadata": {
    "pycharm": {
     "name": "#%%\n"
    }
   },
   "source": [
    "eq, solver_outputs = eq.solve(\n",
    "    objective=objective,  # solve JxB-grad(p)=0\n",
    "    constraints=constraints,  # fixed-boundary and profile constraints\n",
    "    optimizer=optimizer,  # we can use the same optimizer as before\n",
    "    ftol=1e-2,  # stopping tolerance on the function value\n",
    "    xtol=1e-4,  # stopping tolerance on the step size\n",
    "    gtol=1e-6,  # stopping tolerance on the gradient\n",
    "    maxiter=75,  # maximum number of iterations\n",
    "    verbose=3,  # display output at each iteration\n",
    ")"
   ],
   "outputs": []
  },
  {
   "cell_type": "markdown",
   "metadata": {
    "pycharm": {
     "name": "#%% md\n"
    }
   },
   "source": [
    "After re-solving, we find the force blance residuals are much lower, less than 1\\% normalized errors throughout the volume:"
   ]
  },
  {
   "cell_type": "code",
   "execution_count": 24,
   "metadata": {
    "pycharm": {
     "name": "#%%\n"
    },
    "tags": []
   },
   "source": [
    "plot_section(eq, \"|F|\", norm_F=True, log=True);"
   ],
   "outputs": []
  }
 ],
 "metadata": {
  "kernelspec": {
   "display_name": "Python 3 (ipykernel)",
   "language": "python",
   "name": "python3"
  },
  "language_info": {
   "codemirror_mode": {
    "name": "ipython",
    "version": 3
   },
   "file_extension": ".py",
   "mimetype": "text/x-python",
   "name": "python",
   "nbconvert_exporter": "python",
   "pygments_lexer": "ipython3",
   "version": "3.10.11"
  },
  "vscode": {
   "interpreter": {
    "hash": "916dbcbb3f70747c44a77c7bcd40155683ae19c65e1c03b4aa3499c5328201f1"
   }
  }
 },
 "nbformat": 4,
 "nbformat_minor": 4
}
