{
 "cells": [
  {
   "cell_type": "markdown",
   "metadata": {},
   "source": [
    "# Bootstrap Current Self-Consistency"
   ]
  },
  {
   "cell_type": "markdown",
   "metadata": {},
   "source": [
    "This tutorial demonstrates how to optimize a quasi-symmetric equilibrium to have a self-consistent bootstrap current profile. \n",
    "This is performed by minimizing the difference between the toroidal currents $\\langle J \\cdot B \\rangle$ computed from the MHD equilibrium and from the Redl formula. \n",
    "The Redl formula is only valid in the limit of perfect quasi-symmetry, so this procedure will not work for other configurations that are not quasi-symmetric. \n",
    "\n",
    "There are two methods that can be used, and both will be shown: \n",
    "\n",
    "1. Optimize the current profile for self-consistency\n",
    "2. Iteratively solve the equilibrium with new current profiles\n",
    "\n",
    "These methods should be equivalent, although one might be faster than the other depending on the particular problem. "
   ]
  },
  {
   "cell_type": "markdown",
   "metadata": {},
   "source": [
    "If you have access to a GPU, uncomment the following two lines: "
   ]
  },
  {
   "cell_type": "code",
   "execution_count": 1,
   "metadata": {},
   "outputs": [],
   "source": [
    "# from desc import set_device\n",
    "# set_device(\"gpu\")"
   ]
  },
  {
   "cell_type": "code",
   "execution_count": 2,
   "metadata": {},
   "outputs": [],
   "source": [
    "import sys\n",
    "import os\n",
    "\n",
    "sys.path.insert(0, os.path.abspath(\".\"))\n",
    "sys.path.append(os.path.abspath(\"../../../\"))"
   ]
  },
  {
   "cell_type": "code",
   "execution_count": 3,
   "metadata": {},
   "outputs": [
    {
     "name": "stdout",
     "output_type": "stream",
     "text": [
      "DESC version 0.10.2+305.gb1abd2fa,using JAX backend, jax version=0.4.11, jaxlib version=0.4.11, dtype=float64\n",
      "Using device: CPU, with 10.29 GB available memory\n"
     ]
    }
   ],
   "source": [
    "import numpy as np\n",
    "import matplotlib.pyplot as plt\n",
    "\n",
    "plt.rcParams[\"font.size\"] = 14\n",
    "\n",
    "from desc.compat import rescale\n",
    "from desc.equilibrium import EquilibriaFamily\n",
    "from desc.examples import get\n",
    "from desc.grid import LinearGrid\n",
    "from desc.objectives import (\n",
    "    BootstrapRedlConsistency,\n",
    "    FixAtomicNumber,\n",
    "    FixBoundaryR,\n",
    "    FixBoundaryZ,\n",
    "    FixCurrent,\n",
    "    FixElectronDensity,\n",
    "    FixElectronTemperature,\n",
    "    FixIonTemperature,\n",
    "    FixPsi,\n",
    "    ForceBalance,\n",
    "    ObjectiveFunction,\n",
    ")\n",
    "from desc.plotting import plot_1d\n",
    "from desc.profiles import PowerSeriesProfile"
   ]
  },
  {
   "cell_type": "markdown",
   "metadata": {},
   "source": [
    "As an example, we will reproduce the QA results from [Landreman et al. (2022)](https://doi.org/10.1063/5.0098166). \n",
    "\n",
    "We will start with the \"precise QA\" example equilibrium, scaled to the ARIES-CS reactor size. "
   ]
  },
  {
   "cell_type": "code",
   "execution_count": 4,
   "metadata": {},
   "outputs": [],
   "source": [
    "eq0 = get(\"precise_QA\")\n",
    "eq0 = rescale(eq0, L=(\"R0\", 10), B=(\"B0\", 5.86))"
   ]
  },
  {
   "cell_type": "markdown",
   "metadata": {},
   "source": [
    "Calculating the bootstrap current requires knowledge of the temperature and density profiles for each species in the plasma. \n",
    "We replace the vacuum pressure profile with the following kinetic profiles corresponding to $\\langle\\beta\\rangle=2.5\\%$: \n",
    "\n",
    "$n_e = n_i = 2.38\\times10^{20} (1 - \\rho^{10}) ~\\text{m}^{-3}$\n",
    "\n",
    "$T_e = T_i = 9.45\\times10^{3} (1 - \\rho^{2}) ~\\text{eV}$\n",
    "\n",
    "The temperature profiles must be given for both ions and electrons, but only the electron density profile is specified. \n",
    "The ion density profile is given by the effective atomic number $Z_{eff}$ as $n_i = n_e / Z_{eff}$. "
   ]
  },
  {
   "cell_type": "code",
   "execution_count": 5,
   "metadata": {},
   "outputs": [],
   "source": [
    "eq0.pressure = None\n",
    "eq0.atomic_number = PowerSeriesProfile([1])\n",
    "eq0.electron_density = PowerSeriesProfile(params=[1, -1], modes=[0, 10]) * 2.38e20\n",
    "eq0.electron_temperature = PowerSeriesProfile(params=[1, -1], modes=[0, 2]) * 9.45e3\n",
    "eq0.ion_temperature = PowerSeriesProfile(params=[1, -1], modes=[0, 2]) * 9.45e3\n",
    "# the default current profile is the vacuum case eq0.current = PowerSeriesProfile([0])"
   ]
  },
  {
   "cell_type": "markdown",
   "metadata": {},
   "source": [
    "We need to re-solve the equilibrium force balance with the new profiles. "
   ]
  },
  {
   "cell_type": "code",
   "execution_count": 6,
   "metadata": {},
   "outputs": [
    {
     "name": "stdout",
     "output_type": "stream",
     "text": [
      "Building objective: force\n",
      "Precomputing transforms\n",
      "Timer: Precomputing transforms = 1.04 sec\n",
      "Timer: Objective build = 2.48 sec\n",
      "Timer: Linear constraint projection build = 5.53 sec\n",
      "Compiling objective function and derivatives: ['force']\n",
      "Timer: Objective compilation time = 1.96 sec\n",
      "Timer: Jacobian compilation time = 5.45 sec\n",
      "Timer: Total compilation time = 7.42 sec\n",
      "Number of parameters: 856\n",
      "Number of objectives: 5346\n",
      "Starting optimization\n",
      "Using method: lsq-exact\n",
      "   Iteration     Total nfev        Cost      Cost reduction    Step norm     Optimality   \n",
      "       0              1          1.506e-02                                    1.077e+01   \n",
      "       1              4          2.845e-04      1.478e-02      9.222e-02      2.691e+00   \n",
      "       2              5          1.830e-04      1.014e-04      1.397e-01      1.249e+00   \n",
      "       3              6          1.089e-04      7.414e-05      1.213e-01      7.621e-01   \n",
      "       4              7          3.200e-05      7.690e-05      9.716e-02      6.395e-01   \n",
      "       5              8          1.869e-05      1.331e-05      9.350e-02      2.676e-01   \n",
      "       6             10          1.651e-06      1.704e-05      2.585e-02      7.973e-02   \n",
      "       7             12          6.750e-07      9.757e-07      1.704e-02      6.897e-02   \n",
      "       8             14          4.748e-07      2.002e-07      7.785e-03      1.575e-02   \n",
      "       9             15          4.482e-07      2.658e-08      1.338e-02      9.857e-03   \n",
      "      10             16          4.128e-07      3.545e-08      1.298e-02      2.335e-03   \n",
      "      11             18          3.932e-07      1.959e-08      6.564e-03      5.648e-04   \n",
      "      12             19          3.792e-07      1.398e-08      1.314e-02      1.775e-03   \n",
      "      13             20          3.616e-07      1.763e-08      1.309e-02      1.628e-03   \n",
      "      14             21          3.464e-07      1.518e-08      1.294e-02      1.850e-03   \n",
      "      15             22          3.335e-07      1.289e-08      1.267e-02      2.304e-03   \n",
      "      16             23          3.226e-07      1.093e-08      1.239e-02      2.642e-03   \n",
      "      17             24          3.137e-07      8.889e-09      1.217e-02      2.861e-03   \n",
      "      18             25          3.081e-07      5.589e-09      1.204e-02      3.115e-03   \n",
      "      19             27          2.977e-07      1.040e-08      3.093e-03      3.110e-04   \n",
      "      20             28          2.960e-07      1.678e-09      5.981e-03      1.224e-03   \n",
      "Optimization terminated successfully.\n",
      "`ftol` condition satisfied.\n",
      "         Current function value: 2.960e-07\n",
      "         Total delta_x: 5.126e-01\n",
      "         Iterations: 20\n",
      "         Function evaluations: 28\n",
      "         Jacobian evaluations: 21\n",
      "Timer: Solution time = 1.15 min\n",
      "Timer: Avg time per step = 3.31 sec\n",
      "Start of solver\n",
      "Total (sum of squares):  1.506e-02, \n",
      "Maximum absolute Force error:  6.502e+07 (N)\n",
      "Minimum absolute Force error:  2.968e-01 (N)\n",
      "Average absolute Force error:  5.342e+06 (N)\n",
      "Maximum absolute Force error:  2.008e-02 (normalized)\n",
      "Minimum absolute Force error:  9.164e-11 (normalized)\n",
      "Average absolute Force error:  1.650e-03 (normalized)\n",
      "R boundary error:  0.000e+00 (m)\n",
      "Z boundary error:  0.000e+00 (m)\n",
      "Fixed-Psi error:  0.000e+00 (Wb)\n",
      "Fixed-current profile error:  0.000e+00 (A)\n",
      "Fixed-electron-density profile error:  0.000e+00 (m^-3)\n",
      "Fixed-electron-temperature profile error:  0.000e+00 (eV)\n",
      "Fixed-ion-temperature profile error:  0.000e+00 (eV)\n",
      "Fixed-atomic-number profile error:  0.000e+00 (dimensionless)\n",
      "End of solver\n",
      "Total (sum of squares):  2.960e-07, \n",
      "Maximum absolute Force error:  9.149e+05 (N)\n",
      "Minimum absolute Force error:  5.582e+00 (N)\n",
      "Average absolute Force error:  3.383e+04 (N)\n",
      "Maximum absolute Force error:  2.825e-04 (normalized)\n",
      "Minimum absolute Force error:  1.724e-09 (normalized)\n",
      "Average absolute Force error:  1.045e-05 (normalized)\n",
      "R boundary error:  6.836e-17 (m)\n",
      "Z boundary error:  2.883e-17 (m)\n",
      "Fixed-Psi error:  0.000e+00 (Wb)\n",
      "Fixed-current profile error:  0.000e+00 (A)\n",
      "Fixed-electron-density profile error:  0.000e+00 (m^-3)\n",
      "Fixed-electron-temperature profile error:  0.000e+00 (eV)\n",
      "Fixed-ion-temperature profile error:  0.000e+00 (eV)\n",
      "Fixed-atomic-number profile error:  0.000e+00 (dimensionless)\n"
     ]
    }
   ],
   "source": [
    "eq0, _ = eq0.solve(objective=\"force\", optimizer=\"lsq-exact\", verbose=3)"
   ]
  },
  {
   "cell_type": "markdown",
   "metadata": {},
   "source": [
    "Now we have our initial equilibrium, which does not have a self-consistent bootstrap current: "
   ]
  },
  {
   "cell_type": "code",
   "execution_count": 7,
   "metadata": {},
   "outputs": [
    {
     "data": {
      "text/plain": [
       "Text(0.5, 1.0, 'Initial Equilibrium')"
      ]
     },
     "execution_count": 7,
     "metadata": {},
     "output_type": "execute_result"
    },
    {
     "name": "stderr",
     "output_type": "stream",
     "text": [
      "/home/dudt/anaconda3/envs/desc/lib/python3.10/site-packages/IPython/core/pylabtools.py:152: UserWarning: This figure includes Axes that are not compatible with tight_layout, so results might be incorrect.\n",
      "  fig.canvas.print_figure(bytes_io, **kw)\n"
     ]
    },
    {
     "data": {
      "image/png": "[encoded data removed]",
      "text/plain": [
       "<Figure size 384.168x384.168 with 1 Axes>"
      ]
     },
     "metadata": {},
     "output_type": "display_data"
    }
   ],
   "source": [
    "fig, ax = plot_1d(eq0, \"<J*B> Redl\", linecolor=\"b\", lw=2, label=\"Redl\")\n",
    "fig, ax = plot_1d(eq0, \"<J*B>\", linecolor=\"r\", lw=2, label=\"MHD\", ax=ax)\n",
    "ax.legend(loc=\"best\")\n",
    "ax.set_title(\"Initial Equilibrium\")"
   ]
  },
  {
   "cell_type": "markdown",
   "metadata": {},
   "source": [
    "We need to create a grid on which to evaluate the boootstrap current self-consistency. \n",
    "The bootstrap current is a radial profile, but the grid must have finite poloidal and toroidal resolution to accurately compute flux surface quantities. \n",
    "The Redl formula is undefined where the kinetic profiles vanish, so in our example we do not include points at $\\rho=0$ or $\\rho=1$. "
   ]
  },
  {
   "cell_type": "code",
   "execution_count": 8,
   "metadata": {},
   "outputs": [],
   "source": [
    "grid = LinearGrid(\n",
    "    M=eq0.M_grid,\n",
    "    N=eq0.N_grid,\n",
    "    NFP=eq0.NFP,\n",
    "    sym=eq0.sym,\n",
    "    rho=np.linspace(1 / eq0.L_grid, 1, eq0.L_grid) - 1 / (2 * eq0.L_grid),\n",
    ")"
   ]
  },
  {
   "cell_type": "markdown",
   "metadata": {},
   "source": [
    "Our current profile will be represented as a power series of the form: \n",
    "\n",
    "$I = c_0 + c_1 \\rho + c_2 \\rho^2 + \\mathcal{O}(\\rho^3)$\n",
    "\n",
    "Physically, the current should vanish on the magnetic axis so $c_0 = 0$. \n",
    "And in order for the MHD equilibrium to be analytic, it should scale as $\\mathcal{O}(\\rho^2)$ near the magnetic axis so $c_1 = 0$ also. \n",
    "However, the Redl bootstrap current formula scales as $\\mathcal{O}(\\sqrt{\\rho})$ near the magnetic axis. \n",
    "This is incorrect, because the drift-kinetic equation from the Redl formula does not account for finite orbit width effects that become important near the axis. \n",
    "\n",
    "Typically, we use even power series with `sym=True` for all equilibrium profiles to give the desired analycity conditions. \n",
    "For bootstrap current optimizations, it is recommended to use the full power series with `sym=False` while also enforcing $c_0 = c_1 = 0$. \n",
    "This prevents getting good self-consistency near the magnetic axis, but allows for good agreement throughout the rest of the plasma volume and results in high quality equilibria overall. \n"
   ]
  },
  {
   "cell_type": "code",
   "execution_count": null,
   "metadata": {},
   "outputs": [],
   "source": [
    "eq0.current = PowerSeriesProfile(np.zeros((eq0.L + 1,)), sym=False)"
   ]
  },
  {
   "cell_type": "markdown",
   "metadata": {},
   "source": [
    "### 1. Optimization"
   ]
  },
  {
   "cell_type": "markdown",
   "metadata": {},
   "source": [
    "In this method, we will optimize the current profile to minimize the self-consistency errors evaluated by the `BootstrapRedlConsistency` objective. \n",
    "This objective requires the helicity, which for QA is $(M, N) = (1, 0)$. \n",
    "\n",
    "In this example we will only optimize the current profile, so all other profiles and the plasma boundary are constrained to be fixed. \n",
    "It is recommended to use a very small value for `gtol` when optimizing the bootstrap current. "
   ]
  },
  {
   "cell_type": "code",
   "execution_count": 9,
   "metadata": {},
   "outputs": [],
   "source": [
    "eq1 = eq0.copy()"
   ]
  },
  {
   "cell_type": "code",
   "execution_count": 10,
   "metadata": {},
   "outputs": [
    {
     "name": "stdout",
     "output_type": "stream",
     "text": [
      "Building objective: Bootstrap current self-consistency (Redl)\n",
      "Precomputing transforms\n",
      "Timer: Precomputing transforms = 1.13 sec\n",
      "Timer: Objective build = 2.37 sec\n",
      "Building objective: force\n",
      "Precomputing transforms\n",
      "Timer: Precomputing transforms = 135 ms\n",
      "Timer: Objective build = 351 ms\n",
      "Timer: Proximal projection build = 5.60 sec\n",
      "Timer: Linear constraint projection build = 2.96 sec\n",
      "Compiling objective function and derivatives: ['Bootstrap current self-consistency (Redl)']\n",
      "Timer: Objective compilation time = 2.33 sec\n",
      "Timer: Jacobian compilation time = 9.37 sec\n",
      "Timer: Total compilation time = 11.7 sec\n",
      "Compiling objective function and derivatives: ['force']\n",
      "Timer: Objective compilation time = 2.67 sec\n",
      "Timer: Jacobian compilation time = 6.73 sec\n",
      "Timer: Total compilation time = 9.41 sec\n",
      "Number of parameters: 7\n",
      "Number of objectives: 16\n",
      "Starting optimization\n",
      "Using method: proximal-lsq-exact\n",
      "   Iteration     Total nfev        Cost      Cost reduction    Step norm     Optimality   \n",
      "       0              1          2.258e-02                                    1.935e-08   \n",
      "       1              2          9.430e-05      2.249e-02      1.237e+07      1.029e-09   \n",
      "       2              3          2.292e-06      9.201e-05      2.480e+07      4.206e-12   \n",
      "       3              4          1.750e-06      5.424e-07      4.868e+07      1.039e-11   \n",
      "       4              5          1.477e-06      2.729e-07      6.573e+07      8.437e-12   \n",
      "       5             42          1.477e-06      0.000e+00      0.000e+00      8.437e-12   \n",
      "Warning: A bad approximation caused failure to predict improvement.\n",
      "         Current function value: 1.477e-06\n",
      "         Total delta_x: 1.391e+08\n",
      "         Iterations: 5\n",
      "         Function evaluations: 42\n",
      "         Jacobian evaluations: 5\n",
      "Timer: Solution time = 8.14 min\n",
      "Timer: Avg time per step = 1.35 min\n",
      "Start of solver\n",
      "Total (sum of squares):  1.477e-06, \n",
      "Maximum absolute Bootstrap current self-consistency error:  3.941e+04 (T A m^-2)\n",
      "Minimum absolute Bootstrap current self-consistency error:  3.852e+03 (T A m^-2)\n",
      "Average absolute Bootstrap current self-consistency error:  1.294e+04 (T A m^-2)\n",
      "Maximum absolute Bootstrap current self-consistency error:  4.200e-03 (normalized)\n",
      "Minimum absolute Bootstrap current self-consistency error:  4.106e-04 (normalized)\n",
      "Average absolute Bootstrap current self-consistency error:  1.379e-03 (normalized)\n",
      "Fixed-atomic-number profile error:  0.000e+00 (dimensionless)\n",
      "R boundary error:  8.358e-17 (m)\n",
      "Z boundary error:  6.953e-18 (m)\n",
      "Fixed-current profile error:  0.000e+00 (A)\n",
      "Fixed-electron-density profile error:  0.000e+00 (m^-3)\n",
      "Fixed-electron-temperature profile error:  0.000e+00 (eV)\n",
      "Fixed-ion-temperature profile error:  0.000e+00 (eV)\n",
      "Fixed-Psi error:  0.000e+00 (Wb)\n",
      "Maximum absolute Force error:  1.432e+06 (N)\n",
      "Minimum absolute Force error:  1.249e+01 (N)\n",
      "Average absolute Force error:  8.006e+04 (N)\n",
      "Maximum absolute Force error:  4.472e-04 (normalized)\n",
      "Minimum absolute Force error:  3.900e-09 (normalized)\n",
      "Average absolute Force error:  2.500e-05 (normalized)\n",
      "End of solver\n",
      "Total (sum of squares):  1.477e-06, \n",
      "Maximum absolute Bootstrap current self-consistency error:  3.941e+04 (T A m^-2)\n",
      "Minimum absolute Bootstrap current self-consistency error:  3.852e+03 (T A m^-2)\n",
      "Average absolute Bootstrap current self-consistency error:  1.294e+04 (T A m^-2)\n",
      "Maximum absolute Bootstrap current self-consistency error:  4.200e-03 (normalized)\n",
      "Minimum absolute Bootstrap current self-consistency error:  4.106e-04 (normalized)\n",
      "Average absolute Bootstrap current self-consistency error:  1.379e-03 (normalized)\n",
      "Fixed-atomic-number profile error:  0.000e+00 (dimensionless)\n",
      "R boundary error:  8.358e-17 (m)\n",
      "Z boundary error:  6.953e-18 (m)\n",
      "Fixed-current profile error:  0.000e+00 (A)\n",
      "Fixed-electron-density profile error:  0.000e+00 (m^-3)\n",
      "Fixed-electron-temperature profile error:  0.000e+00 (eV)\n",
      "Fixed-ion-temperature profile error:  0.000e+00 (eV)\n",
      "Fixed-Psi error:  0.000e+00 (Wb)\n",
      "Maximum absolute Force error:  1.432e+06 (N)\n",
      "Minimum absolute Force error:  1.249e+01 (N)\n",
      "Average absolute Force error:  8.006e+04 (N)\n",
      "Maximum absolute Force error:  4.472e-04 (normalized)\n",
      "Minimum absolute Force error:  3.900e-09 (normalized)\n",
      "Average absolute Force error:  2.500e-05 (normalized)\n"
     ]
    }
   ],
   "source": [
    "objective = ObjectiveFunction(\n",
    "    BootstrapRedlConsistency(eq=eq1, grid=grid, helicity=(1, 0)),\n",
    "    verbose=0,\n",
    ")\n",
    "constraints = (\n",
    "    FixAtomicNumber(eq=eq1),\n",
    "    FixBoundaryR(eq=eq1),\n",
    "    FixBoundaryZ(eq=eq1),\n",
    "    FixCurrent(eq=eq1, indices=[0, 1]),  # fix c_0=c_1=0 current profile coefficients\n",
    "    FixElectronDensity(eq=eq1),\n",
    "    FixElectronTemperature(eq=eq1),\n",
    "    FixIonTemperature(eq=eq1),\n",
    "    FixPsi(eq=eq1),\n",
    "    ForceBalance(eq=eq1),\n",
    ")\n",
    "eq1, _ = eq1.optimize(\n",
    "    objective=objective,\n",
    "    constraints=constraints,\n",
    "    optimizer=\"proximal-lsq-exact\",\n",
    "    gtol=1e-16,  # it is recommended to use a very small gtol\n",
    "    verbose=3,\n",
    ")"
   ]
  },
  {
   "cell_type": "markdown",
   "metadata": {},
   "source": [
    "When plotting the bootstrap current profiles, we see the MHD equilibrium now has very good agreement with the Redl formula. "
   ]
  },
  {
   "cell_type": "code",
   "execution_count": 19,
   "metadata": {},
   "outputs": [
    {
     "data": {
      "text/plain": [
       "Text(0.5, 1.0, 'Method 1: Optimization')"
      ]
     },
     "execution_count": 19,
     "metadata": {},
     "output_type": "execute_result"
    },
    {
     "name": "stderr",
     "output_type": "stream",
     "text": [
      "/home/dudt/anaconda3/envs/desc/lib/python3.10/site-packages/IPython/core/pylabtools.py:152: UserWarning: This figure includes Axes that are not compatible with tight_layout, so results might be incorrect.\n",
      "  fig.canvas.print_figure(bytes_io, **kw)\n"
     ]
    },
    {
     "data": {
      "image/png": "[encoded data removed]",
      "text/plain": [
       "<Figure size 384.168x384.168 with 1 Axes>"
      ]
     },
     "metadata": {},
     "output_type": "display_data"
    }
   ],
   "source": [
    "fig, ax = plot_1d(eq1, \"<J*B> Redl\", linecolor=\"b\", lw=2, label=\"Redl\")\n",
    "fig, ax = plot_1d(eq1, \"<J*B>\", linecolor=\"r\", lw=2, label=\"MHD\", ax=ax)\n",
    "ax.legend(loc=\"best\")\n",
    "ax.set_title(\"Method 1: Optimization\")"
   ]
  },
  {
   "cell_type": "markdown",
   "metadata": {},
   "source": [
    "### 2. Iterative Solves"
   ]
  },
  {
   "cell_type": "markdown",
   "metadata": {},
   "source": [
    "In this method, we iteratively solve the equilibrium with updated guesses for the current profile. \n",
    "The current profile is computed such that the parallel current is consistent with the Redl formula, according to Equation C3 in [Landreman & Catto (2012)](https://doi.org/10.1063/1.3693187). \n",
    "This is the same approach as STELLOPT VBOOT with SFINCS, and it usually converges in only a few iterations. "
   ]
  },
  {
   "cell_type": "code",
   "execution_count": 12,
   "metadata": {},
   "outputs": [],
   "source": [
    "eq2 = eq0.copy()\n",
    "fam2 = EquilibriaFamily(eq2)"
   ]
  },
  {
   "cell_type": "code",
   "execution_count": 17,
   "metadata": {},
   "outputs": [
    {
     "name": "stdout",
     "output_type": "stream",
     "text": [
      "Building objective: force\n",
      "Precomputing transforms\n",
      "Timer: Precomputing transforms = 123 ms\n",
      "Timer: Objective build = 330 ms\n",
      "Timer: Linear constraint projection build = 2.30 sec\n",
      "Compiling objective function and derivatives: ['force']\n",
      "Timer: Objective compilation time = 1.58 sec\n",
      "Timer: Jacobian compilation time = 5.11 sec\n",
      "Timer: Total compilation time = 6.70 sec\n",
      "Number of parameters: 856\n",
      "Number of objectives: 5346\n",
      "Starting optimization\n",
      "Using method: lsq-exact\n",
      "   Iteration     Total nfev        Cost      Cost reduction    Step norm     Optimality   \n",
      "       0              1          1.847e-06                                    8.794e-02   \n",
      "       1              2          1.507e-06      3.407e-07      3.380e-03      1.274e-03   \n",
      "       2              3          1.506e-06      4.310e-10      2.323e-03      5.321e-04   \n",
      "Optimization terminated successfully.\n",
      "`ftol` condition satisfied.\n",
      "         Current function value: 1.506e-06\n",
      "         Total delta_x: 4.997e-03\n",
      "         Iterations: 2\n",
      "         Function evaluations: 3\n",
      "         Jacobian evaluations: 3\n",
      "Timer: Solution time = 6.93 sec\n",
      "Timer: Avg time per step = 2.31 sec\n",
      "Start of solver\n",
      "Total (sum of squares):  1.847e-06, \n",
      "Maximum absolute Force error:  1.353e+06 (N)\n",
      "Minimum absolute Force error:  4.854e+00 (N)\n",
      "Average absolute Force error:  8.028e+04 (N)\n",
      "Maximum absolute Force error:  3.796e-04 (normalized)\n",
      "Minimum absolute Force error:  1.362e-09 (normalized)\n",
      "Average absolute Force error:  2.252e-05 (normalized)\n",
      "R boundary error:  0.000e+00 (m)\n",
      "Z boundary error:  0.000e+00 (m)\n",
      "Fixed-Psi error:  0.000e+00 (Wb)\n",
      "Fixed-current profile error:  0.000e+00 (A)\n",
      "Fixed-electron-density profile error:  0.000e+00 (m^-3)\n",
      "Fixed-electron-temperature profile error:  0.000e+00 (eV)\n",
      "Fixed-ion-temperature profile error:  0.000e+00 (eV)\n",
      "Fixed-atomic-number profile error:  0.000e+00 (dimensionless)\n",
      "End of solver\n",
      "Total (sum of squares):  1.506e-06, \n",
      "Maximum absolute Force error:  1.398e+06 (N)\n",
      "Minimum absolute Force error:  3.253e+01 (N)\n",
      "Average absolute Force error:  7.267e+04 (N)\n",
      "Maximum absolute Force error:  3.922e-04 (normalized)\n",
      "Minimum absolute Force error:  9.125e-09 (normalized)\n",
      "Average absolute Force error:  2.039e-05 (normalized)\n",
      "R boundary error:  0.000e+00 (m)\n",
      "Z boundary error:  0.000e+00 (m)\n",
      "Fixed-Psi error:  0.000e+00 (Wb)\n",
      "Fixed-current profile error:  0.000e+00 (A)\n",
      "Fixed-electron-density profile error:  0.000e+00 (m^-3)\n",
      "Fixed-electron-temperature profile error:  0.000e+00 (eV)\n",
      "Fixed-ion-temperature profile error:  0.000e+00 (eV)\n",
      "Fixed-atomic-number profile error:  0.000e+00 (dimensionless)\n",
      "Building objective: force\n",
      "Precomputing transforms\n",
      "Timer: Precomputing transforms = 157 ms\n",
      "Timer: Objective build = 396 ms\n",
      "Timer: Linear constraint projection build = 2.45 sec\n",
      "Compiling objective function and derivatives: ['force']\n",
      "Timer: Objective compilation time = 1.67 sec\n",
      "Timer: Jacobian compilation time = 5.35 sec\n",
      "Timer: Total compilation time = 7.02 sec\n",
      "Number of parameters: 856\n",
      "Number of objectives: 5346\n",
      "Starting optimization\n",
      "Using method: lsq-exact\n",
      "   Iteration     Total nfev        Cost      Cost reduction    Step norm     Optimality   \n",
      "       0              1          1.508e-06                                    1.173e-02   \n",
      "       1              2          1.503e-06      5.430e-09      2.086e-03      8.608e-04   \n",
      "Optimization terminated successfully.\n",
      "`ftol` condition satisfied.\n",
      "         Current function value: 1.503e-06\n",
      "         Total delta_x: 2.086e-03\n",
      "         Iterations: 1\n",
      "         Function evaluations: 2\n",
      "         Jacobian evaluations: 2\n",
      "Timer: Solution time = 7.75 sec\n",
      "Timer: Avg time per step = 3.87 sec\n",
      "Start of solver\n",
      "Total (sum of squares):  1.508e-06, \n",
      "Maximum absolute Force error:  1.402e+06 (N)\n",
      "Minimum absolute Force error:  4.254e+01 (N)\n",
      "Average absolute Force error:  7.274e+04 (N)\n",
      "Maximum absolute Force error:  3.933e-04 (normalized)\n",
      "Minimum absolute Force error:  1.193e-08 (normalized)\n",
      "Average absolute Force error:  2.040e-05 (normalized)\n",
      "R boundary error:  0.000e+00 (m)\n",
      "Z boundary error:  0.000e+00 (m)\n",
      "Fixed-Psi error:  0.000e+00 (Wb)\n",
      "Fixed-current profile error:  0.000e+00 (A)\n",
      "Fixed-electron-density profile error:  0.000e+00 (m^-3)\n",
      "Fixed-electron-temperature profile error:  0.000e+00 (eV)\n",
      "Fixed-ion-temperature profile error:  0.000e+00 (eV)\n",
      "Fixed-atomic-number profile error:  0.000e+00 (dimensionless)\n",
      "End of solver\n",
      "Total (sum of squares):  1.503e-06, \n",
      "Maximum absolute Force error:  1.399e+06 (N)\n",
      "Minimum absolute Force error:  3.092e+00 (N)\n",
      "Average absolute Force error:  7.264e+04 (N)\n",
      "Maximum absolute Force error:  3.924e-04 (normalized)\n",
      "Minimum absolute Force error:  8.674e-10 (normalized)\n",
      "Average absolute Force error:  2.037e-05 (normalized)\n",
      "R boundary error:  0.000e+00 (m)\n",
      "Z boundary error:  0.000e+00 (m)\n",
      "Fixed-Psi error:  0.000e+00 (Wb)\n",
      "Fixed-current profile error:  3.725e-09 (A)\n",
      "Fixed-electron-density profile error:  0.000e+00 (m^-3)\n",
      "Fixed-electron-temperature profile error:  0.000e+00 (eV)\n",
      "Fixed-ion-temperature profile error:  0.000e+00 (eV)\n",
      "Fixed-atomic-number profile error:  0.000e+00 (dimensionless)\n",
      "Building objective: force\n",
      "Precomputing transforms\n",
      "Timer: Precomputing transforms = 160 ms\n",
      "Timer: Objective build = 402 ms\n",
      "Timer: Linear constraint projection build = 2.47 sec\n",
      "Compiling objective function and derivatives: ['force']\n",
      "Timer: Objective compilation time = 1.72 sec\n",
      "Timer: Jacobian compilation time = 5.08 sec\n",
      "Timer: Total compilation time = 6.81 sec\n",
      "Number of parameters: 856\n",
      "Number of objectives: 5346\n",
      "Starting optimization\n",
      "Using method: lsq-exact\n",
      "   Iteration     Total nfev        Cost      Cost reduction    Step norm     Optimality   \n",
      "       0              1          1.503e-06                                    5.803e-04   \n",
      "       1              2          1.503e-06      2.219e-10      1.023e-03      1.016e-04   \n",
      "Optimization terminated successfully.\n",
      "`ftol` condition satisfied.\n",
      "         Current function value: 1.503e-06\n",
      "         Total delta_x: 1.023e-03\n",
      "         Iterations: 1\n",
      "         Function evaluations: 2\n",
      "         Jacobian evaluations: 2\n",
      "Timer: Solution time = 6.90 sec\n",
      "Timer: Avg time per step = 3.45 sec\n",
      "Start of solver\n",
      "Total (sum of squares):  1.503e-06, \n",
      "Maximum absolute Force error:  1.400e+06 (N)\n",
      "Minimum absolute Force error:  1.318e+00 (N)\n",
      "Average absolute Force error:  7.262e+04 (N)\n",
      "Maximum absolute Force error:  3.926e-04 (normalized)\n",
      "Minimum absolute Force error:  3.697e-10 (normalized)\n",
      "Average absolute Force error:  2.037e-05 (normalized)\n",
      "R boundary error:  0.000e+00 (m)\n",
      "Z boundary error:  0.000e+00 (m)\n",
      "Fixed-Psi error:  0.000e+00 (Wb)\n",
      "Fixed-current profile error:  0.000e+00 (A)\n",
      "Fixed-electron-density profile error:  0.000e+00 (m^-3)\n",
      "Fixed-electron-temperature profile error:  0.000e+00 (eV)\n",
      "Fixed-ion-temperature profile error:  0.000e+00 (eV)\n",
      "Fixed-atomic-number profile error:  0.000e+00 (dimensionless)\n",
      "End of solver\n",
      "Total (sum of squares):  1.503e-06, \n",
      "Maximum absolute Force error:  1.401e+06 (N)\n",
      "Minimum absolute Force error:  2.746e+01 (N)\n",
      "Average absolute Force error:  7.271e+04 (N)\n",
      "Maximum absolute Force error:  3.930e-04 (normalized)\n",
      "Minimum absolute Force error:  7.702e-09 (normalized)\n",
      "Average absolute Force error:  2.040e-05 (normalized)\n",
      "R boundary error:  0.000e+00 (m)\n",
      "Z boundary error:  0.000e+00 (m)\n",
      "Fixed-Psi error:  0.000e+00 (Wb)\n",
      "Fixed-current profile error:  5.821e-11 (A)\n",
      "Fixed-electron-density profile error:  0.000e+00 (m^-3)\n",
      "Fixed-electron-temperature profile error:  0.000e+00 (eV)\n",
      "Fixed-ion-temperature profile error:  0.000e+00 (eV)\n",
      "Fixed-atomic-number profile error:  0.000e+00 (dimensionless)\n"
     ]
    }
   ],
   "source": [
    "niters = 3\n",
    "for k in range(niters):\n",
    "    eq2 = eq2.copy()\n",
    "    # compute new guess for the current profile, consistent with Redl formula\n",
    "    data = eq2.compute(\"current Redl\", grid)\n",
    "    rho = np.atleast_2d(grid.compress(data[\"rho\"])).T\n",
    "    current = grid.compress(data[\"current Redl\"])\n",
    "    # fit the current profile to a power series, with c_0=c_1=0\n",
    "    XX = rho**2\n",
    "    for p in range(3, eq2.L + 1):\n",
    "        XX = np.hstack((XX, rho**p))\n",
    "    eq2.c_l = np.pad(np.linalg.lstsq(XX, current, rcond=None)[0], (2, 0))\n",
    "    # re-solve the equilibrium\n",
    "    eq2, _ = eq2.solve(objective=\"force\", optimizer=\"lsq-exact\", verbose=3)\n",
    "    fam2.append(eq2)"
   ]
  },
  {
   "cell_type": "markdown",
   "metadata": {},
   "source": [
    "We can plot the current profile at each iteration to visualize how it changed: "
   ]
  },
  {
   "cell_type": "code",
   "execution_count": 14,
   "metadata": {},
   "outputs": [
    {
     "data": {
      "text/plain": [
       "<matplotlib.legend.Legend at 0x7f9faf4827d0>"
      ]
     },
     "execution_count": 14,
     "metadata": {},
     "output_type": "execute_result"
    },
    {
     "name": "stderr",
     "output_type": "stream",
     "text": [
      "/home/dudt/anaconda3/envs/desc/lib/python3.10/site-packages/IPython/core/pylabtools.py:152: UserWarning: This figure includes Axes that are not compatible with tight_layout, so results might be incorrect.\n",
      "  fig.canvas.print_figure(bytes_io, **kw)\n"
     ]
    },
    {
     "data": {
      "image/png": "[encoded data removed]",
      "text/plain": [
       "<Figure size 384.168x384.168 with 1 Axes>"
      ]
     },
     "metadata": {},
     "output_type": "display_data"
    }
   ],
   "source": [
    "fig, ax = plot_1d(fam2[0], \"current\", linecolor=\"k\", lw=2, label=\"0\")\n",
    "fig, ax = plot_1d(fam2[1], \"current\", linecolor=\"g\", lw=2, label=\"1\", ax=ax)\n",
    "fig, ax = plot_1d(fam2[2], \"current\", linecolor=\"b\", lw=2, label=\"2\", ax=ax)\n",
    "fig, ax = plot_1d(fam2[3], \"current\", linecolor=\"r\", lw=2, label=\"3\", ax=ax)\n",
    "ax.legend(loc=\"best\")"
   ]
  },
  {
   "cell_type": "markdown",
   "metadata": {},
   "source": [
    "With this method the MHD equilibrium also has very good agreement with the Redl formula. "
   ]
  },
  {
   "cell_type": "code",
   "execution_count": 15,
   "metadata": {},
   "outputs": [
    {
     "data": {
      "text/plain": [
       "Text(0.5, 1.0, 'Method 2: Iterative Solves')"
      ]
     },
     "execution_count": 15,
     "metadata": {},
     "output_type": "execute_result"
    },
    {
     "name": "stderr",
     "output_type": "stream",
     "text": [
      "/home/dudt/anaconda3/envs/desc/lib/python3.10/site-packages/IPython/core/pylabtools.py:152: UserWarning: This figure includes Axes that are not compatible with tight_layout, so results might be incorrect.\n",
      "  fig.canvas.print_figure(bytes_io, **kw)\n"
     ]
    },
    {
     "data": {
      "image/png": "[encoded data removed]",
      "text/plain": [
       "<Figure size 384.168x384.168 with 1 Axes>"
      ]
     },
     "metadata": {},
     "output_type": "display_data"
    }
   ],
   "source": [
    "fig, ax = plot_1d(eq2, \"<J*B> Redl\", linecolor=\"b\", lw=2, label=\"Redl\")\n",
    "fig, ax = plot_1d(eq2, \"<J*B>\", linecolor=\"r\", lw=2, label=\"MHD\", ax=ax)\n",
    "ax.legend(loc=\"best\")\n",
    "ax.set_title(\"Method 2: Iterative Solves\")"
   ]
  },
  {
   "cell_type": "markdown",
   "metadata": {},
   "source": [
    "Even though both methods give good self-consistency for the bootstrap current, they do result in slightly different coefficients for the current profile: "
   ]
  },
  {
   "cell_type": "code",
   "execution_count": 16,
   "metadata": {},
   "outputs": [
    {
     "name": "stdout",
     "output_type": "stream",
     "text": [
      "[ 0.00000000e+00  0.00000000e+00  2.67019470e+03  3.97402482e+06\n",
      "  1.66002514e+07 -6.86550329e+07  1.01228131e+08 -6.28828607e+07\n",
      "  1.20716658e+07]\n",
      "[ 0.00000000e+00  0.00000000e+00  3.81520713e+05  1.84045895e+05\n",
      "  3.12490924e+07 -9.62269043e+07  1.27167562e+08 -7.35176799e+07\n",
      "  1.30614794e+07]\n"
     ]
    }
   ],
   "source": [
    "print(eq1.c_l)\n",
    "print(eq2.c_l)"
   ]
  },
  {
   "cell_type": "code",
   "execution_count": 30,
   "metadata": {},
   "outputs": [],
   "source": [
    "grid = LinearGrid(\n",
    "    M=eq0.M_grid,\n",
    "    N=eq0.N_grid,\n",
    "    NFP=eq0.NFP,\n",
    "    sym=eq0.sym,\n",
    "    rho=np.linspace(0.2, 0.9, 8),\n",
    ")\n",
    "data1 = eq1.compute([\"<J*B> Redl\", \"<J*B>\"], grid)\n",
    "data2 = eq2.compute([\"<J*B> Redl\", \"<J*B>\"], grid)"
   ]
  },
  {
   "cell_type": "code",
   "execution_count": 34,
   "metadata": {},
   "outputs": [
    {
     "ename": "",
     "evalue": "",
     "output_type": "error",
     "traceback": [
      "\u001b[1;31mThe Kernel crashed while executing code in the the current cell or a previous cell. Please review the code in the cell(s) to identify a possible cause of the failure. Click <a href='https://aka.ms/vscodeJupyterKernelCrash'>here</a> for more info. View Jupyter <a href='command:jupyter.viewOutput'>log</a> for further details."
     ]
    }
   ],
   "source": [
    "np.testing.assert_allclose(\n",
    "    grid.compress(data1[\"<J*B>\"]), grid.compress(data1[\"<J*B> Redl\"]), rtol=3e-2\n",
    ")\n",
    "np.testing.assert_allclose(\n",
    "    grid.compress(data2[\"<J*B>\"]), grid.compress(data2[\"<J*B> Redl\"]), rtol=2e-2\n",
    ")\n",
    "np.testing.assert_allclose(grid.compress(data1[\"<J*B>\"]), grid.compress(data2[\"<J*B>\"]), rtol=4e-2)"
   ]
  },
  {
   "cell_type": "code",
   "execution_count": null,
   "metadata": {},
   "outputs": [],
   "source": []
  }
 ],
 "metadata": {
  "kernelspec": {
   "display_name": "desc",
   "language": "python",
   "name": "python3"
  },
  "language_info": {
   "codemirror_mode": {
    "name": "ipython",
    "version": 3
   },
   "file_extension": ".py",
   "mimetype": "text/x-python",
   "name": "python",
   "nbconvert_exporter": "python",
   "pygments_lexer": "ipython3",
   "version": "3.1.0"
  }
 },
 "nbformat": 4,
 "nbformat_minor": 2
}
