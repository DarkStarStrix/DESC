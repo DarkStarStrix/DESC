{
 "cells": [
  {
   "cell_type": "markdown",
   "id": "964024bb",
   "metadata": {},
   "source": [
    "# Stellarator Optimization"
   ]
  },
  {
   "cell_type": "markdown",
   "id": "808ff8f9",
   "metadata": {},
   "source": [
    "This tutorial demonstrates how to perform optimization with DESC. It will go through two examples: 1) targeting the \"triple product\" quasi-symmetry objective $f_T$ in full plasma volume 2) targeting the \"two-term\" objective $f_C$ for quasi-helical symmetry at the plasma boundary surface. These examples are adapted from a problem first presented in [Rodriguez et al (2022)](https://www.cambridge.org/core/journals/journal-of-plasma-physics/article/measures-of-quasisymmetry-for-stellarators/01B9DFE86A23964F331E0E0615B4E7A2) and reproduced in [Dudt et al (2022)](https://arxiv.org/abs/2204.00078). "
   ]
  },
  {
   "cell_type": "code",
   "execution_count": 3,
   "id": "23f948a4",
   "metadata": {},
   "outputs": [],
   "source": [
    "import sys\n",
    "import os\n",
    "sys.path.insert(0, os.path.abspath('.'))\n",
    "sys.path.append(os.path.abspath('../../'))"
   ]
  },
  {
   "cell_type": "markdown",
   "id": "801f778b",
   "metadata": {},
   "source": [
    "If you have acess to a GPU, uncomment the line `set_device(\"gpu\")`: "
   ]
  },
  {
   "cell_type": "code",
   "execution_count": 4,
   "id": "f323bc44",
   "metadata": {},
   "outputs": [
    {
     "ename": "ModuleNotFoundError",
     "evalue": "No module named 'desc'",
     "output_type": "error",
     "traceback": [
      "\u001b[1;31m---------------------------------------------------------------------------\u001b[0m",
      "\u001b[1;31mModuleNotFoundError\u001b[0m                       Traceback (most recent call last)",
      "\u001b[1;32m<ipython-input-4-81343cc54a34>\u001b[0m in \u001b[0;36m<module>\u001b[1;34m\u001b[0m\n\u001b[1;32m----> 1\u001b[1;33m \u001b[1;32mfrom\u001b[0m \u001b[0mdesc\u001b[0m \u001b[1;32mimport\u001b[0m \u001b[0mset_device\u001b[0m\u001b[1;33m\u001b[0m\u001b[1;33m\u001b[0m\u001b[0m\n\u001b[0m\u001b[0;32m      2\u001b[0m \u001b[1;31m# set_device(\"gpu\")\u001b[0m\u001b[1;33m\u001b[0m\u001b[1;33m\u001b[0m\u001b[1;33m\u001b[0m\u001b[0m\n",
      "\u001b[1;31mModuleNotFoundError\u001b[0m: No module named 'desc'"
     ]
    }
   ],
   "source": [
    "from desc import set_device\n",
    "# set_device(\"gpu\")"
   ]
  },
  {
   "cell_type": "code",
   "execution_count": 5,
   "id": "911679c6",
   "metadata": {},
   "outputs": [
    {
     "ename": "ModuleNotFoundError",
     "evalue": "No module named 'desc'",
     "output_type": "error",
     "traceback": [
      "\u001b[1;31m---------------------------------------------------------------------------\u001b[0m",
      "\u001b[1;31mModuleNotFoundError\u001b[0m                       Traceback (most recent call last)",
      "\u001b[1;32m<ipython-input-5-65b78aaf074d>\u001b[0m in \u001b[0;36m<module>\u001b[1;34m\u001b[0m\n\u001b[0;32m      3\u001b[0m \u001b[1;32mimport\u001b[0m \u001b[0mmatplotlib\u001b[0m\u001b[1;33m.\u001b[0m\u001b[0mpyplot\u001b[0m \u001b[1;32mas\u001b[0m \u001b[0mplt\u001b[0m\u001b[1;33m\u001b[0m\u001b[1;33m\u001b[0m\u001b[0m\n\u001b[0;32m      4\u001b[0m \u001b[1;33m\u001b[0m\u001b[0m\n\u001b[1;32m----> 5\u001b[1;33m \u001b[1;32mimport\u001b[0m \u001b[0mdesc\u001b[0m\u001b[1;33m.\u001b[0m\u001b[0mio\u001b[0m\u001b[1;33m\u001b[0m\u001b[1;33m\u001b[0m\u001b[0m\n\u001b[0m\u001b[0;32m      6\u001b[0m \u001b[1;32mfrom\u001b[0m \u001b[0mdesc\u001b[0m\u001b[1;33m.\u001b[0m\u001b[0mgrid\u001b[0m \u001b[1;32mimport\u001b[0m \u001b[0mLinearGrid\u001b[0m\u001b[1;33m,\u001b[0m \u001b[0mConcentricGrid\u001b[0m\u001b[1;33m\u001b[0m\u001b[1;33m\u001b[0m\u001b[0m\n\u001b[0;32m      7\u001b[0m from desc.objectives import (\n",
      "\u001b[1;31mModuleNotFoundError\u001b[0m: No module named 'desc'"
     ]
    }
   ],
   "source": [
    "%matplotlib inline\n",
    "import numpy as np\n",
    "import matplotlib.pyplot as plt\n",
    "\n",
    "import desc.io\n",
    "from desc.grid import LinearGrid, ConcentricGrid\n",
    "from desc.objectives import (\n",
    "    ObjectiveFunction,\n",
    "    FixBoundaryR,\n",
    "    FixBoundaryZ,\n",
    "    FixPressure,\n",
    "    FixIota,\n",
    "    FixPsi,\n",
    "    ForceBalance,\n",
    "    QuasisymmetryTwoTerm,\n",
    "    QuasisymmetryTripleProduct,\n",
    ")\n",
    "from desc.optimize import Optimizer\n",
    "from desc.plotting import plot_boozer_modes, plot_boozer_surface, plot_qs_error"
   ]
  },
  {
   "cell_type": "markdown",
   "id": "64536d32",
   "metadata": {},
   "source": [
    "Load an equilibrium solution that we will use for the initial guess for optimization. "
   ]
  },
  {
   "cell_type": "code",
   "execution_count": null,
   "id": "d61e3dbc",
   "metadata": {},
   "outputs": [],
   "source": [
    "eq_init = desc.io.load(\"qs_initial_guess.h5\")\n",
    "\n",
    "plot_boozer_modes(eq_init);\n",
    "plot_boozer_surface(eq_init);\n",
    "plot_qs_error(eq_init, fT=False, fC=False);"
   ]
  },
  {
   "cell_type": "markdown",
   "id": "47b0ce1b",
   "metadata": {},
   "source": [
    "Explain with math what these quantities are\n",
    "\n",
    "### Boozer Coordinates\n",
    "\n",
    "\\begin{equation}\n",
    "|\\mathbf{B}| = B(\\psi, M\\vartheta_{B} - N\\zeta_{B})\n",
    "\\end{equation}\n",
    "\n",
    "\\begin{equation}\n",
    "\\mathbf{f}_{B} = \\{ B_{mn} ~|~ m/n \\neq M/N \\}\n",
    "\\end{equation}\n",
    "\n",
    "\\begin{equation}\n",
    "\\hat{f}_{B} = \\frac{|\\mathbf{f}_{B}|}{\\sqrt{\\sum_{m,n} B_{mn}^2}}\n",
    "\\end{equation}\n",
    "\n",
    "### Two-Term\n",
    "\n",
    "\\begin{equation}\n",
    "f_{C} = \\left( M \\iota - N \\right) \\left( \\mathbf{B} \\times \\nabla \\psi \\right) \\cdot \\nabla B - \\left( M G + N I \\right) \\mathbf{B} \\cdot \\nabla B. \n",
    "\\end{equation}\n",
    "\n",
    "\\begin{equation}\n",
    "\\mathbf{f}_{C} = \\{ f_{C}(\\theta_{i},\\zeta_{j}) ~|~ i \\in [0,2\\pi), j \\in [0,2\\pi/N_{FP}) \\}\n",
    "\\end{equation}\n",
    "\n",
    "\\begin{equation}\n",
    "\\hat{f}_{C} = \\frac{\\langle |f_C| \\rangle}{\\langle B \\rangle^3}.\n",
    "\\end{equation}\n",
    "\n",
    "### Triple Product\n",
    "\n",
    "\\begin{equation}\n",
    "f_{T} = \\nabla \\psi \\times \\nabla B \\cdot \\nabla \\left( \\mathbf{B} \\cdot \\nabla B \\right)\n",
    "\\end{equation}\n",
    "\n",
    "\\begin{equation}\n",
    "\\label{eq:fT_vec}\n",
    "\\mathbf{f}_{T} = \\{ f_{T}(\\theta_{i},\\zeta_{j}) ~|~ i \\in [0,2\\pi), j \\in [0,2\\pi/N_{FP}) \\}\n",
    "\\end{equation}\n",
    "\n",
    "\\begin{equation}\n",
    "\\label{eq:fT_hat}\n",
    "\\hat{f}_{T}(\\psi) = \\frac{\\langle R \\rangle^2 \\langle |f_{T}| \\rangle}{\\langle B \\rangle^4}\n",
    "\\end{equation}"
   ]
  },
  {
   "cell_type": "markdown",
   "id": "0dcdb641",
   "metadata": {},
   "source": [
    "This is the optimization routine we are going to use, but you could use others. "
   ]
  },
  {
   "cell_type": "code",
   "execution_count": 6,
   "id": "dcd3d3f0",
   "metadata": {},
   "outputs": [
    {
     "ename": "NameError",
     "evalue": "name 'Optimizer' is not defined",
     "output_type": "error",
     "traceback": [
      "\u001b[1;31m---------------------------------------------------------------------------\u001b[0m",
      "\u001b[1;31mNameError\u001b[0m                                 Traceback (most recent call last)",
      "\u001b[1;32m<ipython-input-6-4a2a82ca4906>\u001b[0m in \u001b[0;36m<module>\u001b[1;34m\u001b[0m\n\u001b[1;32m----> 1\u001b[1;33m \u001b[0moptimizer\u001b[0m \u001b[1;33m=\u001b[0m \u001b[0mOptimizer\u001b[0m\u001b[1;33m(\u001b[0m\u001b[1;34m\"lsq-exact\"\u001b[0m\u001b[1;33m)\u001b[0m\u001b[1;33m\u001b[0m\u001b[1;33m\u001b[0m\u001b[0m\n\u001b[0m",
      "\u001b[1;31mNameError\u001b[0m: name 'Optimizer' is not defined"
     ]
    }
   ],
   "source": [
    "optimizer = Optimizer(\"lsq-exact\")"
   ]
  },
  {
   "cell_type": "markdown",
   "id": "b3f18044",
   "metadata": {},
   "source": [
    "Specify the optimization constraints. In this case we only want 4 specific boundary modes to be the optimization variables, and we fix everything else. "
   ]
  },
  {
   "cell_type": "code",
   "execution_count": null,
   "id": "51b358b2",
   "metadata": {},
   "outputs": [],
   "source": [
    "# indices of boundary modes we want to optimize\n",
    "idx_Rcc = eq_init.surface.R_basis.get_idx(M=1, N=2)\n",
    "idx_Rss = eq_init.surface.R_basis.get_idx(M=-1, N=-2)\n",
    "idx_Zsc = eq_init.surface.Z_basis.get_idx(M=-1, N=2)\n",
    "idx_Zcs = eq_init.surface.Z_basis.get_idx(M=1, N=-2)\n",
    "\n",
    "# boundary modes to constrain\n",
    "R_modes = np.delete(eq_init.surface.R_basis.modes, [idx_Rcc, idx_Rss], axis=0)\n",
    "Z_modes = np.delete(eq_init.surface.Z_basis.modes, [idx_Zsc, idx_Zcs], axis=0)\n",
    "\n",
    "# constraints\n",
    "constraints = (\n",
    "    ForceBalance(),\n",
    "    FixBoundaryR(modes=R_modes),\n",
    "    FixBoundaryZ(modes=Z_modes),\n",
    "    FixPressure(),\n",
    "    FixIota(),\n",
    "    FixPsi(),\n",
    ")"
   ]
  },
  {
   "cell_type": "markdown",
   "id": "1778091c",
   "metadata": {},
   "source": [
    "## Triple Product QS in Volume"
   ]
  },
  {
   "cell_type": "markdown",
   "id": "b1c3c96a",
   "metadata": {},
   "source": [
    "First we are going to optimize for f_T in a volume. "
   ]
  },
  {
   "cell_type": "code",
   "execution_count": null,
   "id": "e8515a2a",
   "metadata": {},
   "outputs": [],
   "source": [
    "# objective\n",
    "grid = ConcentricGrid(L=eq_init.L_grid, M=eq_init.M_grid, N=eq_init.N_grid, NFP=eq_init.NFP, sym=eq_init.sym)\n",
    "objective_fT = ObjectiveFunction(QuasisymmetryTripleProduct(grid=grid), verbose=0)"
   ]
  },
  {
   "cell_type": "markdown",
   "id": "676fcbee",
   "metadata": {},
   "source": [
    "Now run the optimization! "
   ]
  },
  {
   "cell_type": "code",
   "execution_count": null,
   "id": "289a431f",
   "metadata": {},
   "outputs": [],
   "source": [
    "eq_qs_T, result_T = eq_init.optimize(\n",
    "    objective=objective_fT,\n",
    "    constraints=constraints,\n",
    "    optimizer=optimizer,\n",
    "    ftol=1e-2,\n",
    "    xtol=1e-6,\n",
    "    gtol=1e-6,\n",
    "    maxiter=50,\n",
    "    options={\n",
    "        \"perturb_options\": {\"order\": 2, \"verbose\": 0},\n",
    "        \"solve_options\": {\"ftol\": 1e-2, \"xtol\": 1e-6, \"gtol\": 1e-6, \"verbose\": 0},\n",
    "    },\n",
    "    copy=True,\n",
    "    verbose=3,\n",
    ")"
   ]
  },
  {
   "cell_type": "markdown",
   "id": "ed0280a1",
   "metadata": {},
   "source": [
    "Plot QS: "
   ]
  },
  {
   "cell_type": "code",
   "execution_count": null,
   "id": "7f87eca4",
   "metadata": {},
   "outputs": [],
   "source": [
    "plot_boozer_modes(eq_qs_T);\n",
    "plot_boozer_surface(eq_qs_T);"
   ]
  },
  {
   "cell_type": "code",
   "execution_count": null,
   "id": "5cc11b56",
   "metadata": {},
   "outputs": [],
   "source": [
    "# compare f_T & f_C before (o) vs after (x) optimization\n",
    "fig, ax = plot_qs_error(eq_init, fB=False);\n",
    "plot_qs_error(eq_qs_T, ax=ax, fB=False);\n",
    "for line in plt.gca().lines[2:]:\n",
    "    line.set_marker('x')"
   ]
  },
  {
   "cell_type": "code",
   "execution_count": null,
   "id": "f46386ed",
   "metadata": {},
   "outputs": [],
   "source": [
    "# compare f_B before (o) vs after (x) optimization\n",
    "fig, ax = plot_qs_error(eq_init, fT=False, fC=False);\n",
    "plot_qs_error(eq_qs_T, ax=ax, fT=False, fC=False);\n",
    "for line in plt.gca().lines[2:]:\n",
    "    line.set_marker('x')"
   ]
  },
  {
   "cell_type": "markdown",
   "id": "474a6507",
   "metadata": {},
   "source": [
    "## Two-Term QH at Boundary Surface"
   ]
  },
  {
   "cell_type": "markdown",
   "id": "0173a11b",
   "metadata": {},
   "source": [
    "Next we are going to optimize for f_T at the boundary surface. "
   ]
  },
  {
   "cell_type": "code",
   "execution_count": null,
   "id": "2b1fe187",
   "metadata": {},
   "outputs": [],
   "source": [
    "grid = LinearGrid(M=2 * eq.M_grid + 1, N=2 * eq.N_grid + 1, NFP=eq.NFP, sym=eq.sym, rho=1.0)\n",
    "objective_fC = ObjectiveFunction(QuasisymmetryTwoTerm(helicity=(1, eq.NFP)), verbose=0)"
   ]
  },
  {
   "cell_type": "markdown",
   "id": "47a6de83",
   "metadata": {},
   "source": [
    "Now run the optimization! "
   ]
  },
  {
   "cell_type": "code",
   "execution_count": null,
   "id": "bab47439",
   "metadata": {},
   "outputs": [],
   "source": [
    "eq_qs_C, result_C = eq_init.optimize(\n",
    "    objective=objective_fC,\n",
    "    constraints=constraints,\n",
    "    optimizer=optimizer,\n",
    "    ftol=1e-2,\n",
    "    xtol=1e-6,\n",
    "    gtol=1e-6,\n",
    "    maxiter=50,\n",
    "    options={\n",
    "        \"perturb_options\": {\"order\": 2, \"verbose\": 0},\n",
    "        \"solve_options\": {\"ftol\": 1e-2, \"xtol\": 1e-6, \"gtol\": 1e-6, \"verbose\": 0},\n",
    "    },\n",
    "    copy=True,\n",
    "    verbose=3,\n",
    ")"
   ]
  },
  {
   "cell_type": "markdown",
   "id": "ceddc121",
   "metadata": {},
   "source": [
    "Plot QS: "
   ]
  },
  {
   "cell_type": "code",
   "execution_count": null,
   "id": "488c0d6c",
   "metadata": {},
   "outputs": [],
   "source": [
    "plot_boozer_modes(eq_qs_C);\n",
    "plot_boozer_surface(eq_qs_C);"
   ]
  },
  {
   "cell_type": "code",
   "execution_count": null,
   "id": "29134858",
   "metadata": {},
   "outputs": [],
   "source": [
    "# compare f_T & f_C before (o) vs after (x) optimization\n",
    "fig, ax = plot_qs_error(eq_init, fB=False);\n",
    "plot_qs_error(eq_qs_C, ax=ax, fB=False);\n",
    "for line in plt.gca().lines[2:]:\n",
    "    line.set_marker('x')"
   ]
  },
  {
   "cell_type": "code",
   "execution_count": null,
   "id": "2a765531",
   "metadata": {},
   "outputs": [],
   "source": [
    "# compare f_B before (o) vs after (x) optimization\n",
    "fig, ax = plot_qs_error(eq_init, fT=False, fC=False);\n",
    "plot_qs_error(eq_qs_C, ax=ax, fT=False, fC=False);\n",
    "for line in plt.gca().lines[2:]:\n",
    "    line.set_marker('x')"
   ]
  }
 ],
 "metadata": {
  "kernelspec": {
   "display_name": "Python 3",
   "language": "python",
   "name": "python3"
  },
  "language_info": {
   "codemirror_mode": {
    "name": "ipython",
    "version": 3
   },
   "file_extension": ".py",
   "mimetype": "text/x-python",
   "name": "python",
   "nbconvert_exporter": "python",
   "pygments_lexer": "ipython3",
   "version": "3.8.5"
  }
 },
 "nbformat": 4,
 "nbformat_minor": 5
}
