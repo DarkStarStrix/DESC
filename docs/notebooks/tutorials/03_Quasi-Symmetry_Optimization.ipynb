{
 "cells": [
  {
   "cell_type": "markdown",
   "id": "1d92f237",
   "metadata": {
    "pycharm": {
     "name": "#%% md\n"
    }
   },
   "source": [
    "# Stellarator Optimization"
   ]
  },
  {
   "cell_type": "markdown",
   "id": "497bc74a",
   "metadata": {
    "pycharm": {
     "name": "#%% md\n"
    }
   },
   "source": [
    "This tutorial demonstrates how to perform optimization with DESC. It will go through two examples: 1) targeting the \"triple product\" quasi-symmetry objective $f_T$ in the full plasma volume 2) targeting the \"two-term\" objective $f_C$ for quasi-helical symmetry at the plasma boundary surface. These examples are adapted from a problem first presented in [Rodriguez et al. (2022)](https://www.cambridge.org/core/journals/journal-of-plasma-physics/article/measures-of-quasisymmetry-for-stellarators/01B9DFE86A23964F331E0E0615B4E7A2) and reproduced in [Dudt et al. (2022)](https://arxiv.org/abs/2204.00078)."
   ]
  },
  {
   "cell_type": "code",
   "execution_count": 1,
   "id": "0974e779",
   "metadata": {
    "pycharm": {
     "name": "#%%\n"
    }
   },
   "outputs": [],
   "source": [
    "import sys\n",
    "import os\n",
    "\n",
    "sys.path.insert(0, os.path.abspath(\".\"))\n",
    "sys.path.append(os.path.abspath(\"../../../\"))"
   ]
  },
  {
   "cell_type": "markdown",
   "id": "4b44dea5",
   "metadata": {
    "pycharm": {
     "name": "#%% md\n"
    }
   },
   "source": [
    "If you have access to a GPU, uncomment the following two lines. You should see about an order of magnitude speed improvement with only these two lines of code!"
   ]
  },
  {
   "cell_type": "code",
   "execution_count": 2,
   "id": "9a54753b",
   "metadata": {
    "pycharm": {
     "name": "#%%\n"
    }
   },
   "outputs": [],
   "source": [
    "# from desc import set_device\n",
    "# set_device(\"gpu\")"
   ]
  },
  {
   "cell_type": "code",
   "execution_count": 3,
   "id": "ee57db1b",
   "metadata": {
    "pycharm": {
     "name": "#%%\n"
    }
   },
   "outputs": [
    {
     "name": "stdout",
     "output_type": "stream",
     "text": [
      "DESC version 0.5.2+156.g2334328.dirty, using JAX backend, jax version=0.3.17, jaxlib version=0.3.15, dtype=float64\n",
      "Using device: CPU, with 10.58 GB available memory\n"
     ]
    },
    {
     "name": "stderr",
     "output_type": "stream",
     "text": [
      "2022-09-09 02:27:42.523230: E external/org_tensorflow/tensorflow/stream_executor/cuda/cuda_driver.cc:265] failed call to cuInit: CUDA_ERROR_NO_DEVICE: no CUDA-capable device is detected\n"
     ]
    }
   ],
   "source": [
    "%matplotlib inline\n",
    "import numpy as np\n",
    "import matplotlib.pyplot as plt\n",
    "\n",
    "plt.rcParams[\"font.size\"] = 12\n",
    "\n",
    "import desc.io\n",
    "from desc.grid import LinearGrid, ConcentricGrid\n",
    "from desc.objectives import (\n",
    "    ObjectiveFunction,\n",
    "    FixBoundaryR,\n",
    "    FixBoundaryZ,\n",
    "    FixPressure,\n",
    "    FixIota,\n",
    "    FixPsi,\n",
    "    AspectRatio,\n",
    "    ForceBalance,\n",
    "    QuasisymmetryBoozer,\n",
    "    QuasisymmetryTwoTerm,\n",
    "    QuasisymmetryTripleProduct,\n",
    ")\n",
    "from desc.optimize import Optimizer\n",
    "from desc.plotting import (\n",
    "    plot_grid,\n",
    "    plot_boozer_modes,\n",
    "    plot_boozer_surface,\n",
    "    plot_qs_error,\n",
    ")"
   ]
  },
  {
   "cell_type": "markdown",
   "id": "db2bd33c",
   "metadata": {
    "pycharm": {
     "name": "#%% md\n"
    }
   },
   "source": [
    "To save time during this tutorial, we will load an equilibrium solution to use as the initial guess for optimization. This equilibrium is already somewhat close to quasi-helical symmetry (QH) but can be improved. "
   ]
  },
  {
   "cell_type": "code",
   "execution_count": 4,
   "id": "dd4085bc",
   "metadata": {
    "pycharm": {
     "name": "#%%\n"
    }
   },
   "outputs": [
    {
     "name": "stderr",
     "output_type": "stream",
     "text": [
      "/home/kaya/Documents/edu/pton/plasma/DESC/current/desc/io/hdf5_io.py:120: RuntimeWarning: Save attribute '_unique_rho_idx' was not loaded.\n",
      "  warnings.warn(\n",
      "/home/kaya/Documents/edu/pton/plasma/DESC/current/desc/io/hdf5_io.py:120: RuntimeWarning: Save attribute '_unique_theta_idx' was not loaded.\n",
      "  warnings.warn(\n",
      "/home/kaya/Documents/edu/pton/plasma/DESC/current/desc/io/hdf5_io.py:120: RuntimeWarning: Save attribute '_unique_zeta_idx' was not loaded.\n",
      "  warnings.warn(\n",
      "/home/kaya/Documents/edu/pton/plasma/DESC/current/desc/io/hdf5_io.py:120: RuntimeWarning: Save attribute '_inverse_rho_idx' was not loaded.\n",
      "  warnings.warn(\n",
      "/home/kaya/Documents/edu/pton/plasma/DESC/current/desc/io/hdf5_io.py:120: RuntimeWarning: Save attribute '_inverse_theta_idx' was not loaded.\n",
      "  warnings.warn(\n",
      "/home/kaya/Documents/edu/pton/plasma/DESC/current/desc/io/hdf5_io.py:120: RuntimeWarning: Save attribute '_inverse_zeta_idx' was not loaded.\n",
      "  warnings.warn(\n",
      "/home/kaya/Documents/edu/pton/plasma/DESC/current/desc/io/hdf5_io.py:120: RuntimeWarning: Save attribute '_current' was not loaded.\n",
      "  warnings.warn(\n"
     ]
    }
   ],
   "source": [
    "# load initial equilibrium\n",
    "eq_init = desc.io.load(\"qs_initial_guess.h5\")"
   ]
  },
  {
   "cell_type": "markdown",
   "id": "a3b51954",
   "metadata": {
    "pycharm": {
     "name": "#%% md\n"
    }
   },
   "source": [
    "There are several plotting functions available in DESC that are useful for visualizing the quasi-symmetry (QS) errors. Let us look at the initial errors before optimization: "
   ]
  },
  {
   "cell_type": "code",
   "execution_count": 5,
   "id": "7c58097b",
   "metadata": {
    "pycharm": {
     "name": "#%%\n"
    }
   },
   "outputs": [
    {
     "ename": "AttributeError",
     "evalue": "'Equilibrium' object has no attribute '_current'",
     "output_type": "error",
     "traceback": [
      "\u001b[0;31m---------------------------------------------------------------------------\u001b[0m",
      "\u001b[0;31mAttributeError\u001b[0m                            Traceback (most recent call last)",
      "Input \u001b[0;32mIn [5]\u001b[0m, in \u001b[0;36m<cell line: 1>\u001b[0;34m()\u001b[0m\n\u001b[0;32m----> 1\u001b[0m \u001b[43mplot_boozer_modes\u001b[49m\u001b[43m(\u001b[49m\u001b[43meq_init\u001b[49m\u001b[43m,\u001b[49m\u001b[43m \u001b[49m\u001b[43mnum_modes\u001b[49m\u001b[38;5;241;43m=\u001b[39;49m\u001b[38;5;241;43m8\u001b[39;49m\u001b[43m,\u001b[49m\u001b[43m \u001b[49m\u001b[43mrho\u001b[49m\u001b[38;5;241;43m=\u001b[39;49m\u001b[38;5;241;43m10\u001b[39;49m\u001b[43m)\u001b[49m\n\u001b[1;32m      2\u001b[0m \u001b[38;5;66;03m# plot modes of |B| in Boozer coordinates\u001b[39;00m\n\u001b[1;32m      3\u001b[0m plot_boozer_surface(eq_init)\n",
      "File \u001b[0;32m~/Documents/edu/pton/plasma/DESC/current/desc/plotting.py:1565\u001b[0m, in \u001b[0;36mplot_boozer_modes\u001b[0;34m(eq, log, B0, num_modes, rho, ax, **kwargs)\u001b[0m\n\u001b[1;32m   1563\u001b[0m \u001b[38;5;28;01mfor\u001b[39;00m i, r \u001b[38;5;129;01min\u001b[39;00m \u001b[38;5;28menumerate\u001b[39m(rho):\n\u001b[1;32m   1564\u001b[0m     grid \u001b[38;5;241m=\u001b[39m LinearGrid(M\u001b[38;5;241m=\u001b[39m\u001b[38;5;241m2\u001b[39m \u001b[38;5;241m*\u001b[39m eq\u001b[38;5;241m.\u001b[39mM_grid, N\u001b[38;5;241m=\u001b[39m\u001b[38;5;241m2\u001b[39m \u001b[38;5;241m*\u001b[39m eq\u001b[38;5;241m.\u001b[39mN_grid, NFP\u001b[38;5;241m=\u001b[39meq\u001b[38;5;241m.\u001b[39mNFP, rho\u001b[38;5;241m=\u001b[39mnp\u001b[38;5;241m.\u001b[39marray(r))\n\u001b[0;32m-> 1565\u001b[0m     data \u001b[38;5;241m=\u001b[39m \u001b[43meq\u001b[49m\u001b[38;5;241;43m.\u001b[39;49m\u001b[43mcompute\u001b[49m\u001b[43m(\u001b[49m\u001b[38;5;124;43m\"\u001b[39;49m\u001b[38;5;124;43m|B|_mn\u001b[39;49m\u001b[38;5;124;43m\"\u001b[39;49m\u001b[43m,\u001b[49m\u001b[43m \u001b[49m\u001b[43mgrid\u001b[49m\u001b[43m)\u001b[49m\n\u001b[1;32m   1566\u001b[0m     ds\u001b[38;5;241m.\u001b[39mappend(data)\n\u001b[1;32m   1567\u001b[0m     b_mn \u001b[38;5;241m=\u001b[39m np\u001b[38;5;241m.\u001b[39matleast_2d(data[\u001b[38;5;124m\"\u001b[39m\u001b[38;5;124m|B|_mn\u001b[39m\u001b[38;5;124m\"\u001b[39m])\n",
      "File \u001b[0;32m~/Documents/edu/pton/plasma/DESC/current/desc/configuration.py:1151\u001b[0m, in \u001b[0;36m_Configuration.compute\u001b[0;34m(self, name, grid, data, **kwargs)\u001b[0m\n\u001b[1;32m   1149\u001b[0m \u001b[38;5;28;01mfor\u001b[39;00m arg \u001b[38;5;129;01min\u001b[39;00m sig\u001b[38;5;241m.\u001b[39mparameters\u001b[38;5;241m.\u001b[39mkeys():\n\u001b[1;32m   1150\u001b[0m     \u001b[38;5;28;01mif\u001b[39;00m arg \u001b[38;5;129;01min\u001b[39;00m arg_order:\n\u001b[0;32m-> 1151\u001b[0m         inputs[arg] \u001b[38;5;241m=\u001b[39m \u001b[38;5;28;43mgetattr\u001b[39;49m\u001b[43m(\u001b[49m\u001b[38;5;28;43mself\u001b[39;49m\u001b[43m,\u001b[49m\u001b[43m \u001b[49m\u001b[43marg\u001b[49m\u001b[43m)\u001b[49m\n\u001b[1;32m   1152\u001b[0m     \u001b[38;5;28;01melif\u001b[39;00m arg \u001b[38;5;241m==\u001b[39m \u001b[38;5;124m\"\u001b[39m\u001b[38;5;124mgrid\u001b[39m\u001b[38;5;124m\"\u001b[39m:\n\u001b[1;32m   1153\u001b[0m         inputs[arg] \u001b[38;5;241m=\u001b[39m grid\n",
      "File \u001b[0;32m~/Documents/edu/pton/plasma/DESC/current/desc/configuration.py:1095\u001b[0m, in \u001b[0;36m_Configuration.c_l\u001b[0;34m(self)\u001b[0m\n\u001b[1;32m   1092\u001b[0m \u001b[38;5;129m@property\u001b[39m\n\u001b[1;32m   1093\u001b[0m \u001b[38;5;28;01mdef\u001b[39;00m \u001b[38;5;21mc_l\u001b[39m(\u001b[38;5;28mself\u001b[39m):\n\u001b[1;32m   1094\u001b[0m     \u001b[38;5;124;03m\"\"\"Coefficients of current profile (ndarray).\"\"\"\u001b[39;00m\n\u001b[0;32m-> 1095\u001b[0m     \u001b[38;5;28;01mreturn\u001b[39;00m np\u001b[38;5;241m.\u001b[39mempty(\u001b[38;5;241m0\u001b[39m) \u001b[38;5;28;01mif\u001b[39;00m \u001b[38;5;28;43mself\u001b[39;49m\u001b[38;5;241;43m.\u001b[39;49m\u001b[43mcurrent\u001b[49m \u001b[38;5;129;01mis\u001b[39;00m \u001b[38;5;28;01mNone\u001b[39;00m \u001b[38;5;28;01melse\u001b[39;00m \u001b[38;5;28mself\u001b[39m\u001b[38;5;241m.\u001b[39mcurrent\u001b[38;5;241m.\u001b[39mparams\n",
      "File \u001b[0;32m~/Documents/edu/pton/plasma/DESC/current/desc/configuration.py:1081\u001b[0m, in \u001b[0;36m_Configuration.current\u001b[0;34m(self)\u001b[0m\n\u001b[1;32m   1078\u001b[0m \u001b[38;5;129m@property\u001b[39m\n\u001b[1;32m   1079\u001b[0m \u001b[38;5;28;01mdef\u001b[39;00m \u001b[38;5;21mcurrent\u001b[39m(\u001b[38;5;28mself\u001b[39m):\n\u001b[1;32m   1080\u001b[0m     \u001b[38;5;124;03m\"\"\"Toroidal current (I) profile.\"\"\"\u001b[39;00m\n\u001b[0;32m-> 1081\u001b[0m     \u001b[38;5;28;01mreturn\u001b[39;00m \u001b[38;5;28;43mself\u001b[39;49m\u001b[38;5;241;43m.\u001b[39;49m\u001b[43m_current\u001b[49m\n",
      "\u001b[0;31mAttributeError\u001b[0m: 'Equilibrium' object has no attribute '_current'"
     ]
    }
   ],
   "source": [
    "plot_boozer_modes(eq_init, num_modes=8, rho=10)\n",
    "# plot modes of |B| in Boozer coordinates\n",
    "plot_boozer_surface(eq_init)\n",
    "# plot |B| contours in Boozer coordinates on a surface (default is rho=1)\n",
    "plot_qs_error(eq_init, helicity=(1, eq_init.NFP), rho=10);  # plot normalized QS metrics"
   ]
  },
  {
   "cell_type": "markdown",
   "id": "1df7a48b",
   "metadata": {
    "pycharm": {
     "name": "#%% md\n"
    }
   },
   "source": [
    "The last plot shows the three different QS errors implemented in DESC. Their definitions and the normalized scalar quantities plotted for each flux surface are shown below: \n",
    "\n",
    "### Boozer Coordinates\n",
    "\n",
    "This is the \"traditional\" definition of QS. The drawbacks of this metric are that Boozer coordinates are expensive to compute, and it only provides \"global\" information about the error on each surface. But it has the nice property of $\\hat{f}_B \\in [0,1]$. \n",
    "\n",
    "\\begin{equation}\n",
    "|\\mathbf{B}| = B(\\psi, M\\vartheta_{B} - N\\zeta_{B})\n",
    "\\end{equation}\n",
    "\n",
    "\\begin{equation}\n",
    "\\mathbf{f}_{B} = \\{ B_{mn} ~|~ m/n \\neq M/N \\}\n",
    "\\end{equation}\n",
    "\n",
    "\\begin{equation}\n",
    "\\hat{f}_{B} = \\frac{|\\mathbf{f}_{B}|}{\\sqrt{\\sum_{m,n} B_{mn}^2}}\n",
    "\\end{equation}\n",
    "\n",
    "### Two-Term\n",
    "\n",
    "This definition is advantageous because it does not require a transformation to Boozer coordinates, and it reveals \"local\" errors within a flux surface.\n",
    "\n",
    "\\begin{equation}\n",
    "f_{C} = \\left( M \\iota - N \\right) \\left( \\mathbf{B} \\times \\nabla \\psi \\right) \\cdot \\nabla B - \\left( M G + N I \\right) \\mathbf{B} \\cdot \\nabla B. \n",
    "\\end{equation}\n",
    "\n",
    "\\begin{equation}\n",
    "\\mathbf{f}_{C} = \\{ f_{C}(\\theta_{i},\\zeta_{j}) ~|~ i \\in [0,2\\pi), j \\in [0,2\\pi/N_{FP}) \\}\n",
    "\\end{equation}\n",
    "\n",
    "\\begin{equation}\n",
    "\\hat{f}_{C} = \\frac{\\langle |f_C| \\rangle}{\\langle B \\rangle^3}.\n",
    "\\end{equation}\n",
    "\n",
    "### Triple Product\n",
    "\n",
    "This is also a local error metric that can be evaluated without Boozer coordinates. The potential advantages of this definition are that it does not require specifying the helicity (type of quasi-symmetry) and does not assume $\\mathbf{J}\\cdot\\nabla\\psi=0$. \n",
    "\n",
    "\\begin{equation}\n",
    "f_{T} = \\nabla \\psi \\times \\nabla B \\cdot \\nabla \\left( \\mathbf{B} \\cdot \\nabla B \\right)\n",
    "\\end{equation}\n",
    "\n",
    "\\begin{equation}\n",
    "\\label{eq:fT_vec}\n",
    "\\mathbf{f}_{T} = \\{ f_{T}(\\theta_{i},\\zeta_{j}) ~|~ i \\in [0,2\\pi), j \\in [0,2\\pi/N_{FP}) \\}\n",
    "\\end{equation}\n",
    "\n",
    "\\begin{equation}\n",
    "\\label{eq:fT_hat}\n",
    "\\hat{f}_{T}(\\psi) = \\frac{\\langle R \\rangle^2 \\langle |f_{T}| \\rangle}{\\langle B \\rangle^4}\n",
    "\\end{equation}"
   ]
  },
  {
   "cell_type": "markdown",
   "id": "3348ce72",
   "metadata": {
    "pycharm": {
     "name": "#%% md\n"
    }
   },
   "source": [
    "To set up the optimization problem, we need to choose an optimization algorithm. `\"lsq-exact\"` is a custom least-squares routine, but there are other options available ([see documentation](https://desc-docs.readthedocs.io/en/latest/_api/optimize/desc.optimize.Optimizer.html)). "
   ]
  },
  {
   "cell_type": "code",
   "execution_count": null,
   "id": "3cf749c0",
   "metadata": {
    "pycharm": {
     "name": "#%%\n"
    }
   },
   "outputs": [],
   "source": [
    "optimizer = Optimizer(\"lsq-exact\")"
   ]
  },
  {
   "cell_type": "markdown",
   "id": "8a74cacf",
   "metadata": {
    "pycharm": {
     "name": "#%% md\n"
    }
   },
   "source": [
    "Next we need to define the optimization constraints. In DESC, we explicitly specify the constraints, and all other parameters become free variables for optimization. In this example, we would like the following 4 stellarator-symmetric boundary coefficients to be our only optimization variables:\n",
    "\n",
    "\\begin{multline}\n",
    "\\\\\n",
    "R^{b}_{1,2} \\cos(\\theta) \\cos(2N_{FP}\\phi) \\\\\n",
    "R^{b}_{-1,-2} \\sin(\\theta) \\sin(2N_{FP}\\phi) \\\\\n",
    "Z^{b}_{-1,2} \\sin(\\theta) \\cos(2N_{FP}\\phi) \\\\\n",
    "Z^{b}_{1,-2} \\cos(\\theta) \\sin(2N_{FP}\\phi) \\\\\n",
    "\\\\\n",
    "\\end{multline}\n",
    "\n",
    "We will fix all other boundary modes besides these. We will also fix the pressure profile, rotational transform profile, and total toroidal magnetic flux. Finally, we also specify equilibrium force balance as a constraint by including the `ForceBalance()` objective in the list of constraints."
   ]
  },
  {
   "cell_type": "code",
   "execution_count": null,
   "id": "b89fca93",
   "metadata": {
    "pycharm": {
     "name": "#%%\n"
    }
   },
   "outputs": [],
   "source": [
    "# indices of boundary modes we want to optimize\n",
    "idx_Rcc = eq_init.surface.R_basis.get_idx(M=1, N=2)\n",
    "idx_Rss = eq_init.surface.R_basis.get_idx(M=-1, N=-2)\n",
    "idx_Zsc = eq_init.surface.Z_basis.get_idx(M=-1, N=2)\n",
    "idx_Zcs = eq_init.surface.Z_basis.get_idx(M=1, N=-2)\n",
    "\n",
    "# boundary modes to constrain\n",
    "R_modes = np.delete(eq_init.surface.R_basis.modes, [idx_Rcc, idx_Rss], axis=0)\n",
    "Z_modes = np.delete(eq_init.surface.Z_basis.modes, [idx_Zsc, idx_Zcs], axis=0)\n",
    "\n",
    "# constraints\n",
    "constraints = (\n",
    "    ForceBalance(),  # enforce JxB-grad(p)=0 during optimization\n",
    "    FixBoundaryR(modes=R_modes),  # fix specified R boundary modes\n",
    "    FixBoundaryZ(modes=Z_modes),  # fix specified Z boundary modes\n",
    "    FixPressure(),  # fix pressure profile\n",
    "    FixIota(),  # fix rotational transform profile\n",
    "    FixPsi(),  # fix total toroidal magnetic flux\n",
    ")"
   ]
  },
  {
   "cell_type": "markdown",
   "id": "04ab14db",
   "metadata": {
    "pycharm": {
     "name": "#%% md\n"
    }
   },
   "source": [
    "## Triple Product QS in Volume"
   ]
  },
  {
   "cell_type": "markdown",
   "id": "7340b667",
   "metadata": {
    "pycharm": {
     "name": "#%% md\n"
    }
   },
   "source": [
    "First we are going to optimize for QS using the \"triple product\" objective, evaluated throughout the plasma volume. We start by creating the grid of collocation points where we want the $f_T$ errors to be evaluated. We then initialize the appropriate objective function with this grid. "
   ]
  },
  {
   "cell_type": "code",
   "execution_count": null,
   "id": "9d887cef",
   "metadata": {
    "pycharm": {
     "name": "#%%\n"
    }
   },
   "outputs": [],
   "source": [
    "# objective\n",
    "grid_vol = ConcentricGrid(\n",
    "    L=eq_init.L_grid,\n",
    "    M=eq_init.M_grid,\n",
    "    N=eq_init.N_grid,\n",
    "    NFP=eq_init.NFP,\n",
    "    sym=eq_init.sym,\n",
    ")\n",
    "plot_grid(grid_vol)\n",
    "objective_fT = ObjectiveFunction(QuasisymmetryTripleProduct(grid=grid_vol), verbose=0)"
   ]
  },
  {
   "cell_type": "markdown",
   "id": "4c4da820",
   "metadata": {
    "pycharm": {
     "name": "#%% md\n"
    }
   },
   "source": [
    "We are now ready to run the optimization problem. The syntax is shown below with many of the optimization options that are available -- you can try changing these parameters. "
   ]
  },
  {
   "cell_type": "code",
   "execution_count": null,
   "id": "51bd3157",
   "metadata": {
    "pycharm": {
     "name": "#%%\n"
    }
   },
   "outputs": [],
   "source": [
    "eq_qs_T, result_T = eq_init.optimize(\n",
    "    objective=objective_fT,\n",
    "    constraints=constraints,\n",
    "    optimizer=optimizer,\n",
    "    ftol=1e-2,  # stopping tolerance on the function value\n",
    "    xtol=1e-6,  # stopping tolerance on the step size\n",
    "    gtol=1e-6,  # stopping tolerance on the gradient\n",
    "    maxiter=50,  # maximum number of iterations\n",
    "    options={\n",
    "        \"perturb_options\": {\"order\": 2, \"verbose\": 0},  # use 2nd-order perturbations\n",
    "        \"solve_options\": {\n",
    "            \"ftol\": 1e-2,\n",
    "            \"xtol\": 1e-6,\n",
    "            \"gtol\": 1e-6,\n",
    "            \"verbose\": 0,\n",
    "        },  # for equilibrium subproblem\n",
    "    },\n",
    "    copy=True,  # return a new Equilibrium object (copy=False will overwrite the original)\n",
    "    verbose=3,\n",
    ")"
   ]
  },
  {
   "cell_type": "markdown",
   "id": "2d253b0d",
   "metadata": {
    "pycharm": {
     "name": "#%% md\n"
    }
   },
   "source": [
    "Let us plot the QS errors again to see how well the optimization worked: "
   ]
  },
  {
   "cell_type": "code",
   "execution_count": null,
   "id": "f196ded4",
   "metadata": {
    "pycharm": {
     "name": "#%%\n"
    }
   },
   "outputs": [],
   "source": [
    "plot_boozer_surface(eq_qs_T);  # |B| contours at rho=1 surface"
   ]
  },
  {
   "cell_type": "code",
   "execution_count": null,
   "id": "3281d4f6",
   "metadata": {
    "pycharm": {
     "name": "#%%\n"
    }
   },
   "outputs": [],
   "source": [
    "# compare f_T & f_C before (o) vs after (x) optimization\n",
    "fig, ax = plot_qs_error(\n",
    "    eq_init, helicity=(1, eq_init.NFP), fB=False, legend=False, rho=10\n",
    ")\n",
    "plot_qs_error(\n",
    "    eq_qs_T, helicity=(1, eq_init.NFP), fB=False, ax=ax, markers=[\"x\", \"x\"], rho=10\n",
    ");"
   ]
  },
  {
   "cell_type": "code",
   "execution_count": null,
   "id": "79de4d0f",
   "metadata": {
    "pycharm": {
     "name": "#%%\n"
    }
   },
   "outputs": [],
   "source": [
    "# compare f_B before (o) vs after (x) optimization\n",
    "fig, ax = plot_qs_error(\n",
    "    eq_init, helicity=(1, eq_init.NFP), fT=False, fC=False, legend=False, rho=10\n",
    ")\n",
    "plot_qs_error(\n",
    "    eq_qs_T, helicity=(1, eq_init.NFP), fT=False, fC=False, ax=ax, markers=[\"x\"], rho=10\n",
    ");"
   ]
  },
  {
   "cell_type": "markdown",
   "id": "14ea79a4",
   "metadata": {
    "pycharm": {
     "name": "#%% md\n"
    }
   },
   "source": [
    "## Two-Term QH at Boundary Surface"
   ]
  },
  {
   "cell_type": "markdown",
   "id": "dfc5b03e",
   "metadata": {
    "pycharm": {
     "name": "#%% md\n"
    }
   },
   "source": [
    "Next we are going to optimize for QH using the \"two-term\" objective, evaluated at the $\\rho=1$ flux surface. Again we need to create the grid of collocation points where we want the $f_C$ errors to be evaluated. We then initialize the appropriate objective function with this grid. "
   ]
  },
  {
   "cell_type": "code",
   "execution_count": null,
   "id": "5a909e41",
   "metadata": {
    "pycharm": {
     "name": "#%%\n"
    }
   },
   "outputs": [],
   "source": [
    "grid_rho1 = LinearGrid(\n",
    "    M=eq_init.M_grid,\n",
    "    N=eq_init.N_grid,\n",
    "    NFP=eq_init.NFP,\n",
    "    sym=eq_init.sym,\n",
    "    rho=np.array(1.0),\n",
    ")\n",
    "plot_grid(grid_rho1)\n",
    "objective_fC = ObjectiveFunction(\n",
    "    QuasisymmetryTwoTerm(grid=grid_rho1, helicity=(1, eq_init.NFP)), verbose=0\n",
    ")"
   ]
  },
  {
   "cell_type": "markdown",
   "id": "85f17216",
   "metadata": {
    "pycharm": {
     "name": "#%% md\n"
    }
   },
   "source": [
    "Now we can re-run the optimization from the same intial guess as before, but using this different objective function. We can reuse the same `optimizer` and `constraints` from the first run. "
   ]
  },
  {
   "cell_type": "code",
   "execution_count": null,
   "id": "1827353a",
   "metadata": {
    "pycharm": {
     "name": "#%%\n"
    }
   },
   "outputs": [],
   "source": [
    "eq_qs_C, result_C = eq_init.optimize(\n",
    "    objective=objective_fC,\n",
    "    constraints=constraints,\n",
    "    optimizer=optimizer,\n",
    "    ftol=1e-2,\n",
    "    xtol=1e-6,\n",
    "    gtol=1e-6,\n",
    "    maxiter=50,\n",
    "    options={\n",
    "        \"perturb_options\": {\"order\": 2, \"verbose\": 0},\n",
    "        \"solve_options\": {\"ftol\": 1e-2, \"xtol\": 1e-6, \"gtol\": 1e-6, \"verbose\": 0},\n",
    "    },\n",
    "    copy=True,\n",
    "    verbose=3,\n",
    ")"
   ]
  },
  {
   "cell_type": "markdown",
   "id": "102723be",
   "metadata": {
    "pycharm": {
     "name": "#%% md\n"
    }
   },
   "source": [
    "Let us plot the QS errors again for this case. Was one objective more effective than the other at improving quasi-symmetry for this example? "
   ]
  },
  {
   "cell_type": "code",
   "execution_count": null,
   "id": "f22b56d3",
   "metadata": {
    "pycharm": {
     "name": "#%%\n"
    }
   },
   "outputs": [],
   "source": [
    "plot_boozer_surface(eq_qs_C);  # |B| contours at rho=1 surface"
   ]
  },
  {
   "cell_type": "code",
   "execution_count": null,
   "id": "a39dc1eb",
   "metadata": {
    "pycharm": {
     "name": "#%%\n"
    }
   },
   "outputs": [],
   "source": [
    "# compare f_T & f_C before (o) vs after (x) optimization\n",
    "fig, ax = plot_qs_error(\n",
    "    eq_init, helicity=(1, eq_init.NFP), fB=False, legend=False, rho=10\n",
    ")\n",
    "plot_qs_error(\n",
    "    eq_qs_C, helicity=(1, eq_init.NFP), fB=False, ax=ax, markers=[\"x\", \"x\"], rho=10\n",
    ");"
   ]
  },
  {
   "cell_type": "code",
   "execution_count": null,
   "id": "425521a9",
   "metadata": {
    "pycharm": {
     "name": "#%%\n"
    }
   },
   "outputs": [],
   "source": [
    "# compare f_B before (o) vs after (x) optimization\n",
    "fig, ax = plot_qs_error(\n",
    "    eq_init, helicity=(1, eq_init.NFP), fT=False, fC=False, legend=False, rho=10\n",
    ")\n",
    "plot_qs_error(\n",
    "    eq_qs_C, helicity=(1, eq_init.NFP), fT=False, fC=False, ax=ax, markers=[\"x\"], rho=10\n",
    ");"
   ]
  },
  {
   "cell_type": "markdown",
   "id": "eb077a08",
   "metadata": {
    "pycharm": {
     "name": "#%% md\n"
    }
   },
   "source": [
    "## Combining Multiple Objectives"
   ]
  },
  {
   "cell_type": "markdown",
   "id": "69e5fd39",
   "metadata": {
    "pycharm": {
     "name": "#%% md\n"
    }
   },
   "source": [
    "It is very easy in DESC to combine multiple optimization objectives with relative weights between them. Here is an example of how to create an objective optimizing for both $f_B$ and a target aspect ratio: "
   ]
  },
  {
   "cell_type": "code",
   "execution_count": null,
   "id": "1ca679f2",
   "metadata": {
    "pycharm": {
     "name": "#%%\n"
    }
   },
   "outputs": [],
   "source": [
    "objective = ObjectiveFunction(\n",
    "    (\n",
    "        QuasisymmetryBoozer(helicity=(1, eq_init.NFP), weight=1e-2),\n",
    "        AspectRatio(target=6, weight=1e1),\n",
    "    )\n",
    ")"
   ]
  }
 ],
 "metadata": {
  "kernelspec": {
   "display_name": "Python 3 (ipykernel)",
   "language": "python",
   "name": "python3"
  },
  "language_info": {
   "codemirror_mode": {
    "name": "ipython",
    "version": 3
   },
   "file_extension": ".py",
   "mimetype": "text/x-python",
   "name": "python",
   "nbconvert_exporter": "python",
   "pygments_lexer": "ipython3",
   "version": "3.9.12"
  }
 },
 "nbformat": 4,
 "nbformat_minor": 5
}
