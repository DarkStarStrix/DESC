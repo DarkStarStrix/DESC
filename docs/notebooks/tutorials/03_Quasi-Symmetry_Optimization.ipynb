{
 "cells": [
  {
   "cell_type": "markdown",
   "id": "1d92f237",
   "metadata": {},
   "source": [
    "# Stellarator Optimization"
   ]
  },
  {
   "cell_type": "markdown",
   "id": "497bc74a",
   "metadata": {},
   "source": [
    "This tutorial demonstrates how to perform optimization with DESC. It will go through two examples: 1) targeting the \"triple product\" quasi-symmetry objective $f_T$ in the full plasma volume 2) targeting the \"two-term\" objective $f_C$ for quasi-helical symmetry at the plasma boundary surface. These examples are adapted from a problem first presented in [Rodriguez et al (2022)](https://www.cambridge.org/core/journals/journal-of-plasma-physics/article/measures-of-quasisymmetry-for-stellarators/01B9DFE86A23964F331E0E0615B4E7A2) and reproduced in [Dudt et al (2022)](https://arxiv.org/abs/2204.00078). "
   ]
  },
  {
   "cell_type": "code",
   "execution_count": 3,
   "id": "0974e779",
   "metadata": {},
   "outputs": [],
   "source": [
    "import sys\n",
    "import os\n",
    "sys.path.insert(0, os.path.abspath('.'))\n",
    "sys.path.append(os.path.abspath('../../'))"
   ]
  },
  {
   "cell_type": "markdown",
   "id": "4b44dea5",
   "metadata": {},
   "source": [
    "If you have acess to a GPU, uncomment the line `set_device(\"gpu\")`. You should see about an order of magnitude speed improvement with only this single line of code! "
   ]
  },
  {
   "cell_type": "code",
   "execution_count": 4,
   "id": "9a54753b",
   "metadata": {},
   "outputs": [
    {
     "ename": "ModuleNotFoundError",
     "evalue": "No module named 'desc'",
     "output_type": "error",
     "traceback": [
      "\u001b[1;31m---------------------------------------------------------------------------\u001b[0m",
      "\u001b[1;31mModuleNotFoundError\u001b[0m                       Traceback (most recent call last)",
      "\u001b[1;32m<ipython-input-4-81343cc54a34>\u001b[0m in \u001b[0;36m<module>\u001b[1;34m\u001b[0m\n\u001b[1;32m----> 1\u001b[1;33m \u001b[1;32mfrom\u001b[0m \u001b[0mdesc\u001b[0m \u001b[1;32mimport\u001b[0m \u001b[0mset_device\u001b[0m\u001b[1;33m\u001b[0m\u001b[1;33m\u001b[0m\u001b[0m\n\u001b[0m\u001b[0;32m      2\u001b[0m \u001b[1;31m# set_device(\"gpu\")\u001b[0m\u001b[1;33m\u001b[0m\u001b[1;33m\u001b[0m\u001b[1;33m\u001b[0m\u001b[0m\n",
      "\u001b[1;31mModuleNotFoundError\u001b[0m: No module named 'desc'"
     ]
    }
   ],
   "source": [
    "from desc import set_device\n",
    "# set_device(\"gpu\")"
   ]
  },
  {
   "cell_type": "code",
   "execution_count": 5,
   "id": "ee57db1b",
   "metadata": {},
   "outputs": [
    {
     "ename": "ModuleNotFoundError",
     "evalue": "No module named 'desc'",
     "output_type": "error",
     "traceback": [
      "\u001b[1;31m---------------------------------------------------------------------------\u001b[0m",
      "\u001b[1;31mModuleNotFoundError\u001b[0m                       Traceback (most recent call last)",
      "\u001b[1;32m<ipython-input-5-65b78aaf074d>\u001b[0m in \u001b[0;36m<module>\u001b[1;34m\u001b[0m\n\u001b[0;32m      3\u001b[0m \u001b[1;32mimport\u001b[0m \u001b[0mmatplotlib\u001b[0m\u001b[1;33m.\u001b[0m\u001b[0mpyplot\u001b[0m \u001b[1;32mas\u001b[0m \u001b[0mplt\u001b[0m\u001b[1;33m\u001b[0m\u001b[1;33m\u001b[0m\u001b[0m\n\u001b[0;32m      4\u001b[0m \u001b[1;33m\u001b[0m\u001b[0m\n\u001b[1;32m----> 5\u001b[1;33m \u001b[1;32mimport\u001b[0m \u001b[0mdesc\u001b[0m\u001b[1;33m.\u001b[0m\u001b[0mio\u001b[0m\u001b[1;33m\u001b[0m\u001b[1;33m\u001b[0m\u001b[0m\n\u001b[0m\u001b[0;32m      6\u001b[0m \u001b[1;32mfrom\u001b[0m \u001b[0mdesc\u001b[0m\u001b[1;33m.\u001b[0m\u001b[0mgrid\u001b[0m \u001b[1;32mimport\u001b[0m \u001b[0mLinearGrid\u001b[0m\u001b[1;33m,\u001b[0m \u001b[0mConcentricGrid\u001b[0m\u001b[1;33m\u001b[0m\u001b[1;33m\u001b[0m\u001b[0m\n\u001b[0;32m      7\u001b[0m from desc.objectives import (\n",
      "\u001b[1;31mModuleNotFoundError\u001b[0m: No module named 'desc'"
     ]
    }
   ],
   "source": [
    "%matplotlib inline\n",
    "import numpy as np\n",
    "import matplotlib.pyplot as plt\n",
    "\n",
    "import desc.io\n",
    "from desc.grid import LinearGrid, ConcentricGrid\n",
    "from desc.objectives import (\n",
    "    ObjectiveFunction,\n",
    "    FixBoundaryR,\n",
    "    FixBoundaryZ,\n",
    "    FixPressure,\n",
    "    FixIota,\n",
    "    FixPsi,\n",
    "    AspectRatio,\n",
    "    ForceBalance,\n",
    "    QuasisymmetryBoozer,\n",
    "    QuasisymmetryTwoTerm,\n",
    "    QuasisymmetryTripleProduct,\n",
    ")\n",
    "from desc.optimize import Optimizer\n",
    "from desc.plotting import plot_boozer_modes, plot_boozer_surface, plot_qs_error"
   ]
  },
  {
   "cell_type": "markdown",
   "id": "db2bd33c",
   "metadata": {},
   "source": [
    "To save time during this tutorial, we will load an equilibrium solution to use as the initial guess for optimization. This equilibrium is already somewhat close to quasi-helical symmetry (QH) but can be improved. "
   ]
  },
  {
   "cell_type": "code",
   "execution_count": null,
   "id": "dd4085bc",
   "metadata": {},
   "outputs": [],
   "source": [
    "# load initial equilibrium\n",
    "eq_init = desc.io.load(\"qs_initial_guess.h5\")"
   ]
  },
  {
   "cell_type": "markdown",
   "id": "a3b51954",
   "metadata": {},
   "source": [
    "There are several plotting functions available in DESC that are useful for visualizing the quasi-symmetry (QS) errors. Let us look at the initial errors before optimization: "
   ]
  },
  {
   "cell_type": "code",
   "execution_count": null,
   "id": "7c58097b",
   "metadata": {},
   "outputs": [],
   "source": [
    "plot_boozer_modes(eq_init, num_modes=8);  # plot modes of |B| in Boozer coordinates\n",
    "plot_boozer_surface(eq_init);  # plot |B| contours in Boozer coordinates on a surface (default is rho=1)\n",
    "plot_qs_error(eq_init);  # plot normalized QS metrics"
   ]
  },
  {
   "cell_type": "markdown",
   "id": "1df7a48b",
   "metadata": {},
   "source": [
    "The last plot shows the three different QS errors implemented in DESC. Their definitions and the normalized scalar quantities plotted for each flux surface are shown below: \n",
    "\n",
    "### Boozer Coordinates\n",
    "\n",
    "This is the \"traditional\" definition of QS. The drawbacks of this metric are that Boozer coordinates are expensive to compute, and it only provides \"global\" information about the error on each surface. But it has the nice property of $\\hat{f}_B \\in [0,1]$. \n",
    "\n",
    "\\begin{equation}\n",
    "|\\mathbf{B}| = B(\\psi, M\\vartheta_{B} - N\\zeta_{B})\n",
    "\\end{equation}\n",
    "\n",
    "\\begin{equation}\n",
    "\\mathbf{f}_{B} = \\{ B_{mn} ~|~ m/n \\neq M/N \\}\n",
    "\\end{equation}\n",
    "\n",
    "\\begin{equation}\n",
    "\\hat{f}_{B} = \\frac{|\\mathbf{f}_{B}|}{\\sqrt{\\sum_{m,n} B_{mn}^2}}\n",
    "\\end{equation}\n",
    "\n",
    "### Two-Term\n",
    "\n",
    "This definition is advantageous because it does not require a transformation to Boozer coordinates and it reveals \"local\" errors within a flux surface. \n",
    "\n",
    "\\begin{equation}\n",
    "f_{C} = \\left( M \\iota - N \\right) \\left( \\mathbf{B} \\times \\nabla \\psi \\right) \\cdot \\nabla B - \\left( M G + N I \\right) \\mathbf{B} \\cdot \\nabla B. \n",
    "\\end{equation}\n",
    "\n",
    "\\begin{equation}\n",
    "\\mathbf{f}_{C} = \\{ f_{C}(\\theta_{i},\\zeta_{j}) ~|~ i \\in [0,2\\pi), j \\in [0,2\\pi/N_{FP}) \\}\n",
    "\\end{equation}\n",
    "\n",
    "\\begin{equation}\n",
    "\\hat{f}_{C} = \\frac{\\langle |f_C| \\rangle}{\\langle B \\rangle^3}.\n",
    "\\end{equation}\n",
    "\n",
    "### Triple Product\n",
    "\n",
    "This is also a local error metric that can be evaluated without Boozer coordinates. The potential advantages of this definition are that it does not require specifying the helicity (type of quasi-symmetry) and does not assume $\\mathbf{J}\\cdot\\nabla\\psi=0$. \n",
    "\n",
    "\\begin{equation}\n",
    "f_{T} = \\nabla \\psi \\times \\nabla B \\cdot \\nabla \\left( \\mathbf{B} \\cdot \\nabla B \\right)\n",
    "\\end{equation}\n",
    "\n",
    "\\begin{equation}\n",
    "\\label{eq:fT_vec}\n",
    "\\mathbf{f}_{T} = \\{ f_{T}(\\theta_{i},\\zeta_{j}) ~|~ i \\in [0,2\\pi), j \\in [0,2\\pi/N_{FP}) \\}\n",
    "\\end{equation}\n",
    "\n",
    "\\begin{equation}\n",
    "\\label{eq:fT_hat}\n",
    "\\hat{f}_{T}(\\psi) = \\frac{\\langle R \\rangle^2 \\langle |f_{T}| \\rangle}{\\langle B \\rangle^4}\n",
    "\\end{equation}"
   ]
  },
  {
   "cell_type": "markdown",
   "id": "3348ce72",
   "metadata": {},
   "source": [
    "To set up the optimization problem, we need to choose an optimization algorithm. `\"lsq-exact\"` is a custom least-squares routine, but there are other options available ([see documentation](https://desc-docs.readthedocs.io/en/latest/_api/optimize/desc.optimize.Optimizer.html)). "
   ]
  },
  {
   "cell_type": "code",
   "execution_count": 6,
   "id": "3cf749c0",
   "metadata": {},
   "outputs": [
    {
     "ename": "NameError",
     "evalue": "name 'Optimizer' is not defined",
     "output_type": "error",
     "traceback": [
      "\u001b[1;31m---------------------------------------------------------------------------\u001b[0m",
      "\u001b[1;31mNameError\u001b[0m                                 Traceback (most recent call last)",
      "\u001b[1;32m<ipython-input-6-4a2a82ca4906>\u001b[0m in \u001b[0;36m<module>\u001b[1;34m\u001b[0m\n\u001b[1;32m----> 1\u001b[1;33m \u001b[0moptimizer\u001b[0m \u001b[1;33m=\u001b[0m \u001b[0mOptimizer\u001b[0m\u001b[1;33m(\u001b[0m\u001b[1;34m\"lsq-exact\"\u001b[0m\u001b[1;33m)\u001b[0m\u001b[1;33m\u001b[0m\u001b[1;33m\u001b[0m\u001b[0m\n\u001b[0m",
      "\u001b[1;31mNameError\u001b[0m: name 'Optimizer' is not defined"
     ]
    }
   ],
   "source": [
    "optimizer = Optimizer(\"lsq-exact\")"
   ]
  },
  {
   "cell_type": "markdown",
   "id": "8a74cacf",
   "metadata": {},
   "source": [
    "Next we need to define the optimization constraints. In DESC we explicitly specify the constraints, and all other parameters become free variables for optimization. In this example, we would like the following 4 stellarator-symmetric boundary coefficients to be our only optimization variables: \n",
    "\n",
    "\\begin{equation}\n",
    "R^{b}_{1,2} \\cos(\\theta) \\cos(2N_{FP}\\phi) \\\\\n",
    "R^{b}_{-1,-2} \\sin(\\theta) \\sin(2N_{FP}\\phi) \\\\\n",
    "Z^{b}_{-1,2} \\sin(\\theta) \\cos(2N_{FP}\\phi) \\\\\n",
    "Z^{b}_{1,-2} \\cos(\\theta) \\sin(2N_{FP}\\phi) \\\\\n",
    "\\end{equation}\n",
    "\n",
    "We will fix all other boundary modes besides these ones. We will also fix the pressure profile, rotational transform profile, and total toroidal magnetic flux. Finally, we also specify equilibrium force balance as a constraint by including the `ForceBalance()` objective in the list of constraints. "
   ]
  },
  {
   "cell_type": "code",
   "execution_count": null,
   "id": "b89fca93",
   "metadata": {},
   "outputs": [],
   "source": [
    "# indices of boundary modes we want to optimize\n",
    "idx_Rcc = eq_init.surface.R_basis.get_idx(M=1, N=2)\n",
    "idx_Rss = eq_init.surface.R_basis.get_idx(M=-1, N=-2)\n",
    "idx_Zsc = eq_init.surface.Z_basis.get_idx(M=-1, N=2)\n",
    "idx_Zcs = eq_init.surface.Z_basis.get_idx(M=1, N=-2)\n",
    "\n",
    "# boundary modes to constrain\n",
    "R_modes = np.delete(eq_init.surface.R_basis.modes, [idx_Rcc, idx_Rss], axis=0)\n",
    "Z_modes = np.delete(eq_init.surface.Z_basis.modes, [idx_Zsc, idx_Zcs], axis=0)\n",
    "\n",
    "# constraints\n",
    "constraints = (\n",
    "    ForceBalance(),  # enforce JxB-grad(p)=0 during optimization\n",
    "    FixBoundaryR(modes=R_modes),  # fix specified R boundary modes\n",
    "    FixBoundaryZ(modes=Z_modes),  # fix specified Z boundary modes\n",
    "    FixPressure(),  # fix pressure profile\n",
    "    FixIota(),  # fix rotational transform profile\n",
    "    FixPsi(),  # fix total toroidal magnetic flux\n",
    ")"
   ]
  },
  {
   "cell_type": "markdown",
   "id": "04ab14db",
   "metadata": {},
   "source": [
    "## Triple Product QS in Volume"
   ]
  },
  {
   "cell_type": "markdown",
   "id": "7340b667",
   "metadata": {},
   "source": [
    "First we are going to optimize for QS using the \"triple product\" objective, evaluated throughout the plasma volume. We start by creating the grid of collocation points where we want the $f_T$ errors to be evaluated. We then initialize the appropriate objective function with this grid. "
   ]
  },
  {
   "cell_type": "code",
   "execution_count": null,
   "id": "9d887cef",
   "metadata": {},
   "outputs": [],
   "source": [
    "# objective\n",
    "grid = ConcentricGrid(L=eq_init.L_grid, M=eq_init.M_grid, N=eq_init.N_grid, NFP=eq_init.NFP, sym=eq_init.sym)\n",
    "objective_fT = ObjectiveFunction(QuasisymmetryTripleProduct(grid=grid), verbose=0)"
   ]
  },
  {
   "cell_type": "markdown",
   "id": "4c4da820",
   "metadata": {},
   "source": [
    "We are now ready to run the optimization problem. The syntax is shown below with many of the optimization options that are available -- you can try changing these parameters. "
   ]
  },
  {
   "cell_type": "code",
   "execution_count": null,
   "id": "51bd3157",
   "metadata": {},
   "outputs": [],
   "source": [
    "eq_qs_T, result_T = eq_init.optimize(\n",
    "    objective=objective_fT,\n",
    "    constraints=constraints,\n",
    "    optimizer=optimizer,\n",
    "    ftol=1e-2,  # stopping tolerance on the function value\n",
    "    xtol=1e-6,  # stopping tolerance on the step size\n",
    "    gtol=1e-6,  # stopping tolerance on the gradient\n",
    "    maxiter=50,  # maximum number of iterations\n",
    "    options={\n",
    "        \"perturb_options\": {\"order\": 2, \"verbose\": 0},  # use 2nd-order perturbations\n",
    "        \"solve_options\": {\"ftol\": 1e-2, \"xtol\": 1e-6, \"gtol\": 1e-6, \"verbose\": 0},\n",
    "    },\n",
    "    copy=True,  # return a new Equilibrium object (copy=False will overwrite the original)\n",
    "    verbose=3,\n",
    ")"
   ]
  },
  {
   "cell_type": "markdown",
   "id": "2d253b0d",
   "metadata": {},
   "source": [
    "Let us plot the QS errors again to see how well the optimization worked: "
   ]
  },
  {
   "cell_type": "code",
   "execution_count": null,
   "id": "f196ded4",
   "metadata": {},
   "outputs": [],
   "source": [
    "plot_boozer_surface(eq_qs_T);  # |B| contours at rho=1 surface"
   ]
  },
  {
   "cell_type": "code",
   "execution_count": null,
   "id": "3281d4f6",
   "metadata": {},
   "outputs": [],
   "source": [
    "# compare f_T & f_C before (o) vs after (x) optimization\n",
    "fig, ax = plot_qs_error(eq_init, fB=False);\n",
    "plot_qs_error(eq_qs_T, ax=ax, fB=False);\n",
    "for line in plt.gca().lines[2:]:\n",
    "    line.set_marker('x')"
   ]
  },
  {
   "cell_type": "code",
   "execution_count": null,
   "id": "79de4d0f",
   "metadata": {},
   "outputs": [],
   "source": [
    "# compare f_B before (o) vs after (x) optimization\n",
    "fig, ax = plot_qs_error(eq_init, fT=False, fC=False);\n",
    "plot_qs_error(eq_qs_T, ax=ax, fT=False, fC=False);\n",
    "for line in plt.gca().lines[2:]:\n",
    "    line.set_marker('x')"
   ]
  },
  {
   "cell_type": "markdown",
   "id": "14ea79a4",
   "metadata": {},
   "source": [
    "## Two-Term QH at Boundary Surface"
   ]
  },
  {
   "cell_type": "markdown",
   "id": "dfc5b03e",
   "metadata": {},
   "source": [
    "Next we are going to optimize for QH using the \"two-term\" objective, evaluated at the $\\rho=1$ flux surface. Again we need to create the grid of collocation points where we want the $f_C$ errors to be evaluated. We then initialize the appropriate objective function with this grid. "
   ]
  },
  {
   "cell_type": "code",
   "execution_count": null,
   "id": "5a909e41",
   "metadata": {},
   "outputs": [],
   "source": [
    "grid = LinearGrid(M=2 * eq.M_grid + 1, N=2 * eq.N_grid + 1, NFP=eq.NFP, sym=eq.sym, rho=1.0)\n",
    "objective_fC = ObjectiveFunction(QuasisymmetryTwoTerm(helicity=(1, eq.NFP)), verbose=0)"
   ]
  },
  {
   "cell_type": "markdown",
   "id": "85f17216",
   "metadata": {},
   "source": [
    "Now we can re-run the optimization from the same intial guess as before, but using this different objective function. We can reuse the same `optimizer` and `constraints` from the first run. "
   ]
  },
  {
   "cell_type": "code",
   "execution_count": null,
   "id": "1827353a",
   "metadata": {},
   "outputs": [],
   "source": [
    "eq_qs_C, result_C = eq_init.optimize(\n",
    "    objective=objective_fC,\n",
    "    constraints=constraints,\n",
    "    optimizer=optimizer,\n",
    "    ftol=1e-2,\n",
    "    xtol=1e-6,\n",
    "    gtol=1e-6,\n",
    "    maxiter=50,\n",
    "    options={\n",
    "        \"perturb_options\": {\"order\": 2, \"verbose\": 0},\n",
    "        \"solve_options\": {\"ftol\": 1e-2, \"xtol\": 1e-6, \"gtol\": 1e-6, \"verbose\": 0},\n",
    "    },\n",
    "    copy=True,\n",
    "    verbose=3,\n",
    ")"
   ]
  },
  {
   "cell_type": "markdown",
   "id": "102723be",
   "metadata": {},
   "source": [
    "Let us plot the QS errors again for this case. Was one objective more effective than the other at improving quasi-symmetry for this example? "
   ]
  },
  {
   "cell_type": "code",
   "execution_count": null,
   "id": "f22b56d3",
   "metadata": {},
   "outputs": [],
   "source": [
    "plot_boozer_surface(eq_qs_C);  # |B| contours at rho=1 surface"
   ]
  },
  {
   "cell_type": "code",
   "execution_count": null,
   "id": "a39dc1eb",
   "metadata": {},
   "outputs": [],
   "source": [
    "# compare f_T & f_C before (o) vs after (x) optimization\n",
    "fig, ax = plot_qs_error(eq_init, fB=False);\n",
    "plot_qs_error(eq_qs_C, ax=ax, fB=False);\n",
    "for line in plt.gca().lines[2:]:\n",
    "    line.set_marker('x')"
   ]
  },
  {
   "cell_type": "code",
   "execution_count": null,
   "id": "425521a9",
   "metadata": {},
   "outputs": [],
   "source": [
    "# compare f_B before (o) vs after (x) optimization\n",
    "fig, ax = plot_qs_error(eq_init, fT=False, fC=False);\n",
    "plot_qs_error(eq_qs_C, ax=ax, fT=False, fC=False);\n",
    "for line in plt.gca().lines[2:]:\n",
    "    line.set_marker('x')"
   ]
  },
  {
   "cell_type": "markdown",
   "id": "eb077a08",
   "metadata": {},
   "source": [
    "## Combining Multiple Objectives"
   ]
  },
  {
   "cell_type": "markdown",
   "id": "69e5fd39",
   "metadata": {},
   "source": [
    "It is very easy in DESC to combine multiple optimization objectives with relative weights between them. Here is an example of how to create an objective optimizing for both $f_B$ and a target aspect ratio: "
   ]
  },
  {
   "cell_type": "code",
   "execution_count": null,
   "id": "1ca679f2",
   "metadata": {},
   "outputs": [],
   "source": [
    "objective = ObjectiveFunction(\n",
    "    (\n",
    "        QuasisymmetryBoozer(helicity=(1, eq_init.NFP), weight=1e-2),\n",
    "        AspectRatio(target=6, weight=1e1),\n",
    "    )\n",
    ")"
   ]
  }
 ],
 "metadata": {
  "kernelspec": {
   "display_name": "Python 3",
   "language": "python",
   "name": "python3"
  },
  "language_info": {
   "codemirror_mode": {
    "name": "ipython",
    "version": 3
   },
   "file_extension": ".py",
   "mimetype": "text/x-python",
   "name": "python",
   "nbconvert_exporter": "python",
   "pygments_lexer": "ipython3",
   "version": "3.8.5"
  }
 },
 "nbformat": 4,
 "nbformat_minor": 5
}
