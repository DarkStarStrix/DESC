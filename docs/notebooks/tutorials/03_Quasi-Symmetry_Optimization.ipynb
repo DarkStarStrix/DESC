{
 "cells": [
  {
   "cell_type": "markdown",
   "id": "96103924",
   "metadata": {},
   "source": [
    "# Optimization"
   ]
  },
  {
   "cell_type": "markdown",
   "id": "0d2f66ff",
   "metadata": {},
   "source": [
    "Demonstrates quasi-symmetry optimization with two examples: 1) targeting triple product QS objective in full volume 2) targeting two term QH objective at the boundary surface. Explain that this example is adapted from Eduardo & Daniel's papers. "
   ]
  },
  {
   "cell_type": "code",
   "execution_count": 3,
   "id": "1ad27ee1",
   "metadata": {},
   "outputs": [],
   "source": [
    "import sys\n",
    "import os\n",
    "sys.path.insert(0, os.path.abspath('.'))\n",
    "sys.path.append(os.path.abspath('../../'))"
   ]
  },
  {
   "cell_type": "markdown",
   "id": "0fc56715",
   "metadata": {},
   "source": [
    "If you have acess to a GPU, uncomment the line `set_device(\"gpu\")`: "
   ]
  },
  {
   "cell_type": "code",
   "execution_count": 4,
   "id": "6bca5188",
   "metadata": {},
   "outputs": [
    {
     "ename": "ModuleNotFoundError",
     "evalue": "No module named 'desc'",
     "output_type": "error",
     "traceback": [
      "\u001b[1;31m---------------------------------------------------------------------------\u001b[0m",
      "\u001b[1;31mModuleNotFoundError\u001b[0m                       Traceback (most recent call last)",
      "\u001b[1;32m<ipython-input-4-81343cc54a34>\u001b[0m in \u001b[0;36m<module>\u001b[1;34m\u001b[0m\n\u001b[1;32m----> 1\u001b[1;33m \u001b[1;32mfrom\u001b[0m \u001b[0mdesc\u001b[0m \u001b[1;32mimport\u001b[0m \u001b[0mset_device\u001b[0m\u001b[1;33m\u001b[0m\u001b[1;33m\u001b[0m\u001b[0m\n\u001b[0m\u001b[0;32m      2\u001b[0m \u001b[1;31m# set_device(\"gpu\")\u001b[0m\u001b[1;33m\u001b[0m\u001b[1;33m\u001b[0m\u001b[1;33m\u001b[0m\u001b[0m\n",
      "\u001b[1;31mModuleNotFoundError\u001b[0m: No module named 'desc'"
     ]
    }
   ],
   "source": [
    "from desc import set_device\n",
    "# set_device(\"gpu\")"
   ]
  },
  {
   "cell_type": "code",
   "execution_count": 5,
   "id": "681c38f7",
   "metadata": {},
   "outputs": [
    {
     "ename": "ModuleNotFoundError",
     "evalue": "No module named 'desc'",
     "output_type": "error",
     "traceback": [
      "\u001b[1;31m---------------------------------------------------------------------------\u001b[0m",
      "\u001b[1;31mModuleNotFoundError\u001b[0m                       Traceback (most recent call last)",
      "\u001b[1;32m<ipython-input-5-65b78aaf074d>\u001b[0m in \u001b[0;36m<module>\u001b[1;34m\u001b[0m\n\u001b[0;32m      3\u001b[0m \u001b[1;32mimport\u001b[0m \u001b[0mmatplotlib\u001b[0m\u001b[1;33m.\u001b[0m\u001b[0mpyplot\u001b[0m \u001b[1;32mas\u001b[0m \u001b[0mplt\u001b[0m\u001b[1;33m\u001b[0m\u001b[1;33m\u001b[0m\u001b[0m\n\u001b[0;32m      4\u001b[0m \u001b[1;33m\u001b[0m\u001b[0m\n\u001b[1;32m----> 5\u001b[1;33m \u001b[1;32mimport\u001b[0m \u001b[0mdesc\u001b[0m\u001b[1;33m.\u001b[0m\u001b[0mio\u001b[0m\u001b[1;33m\u001b[0m\u001b[1;33m\u001b[0m\u001b[0m\n\u001b[0m\u001b[0;32m      6\u001b[0m \u001b[1;32mfrom\u001b[0m \u001b[0mdesc\u001b[0m\u001b[1;33m.\u001b[0m\u001b[0mgrid\u001b[0m \u001b[1;32mimport\u001b[0m \u001b[0mLinearGrid\u001b[0m\u001b[1;33m,\u001b[0m \u001b[0mConcentricGrid\u001b[0m\u001b[1;33m\u001b[0m\u001b[1;33m\u001b[0m\u001b[0m\n\u001b[0;32m      7\u001b[0m from desc.objectives import (\n",
      "\u001b[1;31mModuleNotFoundError\u001b[0m: No module named 'desc'"
     ]
    }
   ],
   "source": [
    "%matplotlib inline\n",
    "import numpy as np\n",
    "import matplotlib.pyplot as plt\n",
    "\n",
    "import desc.io\n",
    "from desc.grid import LinearGrid, ConcentricGrid\n",
    "from desc.objectives import (\n",
    "    ObjectiveFunction,\n",
    "    FixBoundaryR,\n",
    "    FixBoundaryZ,\n",
    "    FixPressure,\n",
    "    FixIota,\n",
    "    FixPsi,\n",
    "    ForceBalance,\n",
    "    QuasisymmetryTwoTerm,\n",
    "    QuasisymmetryTripleProduct,\n",
    ")\n",
    "from desc.optimize import Optimizer\n",
    "from desc.plotting import plot_boozer_modes, plot_boozer_surface, plot_qs_error"
   ]
  },
  {
   "cell_type": "markdown",
   "id": "d64ac4be",
   "metadata": {},
   "source": [
    "Load an equilibrium solution that we will use for the initial guess for optimization. "
   ]
  },
  {
   "cell_type": "code",
   "execution_count": null,
   "id": "d5b56edd",
   "metadata": {},
   "outputs": [],
   "source": [
    "eq_init = desc.io.load(\"qs_initial_guess.h5\")\n",
    "\n",
    "# plot_boozer_modes(eq_init);\n",
    "plot_boozer_surface(eq_init);\n",
    "plot_qs_error(eq_init);"
   ]
  },
  {
   "cell_type": "markdown",
   "id": "5d941467",
   "metadata": {},
   "source": [
    "Explain with math what these quantities are"
   ]
  },
  {
   "cell_type": "markdown",
   "id": "f8ea32ef",
   "metadata": {},
   "source": [
    "This is the optimization routine we are going to use, but you could use others. "
   ]
  },
  {
   "cell_type": "code",
   "execution_count": null,
   "id": "8f1f363d",
   "metadata": {},
   "outputs": [],
   "source": [
    "optimizer = Optimizer(\"lsq-exact\")"
   ]
  },
  {
   "cell_type": "markdown",
   "id": "f575fe50",
   "metadata": {},
   "source": [
    "Specify the optimization constraints. In this case we only want 4 specific boundary modes to be the optimization variables, and we fix everything else. "
   ]
  },
  {
   "cell_type": "code",
   "execution_count": null,
   "id": "ee1bf5e2",
   "metadata": {},
   "outputs": [],
   "source": [
    "# indices of boundary modes we want to optimize\n",
    "idx_Rcc = eq_init.surface.R_basis.get_idx(M=1, N=2)\n",
    "idx_Rss = eq_init.surface.R_basis.get_idx(M=-1, N=-2)\n",
    "idx_Zsc = eq_init.surface.Z_basis.get_idx(M=-1, N=2)\n",
    "idx_Zcs = eq_init.surface.Z_basis.get_idx(M=1, N=-2)\n",
    "\n",
    "# boundary modes to constrain\n",
    "R_modes = np.delete(eq.surface.R_basis.modes, [idx_Rcc, idx_Rss], axis=0)\n",
    "Z_modes = np.delete(eq.surface.Z_basis.modes, [idx_Zsc, idx_Zcs], axis=0)\n",
    "\n",
    "# constraints\n",
    "constraints = (\n",
    "    ForceBalance(),\n",
    "    FixBoundaryR(modes=R_modes),\n",
    "    FixBoundaryZ(modes=Z_modes),\n",
    "    FixPressure(),\n",
    "    FixIota(),\n",
    "    FixPsi(),\n",
    ")"
   ]
  },
  {
   "cell_type": "markdown",
   "id": "4bf98819",
   "metadata": {},
   "source": [
    "## Triple Product QS in Volume"
   ]
  },
  {
   "cell_type": "markdown",
   "id": "ca944687",
   "metadata": {},
   "source": [
    "First we are going to optimize for f_T in a volume. "
   ]
  },
  {
   "cell_type": "code",
   "execution_count": null,
   "id": "befda594",
   "metadata": {},
   "outputs": [],
   "source": [
    "# objective\n",
    "grid = ConcentricGrid(L=eq_init.L_grid, M=eq_init.M_grid, N=eq_init.N_grid, NFP=eq_init.NFP, sym=eq_init.sym)\n",
    "objective_fT = ObjectiveFunction(QuasisymmetryTripleProduct(grid=grid), verbose=0)"
   ]
  },
  {
   "cell_type": "markdown",
   "id": "9e53f3ca",
   "metadata": {},
   "source": [
    "Now run the optimization! "
   ]
  },
  {
   "cell_type": "code",
   "execution_count": null,
   "id": "a626799c",
   "metadata": {},
   "outputs": [],
   "source": [
    "eq_qs_T = eq_init.optimize(\n",
    "    objective=objective_fT,\n",
    "    constraints=constraints,\n",
    "    optimizer=optimizer,\n",
    "    ftol=1e-2,\n",
    "    xtol=1e-6,\n",
    "    gtol=1e-6,\n",
    "    maxiter=50,\n",
    "    options={\n",
    "        \"perturb_options\": {\"order\": 2, \"verbose\": 0},\n",
    "        \"solve_options\": {\"ftol\": 1e-2, \"xtol\": 1e-6, \"gtol\": 1e-6, \"verbose\": 0},\n",
    "    },\n",
    "    copy=True,\n",
    "    verbose=3,\n",
    ")"
   ]
  },
  {
   "cell_type": "markdown",
   "id": "b6812840",
   "metadata": {},
   "source": [
    "Plot QS: "
   ]
  },
  {
   "cell_type": "code",
   "execution_count": null,
   "id": "ad2cb969",
   "metadata": {},
   "outputs": [],
   "source": [
    "# plot_boozer_modes(eq_qs_T);\n",
    "plot_boozer_surface(eq_qs_T);\n",
    "plot_qs_error(eq_qs_T);"
   ]
  },
  {
   "cell_type": "markdown",
   "id": "779f0f25",
   "metadata": {},
   "source": [
    "## Two-Term at Boundary Surface"
   ]
  },
  {
   "cell_type": "markdown",
   "id": "b4bf72c2",
   "metadata": {},
   "source": [
    "Next we are going to optimize for f_T at the boundary surface. "
   ]
  },
  {
   "cell_type": "code",
   "execution_count": null,
   "id": "75d5d6fd",
   "metadata": {},
   "outputs": [],
   "source": [
    "grid = LinearGrid(M=2 * eq.M_grid + 1, N=2 * eq.N_grid + 1, NFP=eq.NFP, sym=eq.sym, rho=1.0)\n",
    "objective_fC = ObjectiveFunction(QuasisymmetryTwoTerm(helicity=(1, eq.NFP)), verbose=0)"
   ]
  },
  {
   "cell_type": "markdown",
   "id": "e537e348",
   "metadata": {},
   "source": [
    "Now run the optimization! "
   ]
  },
  {
   "cell_type": "code",
   "execution_count": null,
   "id": "481dabd2",
   "metadata": {},
   "outputs": [],
   "source": [
    "eq_qs_C = eq_init.optimize(\n",
    "    objective=objective_fC,\n",
    "    constraints=constraints,\n",
    "    optimizer=optimizer,\n",
    "    ftol=1e-2,\n",
    "    xtol=1e-6,\n",
    "    gtol=1e-6,\n",
    "    maxiter=50,\n",
    "    options={\n",
    "        \"perturb_options\": {\"order\": 2, \"verbose\": 0},\n",
    "        \"solve_options\": {\"ftol\": 1e-2, \"xtol\": 1e-6, \"gtol\": 1e-6, \"verbose\": 0},\n",
    "    },\n",
    "    copy=True,\n",
    "    verbose=3,\n",
    ")"
   ]
  },
  {
   "cell_type": "markdown",
   "id": "4ca238fd",
   "metadata": {},
   "source": [
    "Plot QS: "
   ]
  },
  {
   "cell_type": "code",
   "execution_count": null,
   "id": "b0fa42ba",
   "metadata": {},
   "outputs": [],
   "source": [
    "# plot_boozer_modes(eq_qs_C);\n",
    "plot_boozer_surface(eq_qs_C);\n",
    "plot_qs_error(eq_qs_C);"
   ]
  }
 ],
 "metadata": {
  "kernelspec": {
   "display_name": "Python 3",
   "language": "python",
   "name": "python3"
  },
  "language_info": {
   "codemirror_mode": {
    "name": "ipython",
    "version": 3
   },
   "file_extension": ".py",
   "mimetype": "text/x-python",
   "name": "python",
   "nbconvert_exporter": "python",
   "pygments_lexer": "ipython3",
   "version": "3.8.5"
  }
 },
 "nbformat": 4,
 "nbformat_minor": 5
}
