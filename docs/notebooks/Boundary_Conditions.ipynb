{
 "cells": [
  {
   "cell_type": "markdown",
   "id": "a402ab70-5f3d-4d06-bc59-13184818f836",
   "metadata": {},
   "source": [
    "# Boundary Conditions"
   ]
  },
  {
   "cell_type": "markdown",
   "id": "8299840f-bdfa-4a5d-88a6-d02832e8a3e5",
   "metadata": {},
   "source": [
    "## $\\lambda$ Conditions"
   ]
  },
  {
   "cell_type": "markdown",
   "id": "cfd74161-5521-4bff-a7ba-cc24e17b0251",
   "metadata": {},
   "source": [
    "### Lambda Axis Condition"
   ]
  },
  {
   "cell_type": "markdown",
   "id": "ed029c75-e328-4860-b52e-a1230001697c",
   "metadata": {},
   "source": [
    "At the axis ($\\rho=0$), we choose $\\lambda = 0$. We have the freedom to fix lambda in this way because $\\lambda$ only ever appears as an angular derivative $\\frac{\\partial \\lambda}{\\partial \\theta}$ or $\\frac{\\partial \\lambda}{\\partial \\zeta}$, and in defining the SFL angle $\\vartheta = \\theta + \\lambda$. So, $\\lambda$ can vary by a constant multiple of $2\\pi$ and nothing in the equilibrium quantities changes, and can vary by any constant independent of $\\theta$ and $\\zeta$ and only the SFL angle would change, but the equilibrium quantities would remain the same.\n",
    "\n",
    "Therefore, it is advantageous to restrict this extra degree of freedom in order to reduce the size of the optimization space. This is done by requiring $\\lambda(\\rho=0,\\theta,\\zeta) = 0$"
   ]
  },
  {
   "cell_type": "markdown",
   "id": "c7c34256-4eaa-497e-bd25-f6e303488b78",
   "metadata": {},
   "source": [
    "To enforce this condition, certain restrictions must be placed on the Fourier-Zernike coefficients of $\\lambda$. \n",
    "\n",
    "\n",
    "The Zernike polynomials are given by:\n",
    "$$\n",
    "   \\mathcal{Z}^{m}_{l}(\\rho,\\theta) = \\begin{cases}\n",
    "   \\mathcal{R}^{|m|}_l (\\rho) \\cos(|m|\\theta) &\\text{for }m\\ge0 \\\\\n",
    "   \\mathcal{R}^{|m|}_l (\\rho) \\sin(|m|\\theta) &\\text{for }m\\lt0 \\\\\n",
    "   \\end{cases}\n",
    "$$\n",
    "\n",
    "Where the radial part is a shifted Jacobi polynomial:\n",
    "\n",
    "$$\n",
    "    \\mathcal{R}^{|m|}_l(\\rho) = \\sum_{s=0}^{(l-|m|)/2} \\frac{(-1)^s (l-s)!}{s![(l-|m|)/2 - s]![(l-|m|)/2+s]!} \\rho^{l-2s}\n",
    "$$\n",
    "\n",
    "The Fourier Series in Zeta is given by\n",
    "\n",
    "$$\n",
    "   \\mathcal{F}_{n}(\\zeta) = \\begin{cases}\n",
    "   \\cos(|n|N_{FP}\\zeta) &\\text{for }n\\ge0 \\\\\n",
    "   \\sin(|n|N_{FP}\\zeta) &\\text{for }n<0. \\\\\n",
    "   \\end{cases}\n",
    "$$\n",
    "\n",
    "\n",
    "The Fourier-Zernike Basis for lambda is given by \n",
    "\n",
    "$$\n",
    "    \\lambda(\\rho,\\theta,\\zeta) = \\sum_{m=-M,n=-N,l=0}^{M,N,L} \\sum \\mathcal{Z}^{m}_{l}(\\rho,\\theta) \\mathcal{F}_{n}(\\zeta)\n",
    "$$"
   ]
  },
  {
   "cell_type": "markdown",
   "id": "2215b41d-f7fc-41eb-8746-2afe91ef656b",
   "metadata": {},
   "source": [
    "At $\\rho=0$, the Jacobi polynomials reduce to:\n",
    "\n",
    "$$\n",
    "    \\mathcal{R}^{|m|}_l(\\rho) = \\begin{cases}\n",
    "   0 &\\text{for }m\\ne0 \\\\\n",
    "   +1 &\\text{for }m=0,~l/2~\\text{even}. \\\\\n",
    "   -1 &\\text{for }m=0,~l/2~\\text{odd}. \\\\\n",
    "   \\end{cases}\n",
    "$$\n",
    "\n",
    "So, at the axis, all the poloidal-dependent modes are already zero due to the inherent radial dependence from the Jacobi polynomials. Then, what we are left with is a linear combination of $sin(n\\zeta$ and $cos(n\\zeta)$ terms. For example, if our lambda basis had only 6 poloidal-independent modes, $L_{lmn} = {L_{000},~L_{00-1},~L_{200},~L_{20-1},~L_{001},~L_{201}}$, the representation for lambda at $\\rho=0$ would look like:\n",
    "\n",
    "$$\n",
    "    \\lambda(\\rho=0,\\theta,\\zeta) = (L_{00-1} - L_{20-1})sin(\\zeta) + (L_{001} - L_{201})cos(\\zeta) + L_{000} - L_{200} = 0\n",
    "$$\n",
    "\n",
    "Given that $sin(\\zeta)$ is linearly independent with $cos(\\zeta)$ (and more generally, $sin(n\\zeta)$ and $sin(m\\zeta)$ are LI for $n\\ne m$, same for cos), in order to enforce this constraint we require that the coefficients one each ofhte $sin(n\\zeta)$, $cos(n\\zeta)$ terms equal zero individually, thus yielding the constraint equations:\n",
    "\n",
    "$$\n",
    "    sin(\\zeta):~~~L_{00-1} - L_{20-1} = 0\\\\\n",
    "    cos(\\zeta):~~~L_{001} - L_{201} = 0\\\\\n",
    "    1:~~~L_{000} - L_{200} = 0\\\\\n",
    "$$\n",
    "\n",
    "In DESC the linear constraints are written as $A\\mathbf{x} = \\mathbf{b}$, so in this form the above constraints would be written as:\n",
    "\n",
    "$$\n",
    "    A=\\begin{bmatrix}\n",
    "    1 & 0 & 0 & -1 & 0 & 0\\\\\n",
    "    0 & 1 & 0 & 0 & -1 & 0\\\\\n",
    "    0 & 0 & 1 & 0 & 0 & -1\\\\\n",
    "    \\end{bmatrix}\n",
    "$$\n",
    "\n",
    "$$\n",
    "\\mathbf{x}=\\begin{bmatrix}\n",
    "    L_{00-1}\\\\\n",
    "    L_{000}\\\\\n",
    "    L_{001}\\\\\n",
    "    L_{20-1}\\\\\n",
    "    L_{200}\\\\\n",
    "    L_{201}\\\\\n",
    "    \\end{bmatrix}\n",
    "$$\n",
    "$$\n",
    "    \\mathbf{b}=\\mathbf{0}\n",
    "$$"
   ]
  },
  {
   "cell_type": "code",
   "execution_count": 1,
   "id": "20ac03c3-33b7-4862-8c9f-70cbcdc5ec38",
   "metadata": {},
   "outputs": [
    {
     "name": "stdout",
     "output_type": "stream",
     "text": [
      "DESC version 0.4.13+495.g09b88f3.dirty, using JAX backend, jax version=0.2.25, jaxlib version=0.1.76, dtype=float64\n",
      "Using device: CPU, with 22.74 GB available memory\n"
     ]
    }
   ],
   "source": [
    "import numpy as np\n",
    "from desc.equilibrium import Equilibrium\n",
    "from desc.basis import FourierZernikeBasis\n",
    "from desc.objectives import LambdaGauge"
   ]
  },
  {
   "cell_type": "code",
   "execution_count": 2,
   "id": "14a7a5d3-cb85-4523-9a3e-3e41c96c9ccd",
   "metadata": {},
   "outputs": [],
   "source": [
    "inputs = {\n",
    "        \"sym\": False,\n",
    "        \"NFP\": 3,\n",
    "        \"Psi\": 1.0,\n",
    "        \"L\": 2,\n",
    "        \"M\": 0,\n",
    "        \"N\": 1,\n",
    "        \"pressure\": np.array([[0, 1e4], [2, -2e4], [4, 1e4]]),\n",
    "        \"iota\": np.array([[0, 0.5], [2, 0.5]]),\n",
    "        \"surface\": np.array(\n",
    "            [\n",
    "                [0, 0, 0, 3, 0],\n",
    "                [0, 1, 0, 1, 0],\n",
    "                [0, -1, 0, 0, 1],\n",
    "                [0, 1, 1, 0.3, 0],\n",
    "                [0, -1, -1, -0.3, 0],\n",
    "                [0, 1, -1, 0, -0.3],\n",
    "                [0, -1, 1, 0, -0.3],\n",
    "            ],\n",
    "        ),\n",
    "        \"axis\": np.array([[-1, 0, -0.2], [0, 3.4, 0], [1, 0.2, 0]]),\n",
    "        \"objective\": \"force\",\n",
    "        \"optimizer\": \"lsq-exact\",\n",
    "    }\n",
    "eq = Equilibrium(**inputs)"
   ]
  },
  {
   "cell_type": "code",
   "execution_count": 3,
   "id": "96a67c03-5d3a-4dca-94c7-920e61059fec",
   "metadata": {},
   "outputs": [
    {
     "data": {
      "text/plain": [
       "array([[ 0,  0, -1],\n",
       "       [ 2,  0, -1],\n",
       "       [ 0,  0,  0],\n",
       "       [ 2,  0,  0],\n",
       "       [ 0,  0,  1],\n",
       "       [ 2,  0,  1]])"
      ]
     },
     "execution_count": 3,
     "metadata": {},
     "output_type": "execute_result"
    }
   ],
   "source": [
    "eq.L_basis.modes"
   ]
  },
  {
   "cell_type": "markdown",
   "id": "28bb54a2-ee86-405e-bb82-1ffd79a61532",
   "metadata": {},
   "source": [
    "$$\n",
    "    sin(\\zeta):~~~L_{00-1} - L_{20-1} = 0\\\\\n",
    "    1:~~~L_{000} - L_{200} = 0\\\\\n",
    "    cos(\\zeta):~~~L_{001} - L_{201} = 0\\\\\n",
    "$$\n"
   ]
  },
  {
   "cell_type": "markdown",
   "id": "d0f9dd95-dc74-4cab-a66f-290403f3c015",
   "metadata": {},
   "source": [
    "$$\n",
    "\\mathbf{x}=\\begin{bmatrix}\n",
    "    L_{00-1}\\\\\n",
    "    L_{20-1}\\\\\n",
    "    L_{000}\\\\\n",
    "    L_{200}\\\\\n",
    "    L_{001}\\\\\n",
    "    L_{201}\\\\\n",
    "    \\end{bmatrix}\n",
    "$$"
   ]
  },
  {
   "cell_type": "markdown",
   "id": "9737a286-8f8d-4043-9a45-b419478805c6",
   "metadata": {},
   "source": [
    "\n",
    "\n",
    "$$\n",
    "    A=\\begin{bmatrix}\n",
    "    1 & -1 & 0 & 0 & 0 & 0\\\\\n",
    "    0 &  0 & 1 & -1 & 0 & 0\\\\\n",
    "    0 &  0 & 0 & 0 & 1 & -1\\\\\n",
    "    \\end{bmatrix}\n",
    "$$\n",
    "\n",
    "\n",
    "$$\n",
    "    \\mathbf{b}=\\mathbf{0}\n",
    "$$"
   ]
  },
  {
   "cell_type": "code",
   "execution_count": 8,
   "id": "0651e970-9ca9-4f91-bba4-e79e6173b719",
   "metadata": {},
   "outputs": [
    {
     "name": "stdout",
     "output_type": "stream",
     "text": [
      "[[ 1. -1.  0.  0.  0.  0.]\n",
      " [ 0.  0.  1. -1.  0.  0.]\n",
      " [ 0.  0.  0.  0.  1. -1.]]\n"
     ]
    }
   ],
   "source": [
    "correct_constraint_matrix = np.zeros((3,eq.L_basis.num_modes))\n",
    "correct_constraint_matrix[0,0] = 1\n",
    "correct_constraint_matrix[0,1] = -1\n",
    "correct_constraint_matrix[2,4]= 1\n",
    "correct_constraint_matrix[2,5] = -1\n",
    "correct_constraint_matrix[1,2] = 1\n",
    "correct_constraint_matrix[1,3] = -1\n",
    "print(correct_constraint_matrix)"
   ]
  },
  {
   "cell_type": "code",
   "execution_count": 12,
   "id": "6fb0cd6c-1d92-4b66-8df8-e6b521153bf7",
   "metadata": {},
   "outputs": [
    {
     "name": "stdout",
     "output_type": "stream",
     "text": [
      "[-1  0  1]\n",
      "(0, 0, -1)\n",
      "(array([[0]]), 0)\n",
      "(2, 0, -1)\n",
      "(array([[0]]), 1)\n",
      "(0, 0, 0)\n",
      "(array([[1]]), 2)\n",
      "(2, 0, 0)\n",
      "(array([[1]]), 3)\n",
      "(0, 0, 1)\n",
      "(array([[2]]), 4)\n",
      "(2, 0, 1)\n",
      "(array([[2]]), 5)\n"
     ]
    }
   ],
   "source": [
    "lam_con=LambdaGauge(eq)"
   ]
  },
  {
   "cell_type": "code",
   "execution_count": 13,
   "id": "17faa7c3-a613-43c6-9dec-2d6683f76436",
   "metadata": {},
   "outputs": [
    {
     "data": {
      "text/plain": [
       "array([[ 1., -1.,  0.,  0.,  0.,  0.],\n",
       "       [ 0.,  0.,  1., -1.,  0.,  0.],\n",
       "       [ 0.,  0.,  0.,  0.,  1., -1.],\n",
       "       [ 0.,  0.,  0.,  2.,  0.,  2.],\n",
       "       [ 0.,  0.,  0.,  0.,  0.,  0.],\n",
       "       [ 0.,  0.,  1., -1.,  1., -1.]])"
      ]
     },
     "execution_count": 13,
     "metadata": {},
     "output_type": "execute_result"
    }
   ],
   "source": [
    "lam_con._A"
   ]
  },
  {
   "cell_type": "code",
   "execution_count": 14,
   "id": "432caf70-63a0-4fd4-a8d6-8546cbd48f04",
   "metadata": {},
   "outputs": [
    {
     "name": "stdout",
     "output_type": "stream",
     "text": [
      "[-1  0  1]\n",
      "(0, 0, -1)\n",
      "(array([[0]]), 0)\n",
      "(2, 0, -1)\n",
      "(array([[0]]), 1)\n",
      "(0, 0, 0)\n",
      "(array([[1]]), 2)\n",
      "(2, 0, 0)\n",
      "(array([[1]]), 3)\n",
      "(0, 0, 1)\n",
      "(array([[2]]), 4)\n",
      "(2, 0, 1)\n",
      "(array([[2]]), 5)\n"
     ]
    }
   ],
   "source": [
    "lam_con.build(eq)"
   ]
  },
  {
   "cell_type": "code",
   "execution_count": 11,
   "id": "9c301627-9989-4697-87cb-98e5053138f8",
   "metadata": {},
   "outputs": [],
   "source": [
    "np.testing.assert_array_equal(lam_con._A[0:3,0:eq.L_basis.num_modes],correct_constraint_matrix)"
   ]
  },
  {
   "cell_type": "code",
   "execution_count": null,
   "id": "3bcff538-d34f-4f8b-a4fe-5868b9886784",
   "metadata": {},
   "outputs": [],
   "source": [
    "lam_con._A[0:3,0:eq.L_basis.num_modes]"
   ]
  },
  {
   "cell_type": "code",
   "execution_count": null,
   "id": "f69e986a-819b-4fee-9960-875e9872e1dd",
   "metadata": {},
   "outputs": [],
   "source": [
    "eq.L_basis.modes"
   ]
  },
  {
   "cell_type": "code",
   "execution_count": null,
   "id": "69764e8d-4ea2-4f5c-b713-5fd6f03c55e0",
   "metadata": {},
   "outputs": [],
   "source": [
    "lam_con._A"
   ]
  },
  {
   "cell_type": "code",
   "execution_count": 19,
   "id": "ac339fe8-08f9-474d-90c7-71ebc14d70b2",
   "metadata": {},
   "outputs": [],
   "source": [
    "inputs = {\n",
    "        \"sym\": True,\n",
    "        \"NFP\": 3,\n",
    "        \"Psi\": 1.0,\n",
    "        \"L\": 2,\n",
    "        \"M\": 1,\n",
    "        \"N\": 1,\n",
    "        \"pressure\": np.array([[0, 1e4], [2, -2e4], [4, 1e4]]),\n",
    "        \"iota\": np.array([[0, 0.5], [2, 0.5]]),\n",
    "        \"surface\": np.array(\n",
    "            [\n",
    "                [0, 0, 0, 3, 0],\n",
    "                [0, 1, 0, 1, 0],\n",
    "                [0, -1, 0, 0, 1],\n",
    "                [0, 1, 1, 0.3, 0],\n",
    "                [0, -1, -1, -0.3, 0],\n",
    "                [0, 1, -1, 0, -0.3],\n",
    "                [0, -1, 1, 0, -0.3],\n",
    "            ],\n",
    "        ),\n",
    "        \"axis\": np.array([[-1, 0, -0.2], [0, 3.4, 0], [1, 0.2, 0]]),\n",
    "        \"objective\": \"force\",\n",
    "        \"optimizer\": \"lsq-exact\",\n",
    "    }\n",
    "eq = Equilibrium(**inputs)\n",
    "lam_con=LambdaGauge(eq)"
   ]
  },
  {
   "cell_type": "code",
   "execution_count": 20,
   "id": "069ecbf7-9a03-482a-ada5-b3a5f8245c67",
   "metadata": {},
   "outputs": [
    {
     "data": {
      "text/plain": [
       "array([[ 1.,  0., -1.,  0.,  0.]])"
      ]
     },
     "execution_count": 20,
     "metadata": {},
     "output_type": "execute_result"
    }
   ],
   "source": [
    "lam_con._A"
   ]
  },
  {
   "cell_type": "code",
   "execution_count": 21,
   "id": "aa0143ae-ad9e-4be0-bc64-9ed65a70f4f9",
   "metadata": {},
   "outputs": [
    {
     "data": {
      "text/plain": [
       "array([[ 0,  0, -1],\n",
       "       [ 1,  1, -1],\n",
       "       [ 2,  0, -1],\n",
       "       [ 1, -1,  0],\n",
       "       [ 1, -1,  1]])"
      ]
     },
     "execution_count": 21,
     "metadata": {},
     "output_type": "execute_result"
    }
   ],
   "source": [
    "eq.L_basis.modes"
   ]
  },
  {
   "cell_type": "code",
   "execution_count": null,
   "id": "b349d418-eb61-42ff-8046-e9ca51f73c0a",
   "metadata": {},
   "outputs": [],
   "source": []
  }
 ],
 "metadata": {
  "kernelspec": {
   "display_name": "Python 3 (ipykernel)",
   "language": "python",
   "name": "python3"
  },
  "language_info": {
   "codemirror_mode": {
    "name": "ipython",
    "version": 3
   },
   "file_extension": ".py",
   "mimetype": "text/x-python",
   "name": "python",
   "nbconvert_exporter": "python",
   "pygments_lexer": "ipython3",
   "version": "3.8.5"
  }
 },
 "nbformat": 4,
 "nbformat_minor": 5
}
