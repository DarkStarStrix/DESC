{
 "cells": [
  {
   "cell_type": "markdown",
   "source": [
    "# Synopsis\n",
    "\n",
    "#### Update 4: I replaced edu-vmec with the VMEC output in DESC/examples. Should be finished now.\n",
    "* Compared to more equilibrium and the mercier quantities matched except for the few outlier points near rho=0 and rho=1. Can also use `compute_plots(use_quad_grid=True)` in cell 8 to get closer matches.\n",
    "\n",
    "#### Update 3: I think this implementation is correct. Can't find anything that would be wrong.\n",
    "* New grid update somewhat fixes the symmetry bug I mentioned in June. But turning it off gives better matches to STELLOPT.\n",
    "* Heliotron and dshape are near-exact matches to STELLOPT with symmetry off, close with symmetry on.\n",
    "* All implementations of the Magnetic Well parameter between DESC and STELLOPT agree on crossing.\n",
    "* Increasing the number of surfaces (rho resolution) on educational VMEC input from 256 to 1024 didn't change anything significantly. Educational VMEC's heliotron plot's crossing did shift left toward the point where the STELLOPT data and DESC magnetic wells cross.\n",
    "* I had mentioned at the meeting that the DESC plots don't match educational vmec's plots. I don't think that means much anymore. Previously all the curves (desc, stellopt, edu-vmec) disagreed, causing me confusion. I couldn't single out one of them as correct or incorrect. Now that STELLOPT and DESC agree, I think we can claim educational-vmec is doing something wrong.\n",
    "* I think what took me longer than I thought with this was:\n",
    "    - I was learning basics of DESC code as it was my first project in DESC.\n",
    "    - The STELLOPT code really looks like they implement the magnetic well parameter from Landreman equation 3.2. So when my implementation didn't match that, I was scratching my head wondering why. Based on these results it looks like STELLOPT secretly implements equation 4.19.\n",
    "    - Didn't know edu-vmec was giving bad results (I wonder if this is also true for rotational transform stuff).\n",
    "    - I had to account for sym / NFP / single surface bugs in the grid class to fix d$\\theta$ * d$\\zeta$ stuff.\n",
    "\n",
    "#### Update 2: works with arbitrary grids and computes magnetic well parameter over multiple flux surfaces simultaneously\n",
    "Made use of the `surface_integrals` functionality I added while coding the new rotational transform function. The objective will still function in the same way as before if a single rho surface is given as input. However, computing magnetic well over multiple flux surfaces at once offers at least two benefits. It\n",
    "* Simplifies end user code. They don't have to create routines and loop through things.\n",
    "* Increases performance. I used to wait for this jupyter notebook to run for 30 minutes to get values to plot. Now it runs in 1 minute.\n",
    "* Please see [a bug in the grid class](#Surface-element-computation-problem-and-solution). The solution to this bug for grids with a single rho surface is simple. If the functions I added to `compute.utils` are used then the developer/user doesn't have to worry about it. However, for multiple rho surface grids, the fix isn't as simple. Until that fix is implemented, if the user wants magnetic well computed on a grid with multiple values of rho, for best accuracy they need to set NFP=1 in the grid provided to magnetic well.\n",
    "\n",
    "#### Update 1: alternative version of magnetic well in Landreman paper added.\n",
    "It seems to have more responsive curves, and it has the same abrupt change as STELLOPT for HELIOTRON. It yields a perfect match for Heliotron.\n",
    "\n",
    "## the Bad\n",
    "The curves produced by DESC and STELLOPT for the magnetic well parameter as a function of $\\rho$ look different. I think STELLOPT does not implement the well parameter we thought it does. We should just pay attention to the crossing.\n",
    "\n",
    "## the Good\n",
    "The magnetic well parameter computed by DESC matches the sign of the magnetic well parameter computed by STELLOPT. This is technically all we need.\n",
    "\n",
    "The volume computation is now 100% correct. The solution to the bug in the `grid.py` class works, which was necessary to correct volume and dv/d$\\rho$. An [explanation to the solution is given here](#Surface-element-computation-problem-and-solution). Might be useful in case we have run into this bug somewhere else in the code.\n",
    "\n",
    "All the [plots](#Magnetic-well-plots) of DESC's intermediate quantities are consistent with each other. For every point below, I have confirmed their validity with code tests and math where applicable. We should be sure to preserve these signs if any modifications are made:\n",
    "\n",
    "* The volume of the torus is exactly quadratic with $\\rho$. The derivative of the volume enclosed by the flux surface is exactly linear. For the other stellarators, the volume and derivative are approximately quadratic and linear, respectively. The derivative computations also flatten when the volume curves linearize, and the opposite holds as well. All this matches our expectation that volume ~ $\\rho$<sup>2</sup>.\n",
    "* The volume enclosed by the $\\rho$=1 surface matches the volume of the stellarator as computed by `data[\"V\"]` on a grid with a sequence of $\\rho$ values.\n",
    "* The derivative of the thermal pressure average is always negative. This is good since our notion that the well parameter being positive implies stability is only valid when thermal pressure decreases away from the magnetic axis ($\\rho$=0). Otherwise negative well parameters would imply stability.\n",
    "* The derivative of the thermal pressure average looks very similar for stellarators with similar pressure profile inputs.\n",
    "* Confidence in the new more complicated flux surface average\n",
    "   - We now properly differentiate under the flux surface average operation. Pushing a volume derivative into a flux surface average requires more care than simply differentiating under the integral. We want to do this in the first place to take advantage of automatic differentiation of `B_r` and `p_r`.\n",
    "   - Have shown the implementation has the desired additive homomorphism property; meaning average(a + b) = average(a) + average(b). Sanity check for correctness.\n",
    "   - Confirmed `jnp.mean(f) / jnp.mean(`$\\sqrt{g}$ `)`  always = `jnp.sum(dtdz * f) /` dv/d$\\rho$ . Helps confirm dv/d$\\rho$ is correct among other things.\n",
    "   - Proved that this new flux surface average is an identity operation for the average of any quantity constant over the surface.\n",
    "* The thermal pressure is a flux surface function; it is constant on a surface of constant rho. Therefore, the average of thermal pressure over a flux surface should be an identity operation. This is reflected in the code. Also, we take advantage of the homomorphism discussed above to avoid an unnecessary flux surface average operation.\n",
    "* The derivative of the magnetic pressure average is positive (negative) precisely when B<sup>2</sup> average is increasing (decreasing). We should expect this since magnetic pressure ~ B<sup>2</sup>, and its average over a surface should likely share that relation.\n",
    "* No jacobian sign errors. FYI: we always want them to be positive here.\n",
    "* The volume derivative is not necessary for the magnetic well parameter for Landreman eq. 3.2. I replaced the flux surface label of volume with $\\rho$ in that magnetic well formula. The output of the magnetic well plot (this version is in purple color) is the same (as the volume derivative version in blue), ignoring the scale. Plots of both are included.\n",
    "\n",
    "## the Pretty\n",
    "This notebook should make it easy to inspect intermediate variables in the `MagneticWell` class as well as compute quantities for all the stellarators in a concise manner. Add an entry to the dictionary and everything is automatic. Note this notebook should run pretty quickly. If the plots for many stellarators at once are requested, increase the memory given to jupyter notebook and/or compute on 3 stellarators at a time instead of 5+, and/or reduce plot dpi.\n",
    "\n",
    "~~Given this, if the equilibrium solutions DESC and STELLOPT are computing magnetic well parameters on are indeed the same, I think any issue must be in the automatic differentiation of `B_r` and `p_r`.~~"
   ],
   "metadata": {
    "collapsed": false,
    "pycharm": {
     "name": "#%% md\n"
    }
   }
  },
  {
   "cell_type": "code",
   "execution_count": null,
   "outputs": [],
   "source": [
    "import sys\n",
    "import os\n",
    "\n",
    "sys.path.insert(0, os.path.abspath(\".\"))\n",
    "sys.path.append(os.path.abspath(\"../\"))"
   ],
   "metadata": {
    "collapsed": false,
    "pycharm": {
     "name": "#%%\n"
    }
   }
  },
  {
   "cell_type": "code",
   "execution_count": null,
   "outputs": [],
   "source": [
    "%matplotlib inline\n",
    "import matplotlib.pyplot as plt\n",
    "import numpy as np\n",
    "\n",
    "from netCDF4 import Dataset\n",
    "import pickle\n",
    "import desc.io\n",
    "\n",
    "from desc.compute import compute_geometry, data_index\n",
    "from desc.equilibrium import Equilibrium\n",
    "from desc.grid import LinearGrid, QuadratureGrid\n",
    "from desc.objectives import MagneticWell\n",
    "from desc.plotting import plot_surfaces\n",
    "from desc.transform import Transform"
   ],
   "metadata": {
    "collapsed": false,
    "pycharm": {
     "name": "#%%\n"
    }
   }
  },
  {
   "cell_type": "code",
   "execution_count": null,
   "outputs": [],
   "source": [
    "np.set_printoptions(precision=4, floatmode=\"fixed\")"
   ],
   "metadata": {
    "collapsed": false,
    "pycharm": {
     "name": "#%%\n"
    }
   }
  },
  {
   "cell_type": "code",
   "execution_count": null,
   "outputs": [],
   "source": [
    "class MagneticWellVisual:\n",
    "    \"\"\"\n",
    "    To print and plot more (less) quantities, add (remove) them to the dict\n",
    "    returned from MagneticWell.compute().\n",
    "    Everything else is automatic.\n",
    "    \"\"\"\n",
    "\n",
    "    def __init__(\n",
    "        self,\n",
    "        name,\n",
    "        eq=None,\n",
    "        use_pickle=False,\n",
    "        rho=np.linspace(1 / 64, 1, 64),\n",
    "    ):\n",
    "        \"\"\"\n",
    "        Make a MagneticWellVisual from either the provided equilibrium\n",
    "        or the final equilibrium loaded from the output.h5 solution.\n",
    "\n",
    "        Parameters\n",
    "        ----------\n",
    "        name : str\n",
    "            Name of the equilibrium.\n",
    "        eq : Equilibrium\n",
    "            The equilibrium.\n",
    "        use_pickle : bool\n",
    "            True to use compute values from a previous run stored in pickle file; False to recompute.\n",
    "        rho : ndarray\n",
    "            The flux surface values to compute the magnetic well on.\n",
    "        \"\"\"\n",
    "        self.name = name\n",
    "        if eq is None:\n",
    "            eq = desc.io.load(load_from=\"../examples/DESC/\" + name + \"_output.h5\")[-1]\n",
    "        self.eq = eq\n",
    "\n",
    "        if use_pickle:\n",
    "            with open(name + \" DESC magwell.pkl\", \"rb\") as file:\n",
    "                self.st = pickle.load(file)\n",
    "            self.rho = self.st[\"DESC DWell\"][0]\n",
    "            self.has_values = True\n",
    "        else:\n",
    "            # values are tuples of (x[i], y[i]) of plotable data\n",
    "            # y points are cached when compute_plot() is called\n",
    "            self.st = dict()\n",
    "            try:\n",
    "                f = Dataset(\"../examples/VMEC/wout_\" + name + \".nc\")\n",
    "                # print(f.variables.keys())\n",
    "                vmec_rho = np.sqrt(\n",
    "                    f.variables[\"phi\"] / np.array(f.variables[\"phi\"])[-1]\n",
    "                )\n",
    "                self.st[\"VMEC DShear\"] = vmec_rho, np.asarray(f.variables[\"DShear\"])\n",
    "                self.st[\"VMEC DCurr\"] = vmec_rho, np.asarray(f.variables[\"DCurr\"])\n",
    "                self.st[\"VMEC DWell\"] = vmec_rho, np.asarray(f.variables[\"DWell\"])\n",
    "                self.st[\"VMEC DGeod\"] = vmec_rho, np.asarray(f.variables[\"DGeod\"])\n",
    "                self.st[\"VMEC DMerc\"] = vmec_rho, np.asarray(f.variables[\"DMerc\"])\n",
    "                rho = vmec_rho\n",
    "            except FileNotFoundError:\n",
    "                pass\n",
    "\n",
    "            self.rho = rho\n",
    "            self.has_values = False\n",
    "\n",
    "    def print_values(self, grid=None):\n",
    "        \"\"\"\n",
    "        Parameters\n",
    "        ----------\n",
    "        grid : LinearGrid\n",
    "            The grid used for a MagneticWell objective.\n",
    "            The default grid=None uses the rho=1 flux surface.\n",
    "        \"\"\"\n",
    "        print(self.name)\n",
    "        print(self.eq)\n",
    "        mw = MagneticWell(eq=self.eq, grid=grid)\n",
    "        print(\"grid.spacing(dr,dt,dz)\", mw.grid.spacing[0])\n",
    "        m = mw.compute(\n",
    "            self.eq.R_lmn,\n",
    "            self.eq.Z_lmn,\n",
    "            self.eq.L_lmn,\n",
    "            self.eq.p_l,\n",
    "            self.eq.i_l,\n",
    "            self.eq.c_l,\n",
    "            self.eq.Psi,\n",
    "        )\n",
    "        for key, val in sorted(m.items()):\n",
    "            print(key, val)\n",
    "        self._print_data_V()\n",
    "        print()\n",
    "\n",
    "    def _print_data_V(self):\n",
    "        \"\"\"\n",
    "        Print the volume of the stellarator device as computed by data[\"V\"].\n",
    "        Should match V surface integral when the default grid with rho = 1\n",
    "        is used to construct the MagneticWell() object.\n",
    "        \"\"\"\n",
    "        grid = LinearGrid(\n",
    "            L=self.eq.L_grid,\n",
    "            M=self.eq.M_grid,\n",
    "            N=self.eq.N_grid,\n",
    "            NFP=self.eq.NFP,\n",
    "            sym=self.eq.sym,\n",
    "        )\n",
    "        R_transform = Transform(\n",
    "            grid, self.eq.R_basis, derivs=data_index[\"sqrt(g)\"][\"R_derivs\"], build=True\n",
    "        )\n",
    "        Z_transform = Transform(\n",
    "            grid, self.eq.Z_basis, derivs=data_index[\"sqrt(g)\"][\"R_derivs\"], build=True\n",
    "        )\n",
    "        data = compute_geometry(self.eq.R_lmn, self.eq.Z_lmn, R_transform, Z_transform)\n",
    "        print('data[\"V\"]', data[\"V\"])\n",
    "\n",
    "    def compute_plot(self, use_quad_grid=False):\n",
    "        \"\"\"Compute and cache MagneticWell.compute() values.\"\"\"\n",
    "        if self.has_values:\n",
    "            return\n",
    "\n",
    "        if use_quad_grid:\n",
    "            grid = QuadratureGrid(\n",
    "                L=2 * self.eq.L_grid + 1,\n",
    "                M=2 * self.eq.M_grid + 1,\n",
    "                N=2 * self.eq.N_grid + 1,\n",
    "                NFP=1,\n",
    "            )\n",
    "            self.rho = grid.nodes[grid.unique_rho_indices, 0]\n",
    "        else:\n",
    "            grid = LinearGrid(\n",
    "                M=self.eq.M_grid,\n",
    "                N=self.eq.N_grid,\n",
    "                NFP=1,  # required for accuracy when grid.num_rho != 1\n",
    "                sym=False,  # off for better matches to STELLOPT. Doesn't affect crossings.\n",
    "                rho=self.rho,\n",
    "            )\n",
    "        m = MagneticWell(eq=self.eq, grid=grid).compute(\n",
    "            self.eq.R_lmn,\n",
    "            self.eq.Z_lmn,\n",
    "            self.eq.L_lmn,\n",
    "            self.eq.p_l,\n",
    "            self.eq.i_l,\n",
    "            self.eq.c_l,\n",
    "            self.eq.Psi,\n",
    "        )\n",
    "        for key, val in m.items():\n",
    "            self.st[key] = self.rho, val\n",
    "        self.has_values = True\n",
    "\n",
    "    def save(self):\n",
    "        \"\"\"Save computed values to pickle file.\"\"\"\n",
    "        with open(self.name + \" DESC magwell.pkl\", \"wb\") as file:\n",
    "            pickle.dump(self.st, file)\n",
    "\n",
    "    def plot(self, dpi=200):\n",
    "        \"\"\"Plot all quantities from compute_plot() in st.\"\"\"\n",
    "        fig, ax = plt.subplots(\n",
    "            nrows=3,\n",
    "            ncols=3,\n",
    "            figsize=(15, 12),\n",
    "            dpi=dpi,\n",
    "        )\n",
    "        ax = ax.flatten()\n",
    "\n",
    "        i = 0\n",
    "        for key, val in sorted(self.st.items()):\n",
    "            if \"VMEC\" in key:\n",
    "                continue  # will plot together with DESC version\n",
    "            x, y = val\n",
    "\n",
    "            ax[i].plot(x, y, label=key)\n",
    "            ax[i].scatter(x, y, s=5)\n",
    "            if \"DESC D\" in key:\n",
    "                vmec_key = key.replace(\"DESC\", \"VMEC\")\n",
    "                if vmec_key in self.st:\n",
    "                    x2, y2 = self.st[vmec_key]\n",
    "                    ax[i].plot(x2, y2, label=vmec_key)\n",
    "                    ax[i].scatter(x2, y2, s=2)\n",
    "\n",
    "            ax[i].axhline(color=\"tab:purple\")\n",
    "            ax[i].set(\n",
    "                yscale=\"symlog\" if np.any(y <= 0) else \"log\",\n",
    "                xlabel=r\"$\\rho$\",\n",
    "                title=self.name,\n",
    "                facecolor=\"white\",\n",
    "            )\n",
    "            ax[i].grid()\n",
    "            ax[i].legend(fontsize=\"xx-small\")\n",
    "            i += 1\n",
    "\n",
    "    def plot_magnetic_wells(self, dpi=300, save=False):\n",
    "        \"\"\"Plots the magnetic wells together on the same scale.\"\"\"\n",
    "        fig, ax = plt.subplots(dpi=dpi)\n",
    "\n",
    "        if (key := \"VMEC DWell\") in self.st:\n",
    "            rho, well = self.st[key]\n",
    "            ax.plot(rho, well, label=\"VMEC\")\n",
    "            ax.scatter(rho, well, s=5)\n",
    "\n",
    "        # computed with DESC\n",
    "        well = self.st[\"DESC DWell\"][1]\n",
    "        ax.plot(self.rho, well, label=\"DESC M. Landreman eq. 4.19\")\n",
    "        ax.scatter(self.rho, well, s=2)\n",
    "\n",
    "        well = self.st[\"1. DESC Well: M. Landreman eq. 3.2 with rho * d/drho\"][1]\n",
    "        ax.plot(\n",
    "            self.rho,\n",
    "            well,\n",
    "            label=\"DESC M. Landreman eq. 3.2 with rho * d/drho\",\n",
    "        )\n",
    "        ax.scatter(self.rho, well, s=2)\n",
    "\n",
    "        well = self.st[\"2. DESC Well: M. Landreman eq. 3.2\"][1]\n",
    "        ax.plot(self.rho, well, label=\"DESC M. Landreman eq. 3.2\")\n",
    "        ax.scatter(self.rho, well, s=2)\n",
    "\n",
    "        ax.axhline(color=\"tab:purple\")\n",
    "        ax.set(\n",
    "            yscale=\"symlog\",\n",
    "            xlabel=r\"$\\rho$\",\n",
    "            ylabel=\"magnetic well\",\n",
    "            title=self.name,\n",
    "            facecolor=\"white\",\n",
    "        )\n",
    "        ax.grid()\n",
    "        fig.legend(fontsize=\"xx-small\")\n",
    "        if save:\n",
    "            fig.savefig(self.name + \" magnetic wells sym false.png\")"
   ],
   "metadata": {
    "collapsed": false,
    "pycharm": {
     "name": "#%%\n"
    }
   }
  },
  {
   "cell_type": "code",
   "execution_count": null,
   "outputs": [],
   "source": [
    "torus = MagneticWellVisual(\"torus\", Equilibrium())\n",
    "dshape = MagneticWellVisual(\"DSHAPE\")\n",
    "heliotron = MagneticWellVisual(\"HELIOTRON\")\n",
    "estell = MagneticWellVisual(\"ESTELL\")\n",
    "wistell = MagneticWellVisual(\"WISTELL-A\")\n",
    "solovev = MagneticWellVisual(\"SOLOVEV\")\n",
    "stellarators = (torus, dshape, heliotron, estell, wistell, solovev)"
   ],
   "metadata": {
    "collapsed": false,
    "pycharm": {
     "name": "#%%\n"
    }
   }
  },
  {
   "cell_type": "markdown",
   "source": [
    "# Equilibrium plots"
   ],
   "metadata": {
    "collapsed": false,
    "pycharm": {
     "name": "#%% md\n"
    }
   }
  },
  {
   "cell_type": "code",
   "execution_count": null,
   "outputs": [],
   "source": [
    "# to make sure equilibrium were solved correctly on my computer\n",
    "for s in stellarators:\n",
    "    plot_surfaces(s.eq)"
   ],
   "metadata": {
    "collapsed": false,
    "pycharm": {
     "name": "#%%\n"
    }
   }
  },
  {
   "cell_type": "markdown",
   "source": [
    "# $\\rho$ = 1 flux surface"
   ],
   "metadata": {
    "collapsed": false,
    "pycharm": {
     "name": "#%% md\n"
    }
   }
  },
  {
   "cell_type": "code",
   "execution_count": null,
   "outputs": [],
   "source": [
    "for s in stellarators:\n",
    "    s.print_values()"
   ],
   "metadata": {
    "collapsed": false,
    "pycharm": {
     "name": "#%%\n"
    }
   }
  },
  {
   "cell_type": "markdown",
   "source": [
    "# Magnetic well plots\n",
    "Although the symmetry bug is fixed, forcing it off results in a closer match between the VMEC and DESC plots."
   ],
   "metadata": {
    "collapsed": false,
    "pycharm": {
     "name": "#%% md\n"
    }
   }
  },
  {
   "cell_type": "code",
   "execution_count": null,
   "outputs": [],
   "source": [
    "for s in stellarators:\n",
    "    s.compute_plot(use_quad_grid=False)"
   ],
   "metadata": {
    "collapsed": false,
    "pycharm": {
     "name": "#%%\n"
    }
   }
  },
  {
   "cell_type": "code",
   "execution_count": null,
   "outputs": [],
   "source": [
    "# compare volume computation to known analytic case for torus\n",
    "fig, ax = plt.subplots()\n",
    "y = \"volume\"\n",
    "rho, volume = torus.st[y]\n",
    "ax.scatter(rho, volume, label=y + \" computation\", s=10)\n",
    "ax.plot(rho, 20 * (np.pi * rho) ** 2, label=\"analytic\")\n",
    "ax.set(xlabel=r\"$\\rho$\", ylabel=y, title=torus.name)\n",
    "ax.grid()\n",
    "fig.legend()"
   ],
   "metadata": {
    "collapsed": false,
    "pycharm": {
     "name": "#%%\n"
    }
   }
  },
  {
   "cell_type": "code",
   "execution_count": null,
   "outputs": [],
   "source": [
    "for s in stellarators:\n",
    "    s.plot()\n",
    "    s.plot_magnetic_wells()"
   ],
   "metadata": {
    "collapsed": false,
    "pycharm": {
     "name": "#%%\n"
    }
   }
  },
  {
   "cell_type": "code",
   "execution_count": null,
   "outputs": [],
   "source": [
    "for s in stellarators:\n",
    "    s.save()"
   ],
   "metadata": {
    "collapsed": false,
    "pycharm": {
     "name": "#%%\n"
    }
   }
  },
  {
   "cell_type": "markdown",
   "metadata": {
    "pycharm": {
     "name": "#%% md\n"
    }
   },
   "source": [
    "# Surface element computation problem and solution\n",
    "In `MagneticWell.compute()`, the volume computation (and others) rely on the quantity d$\\theta$ * d$\\zeta$. This is obtained from splicing `grid.spacing`. The grid class takes advantage of things like reducing duplicated node weight, stellarator symmetry, and the number of field periods to reduce the amount of computation.\n",
    "\n",
    "The problem is that, in the grid class's current implementation, the modifications made to `grid.spacing` to take advantage of symmetry and NFP do not preserve the value of d$\\theta$ * d$\\zeta$. So independently plucking out d$\\theta$ * d$\\zeta$ from a grid will not give the value its name implies.\n",
    "\n",
    "Why is this? Because rescaling is done to preserve the full volume, or the weights (d$\\rho$ * d$\\theta$ * d$\\zeta$) so that `grid.spacing.prod(axis=1).sum()` = 4$\\pi$<sup>2</sup>, at the expense of changing d$\\theta$ * d$\\zeta$. Here's a visual:"
   ]
  },
  {
   "cell_type": "code",
   "execution_count": 12,
   "metadata": {
    "pycharm": {
     "name": "#%%\n"
    }
   },
   "outputs": [
    {
     "name": "stdout",
     "output_type": "stream",
     "text": [
      "[[1.0000 1.2566 1.2566]\n",
      " [1.0000 1.2566 1.2566]\n",
      " [1.0000 1.2566 1.2566]\n",
      " [1.0000 1.2566 1.2566]\n",
      " [1.0000 1.2566 1.2566]\n",
      " [1.0000 1.2566 1.2566]\n",
      " [1.0000 1.2566 1.2566]\n",
      " [1.0000 1.2566 1.2566]\n",
      " [1.0000 1.2566 1.2566]\n",
      " [1.0000 1.2566 1.2566]\n",
      " [1.0000 1.2566 1.2566]\n",
      " [1.0000 1.2566 1.2566]\n",
      " [1.0000 1.2566 1.2566]\n",
      " [1.0000 1.2566 1.2566]\n",
      " [1.0000 1.2566 1.2566]\n",
      " [1.0000 1.2566 1.2566]\n",
      " [1.0000 1.2566 1.2566]\n",
      " [1.0000 1.2566 1.2566]\n",
      " [1.0000 1.2566 1.2566]\n",
      " [1.0000 1.2566 1.2566]\n",
      " [1.0000 1.2566 1.2566]\n",
      " [1.0000 1.2566 1.2566]\n",
      " [1.0000 1.2566 1.2566]\n",
      " [1.0000 1.2566 1.2566]\n",
      " [1.0000 1.2566 1.2566]]\n",
      "\n",
      "NFP: 82.51882346066132\n",
      "[[4.3536 5.4709 0.0663]\n",
      " [4.3536 5.4709 0.0663]\n",
      " [4.3536 5.4709 0.0663]\n",
      " [4.3536 5.4709 0.0663]\n",
      " [4.3536 5.4709 0.0663]\n",
      " [4.3536 5.4709 0.0663]\n",
      " [4.3536 5.4709 0.0663]\n",
      " [4.3536 5.4709 0.0663]\n",
      " [4.3536 5.4709 0.0663]\n",
      " [4.3536 5.4709 0.0663]\n",
      " [4.3536 5.4709 0.0663]\n",
      " [4.3536 5.4709 0.0663]\n",
      " [4.3536 5.4709 0.0663]\n",
      " [4.3536 5.4709 0.0663]\n",
      " [4.3536 5.4709 0.0663]\n",
      " [4.3536 5.4709 0.0663]\n",
      " [4.3536 5.4709 0.0663]\n",
      " [4.3536 5.4709 0.0663]\n",
      " [4.3536 5.4709 0.0663]\n",
      " [4.3536 5.4709 0.0663]\n",
      " [4.3536 5.4709 0.0663]\n",
      " [4.3536 5.4709 0.0663]\n",
      " [4.3536 5.4709 0.0663]\n",
      " [4.3536 5.4709 0.0663]\n",
      " [4.3536 5.4709 0.0663]]\n"
     ]
    }
   ],
   "source": [
    "# For any constant rho surface and NFP=1, grid.spacing is going\n",
    "# to be an M*N length stack of the row vector (1, 2pi/M, 2pi/N).\n",
    "g1 = LinearGrid(M=2, N=2, rho=np.array(1))\n",
    "print(g1.spacing)\n",
    "print()\n",
    "# When NFP != 1, the values of drho are increased (decreased) while\n",
    "# dtheta*dzeta decreases (increases).\n",
    "# That's why the wrong volume was being computed for the heliotron with NFP > 1.\n",
    "NFP = np.random.random_sample() * 100\n",
    "print(\"NFP:\", NFP)\n",
    "g2 = LinearGrid(M=2, N=2, NFP=NFP, rho=np.array(1))\n",
    "print(g2.spacing)\n",
    "\n",
    "# the good thing is that the differential volume drho*dtheta*dzeta is preserved\n",
    "# since that was the (main?) goal of the rescaling\n",
    "assert np.allclose(g1.spacing.prod(axis=1), g2.spacing.prod(axis=1))\n",
    "# and that, because rho=constant forces the drho vector to = 1 (with NFP=1),\n",
    "# grid.weights is actually the value we expect from dtheta*dzeta (for any NFP).\n",
    "if g1.num_rho == 1:\n",
    "    assert np.allclose(g1.spacing.prod(axis=1), g1.spacing[:, 1:].prod(axis=1))\n",
    "assert np.allclose(g1.spacing.prod(axis=1), g1.weights)  # definition of weights"
   ]
  },
  {
   "cell_type": "markdown",
   "metadata": {
    "pycharm": {
     "name": "#%% md\n"
    }
   },
   "source": [
    "## Solution\n",
    "\n",
    "On grids which are defined completely by a single rho surface (`grid.num_rho = 1`), the correct volume will be computed $\\forall NFP \\in \\mathbb{R}^{+}$, if we take d$\\theta$ * d$\\zeta$ to be `grid.weights` instead of `grid.spacing[:, 1:].prod(axis=1)`.\n",
    "\n",
    "On grids which are defined over a range of rho surfaces (`grid.num_rho != 1`) this will not work because d$\\rho$ != 1 on those grids. A general solution follows for computing the correct value for d$\\theta$ * d$\\zeta$ to other grids $g \\in Grid : g.num\\_rho \\in \\mathbb{N}$.\n",
    "* Let $g1 \\in Grid : g1.NFP = 1$ and $g2 \\in Grid : g2.NFP \\in \\mathbb{R}^{+}$. Then given g2, d$\\theta$ * d$\\zeta$ = `g2.weights / g1.spacing[:, 0]`.\n",
    "* I don't know how to retrieve g1.d$\\rho$ from g2, other than storing it during grid construction.\n",
    "* Until this can be fixed, any computation which requires differential surface elements (i.e. flux surface averages require the columns from `grid.spacing`) will yield incorrect quantities $\\forall g \\in Grid : g.num\\_rho \\in \\mathbb{N} \\setminus {1}\\ and\\ g.NFP \\in \\mathbb{R}^{+} \\setminus {1}$.\n",
    "\n",
    "\n",
    "The last source of error in the volume is the stellarator symmetry boolean. `enforce_symmetry()` again modifies d$\\theta$ * d$\\zeta$. Visual given below.\n",
    "\n",
    "The error in computed volume that results from this is much smaller than the NFP error fixed above. The nodes with $\\theta$ > $\\pi$ are removed and so too are the spacings in the grid that correspond to those nodes. Now because `grid.spacing` is missing these nodes, to preserve the overall volume in ($\\rho$, $\\theta$, $\\zeta$) space (`grid.weights.sum()`), the differential volume d$\\rho$ * d$\\theta$ * d$\\zeta$ of the remaining spaces is increased so that the sum is still 4$\\pi$<sup>2</sup>. This makes sense since we do want to increase the weight of the nodes 0 to $\\pi$ to double count for the removed nodes. This process has preserving the volume d$\\rho$ * d$\\theta$ * d$\\zeta$ in mind. It's not clear to me if a different scale factor (other than 4$\\pi$<sup>2</sup>) would be better to preserve an area element d$\\theta$ * d$\\zeta$. Might be dependent on $\\rho$."
   ]
  },
  {
   "cell_type": "code",
   "execution_count": 13,
   "metadata": {
    "pycharm": {
     "name": "#%%\n"
    }
   },
   "outputs": [
    {
     "name": "stdout",
     "output_type": "stream",
     "text": [
      "[[1.2599 1.3194 1.5833]\n",
      " [1.2599 1.3194 1.5833]\n",
      " [1.2599 1.3194 1.5833]\n",
      " [1.2599 1.3194 1.5833]\n",
      " [1.2599 1.3194 1.5833]\n",
      " [1.2599 1.3194 1.5833]\n",
      " [1.2599 1.3194 1.5833]\n",
      " [1.2599 1.3194 1.5833]\n",
      " [1.2599 1.3194 1.5833]\n",
      " [1.2599 1.3194 1.5833]\n",
      " [1.2599 1.3194 1.5833]\n",
      " [1.2599 1.3194 1.5833]\n",
      " [1.2599 1.3194 1.5833]\n",
      " [1.2599 1.3194 1.5833]\n",
      " [1.2599 1.3194 1.5833]]\n"
     ]
    }
   ],
   "source": [
    "g3 = LinearGrid(M=2, N=2, sym=True, rho=np.array(1))\n",
    "print(g3.spacing)"
   ]
  }
 ],
 "metadata": {
  "kernelspec": {
   "display_name": "fuze",
   "language": "python",
   "name": "fuze"
  },
  "language_info": {
   "codemirror_mode": {
    "name": "ipython",
    "version": 3
   },
   "file_extension": ".py",
   "mimetype": "text/x-python",
   "name": "python",
   "nbconvert_exporter": "python",
   "pygments_lexer": "ipython3",
   "version": "3.9.12"
  }
 },
 "nbformat": 4,
 "nbformat_minor": 4
}