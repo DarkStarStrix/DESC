{
 "cells": [
  {
   "cell_type": "code",
   "execution_count": 1,
   "id": "123f0f26",
   "metadata": {
    "pycharm": {
     "name": "#%%\n"
    }
   },
   "outputs": [],
   "source": [
    "import sys\n",
    "import os\n",
    "\n",
    "sys.path.insert(0, os.path.abspath(\".\"))\n",
    "sys.path.append(os.path.abspath(\"../../\"))"
   ]
  },
  {
   "cell_type": "code",
   "execution_count": 2,
   "id": "786026cd",
   "metadata": {
    "pycharm": {
     "name": "#%%\n"
    }
   },
   "outputs": [
    {
     "name": "stdout",
     "output_type": "stream",
     "text": [
      "DESC version 0.5.1+54.gdaa20db.dirty, using JAX backend, jax version=0.2.25, jaxlib version=0.1.76, dtype=float64\n",
      "Using device: CPU, with 8.16 GB available memory\n"
     ]
    }
   ],
   "source": [
    "%matplotlib inline\n",
    "import matplotlib.pyplot as plt\n",
    "import numpy as np\n",
    "from desc.backend import jnp\n",
    "from desc.grid import ConcentricGrid, LinearGrid\n",
    "from desc.profiles import PowerSeriesProfile\n",
    "\n",
    "\n",
    "np.set_printoptions(precision=3, floatmode=\"fixed\")\n",
    "jnp.set_printoptions(precision=3, floatmode=\"fixed\")"
   ]
  },
  {
   "cell_type": "markdown",
   "source": [
    "## Visualizing different grids"
   ],
   "metadata": {
    "collapsed": false,
    "pycharm": {
     "name": "#%% md\n"
    }
   }
  },
  {
   "cell_type": "code",
   "execution_count": 3,
   "outputs": [
    {
     "name": "stdout",
     "output_type": "stream",
     "text": [
      "10 48 72 54 False jacobi\n",
      "6 311 145\n",
      "nodes               spacing\n",
      "[0.073 0.000 0.000] [5.742e-01 4.750e+00 3.033e-03]\n",
      "[0.073 1.257 0.000] [5.742e-01 4.750e+00 3.033e-03]\n",
      "[0.073 2.513 0.000] [5.742e-01 4.750e+00 3.033e-03]\n",
      "[0.073 3.770 0.000] [5.742e-01 4.750e+00 3.033e-03]\n",
      "[0.073 5.027 0.000] [5.742e-01 4.750e+00 3.033e-03]\n",
      "[0.231 0.000 0.000] [0.696 0.990 0.003]\n",
      "[0.231 0.262 0.000] [0.696 0.990 0.003]\n",
      "[0.231 0.524 0.000] [0.696 0.990 0.003]\n",
      "[0.231 0.785 0.000] [0.696 0.990 0.003]\n",
      "[0.231 1.047 0.000] [0.696 0.990 0.003]\n",
      "[0.231 1.309 0.000] [0.696 0.990 0.003]\n",
      "[0.231 1.571 0.000] [0.696 0.990 0.003]\n",
      "[0.231 1.833 0.000] [0.696 0.990 0.003]\n",
      "[0.231 2.094 0.000] [0.696 0.990 0.003]\n",
      "[0.231 2.356 0.000] [0.696 0.990 0.003]\n",
      "[0.231 2.618 0.000] [0.696 0.990 0.003]\n",
      "[0.231 2.880 0.000] [0.696 0.990 0.003]\n"
     ]
    }
   ],
   "source": [
    "def print_grid(grid, stop=None):\n",
    "    \"\"\"\n",
    "    Parameters\n",
    "    ----------\n",
    "    grid\n",
    "        Prints nodes and spacing.\n",
    "    stop : int\n",
    "        Max number of nodes to print. Defaults to entire grid.\n",
    "    \"\"\"\n",
    "    assert (\n",
    "        len(grid.nodes) // grid.num_zeta\n",
    "        == jnp.where(~jnp.isclose(grid.nodes[:, 2], 0))[0][0]\n",
    "    )\n",
    "    print(grid.L, grid.M, grid.N, grid.NFP, grid.sym, grid.node_pattern)\n",
    "    print(grid.num_rho, grid.num_theta, grid.num_zeta)\n",
    "    print(\"nodes\", \"             \", \"spacing\")\n",
    "    if stop is None:\n",
    "        stop = len(grid.nodes)\n",
    "    for i, e in enumerate(zip(grid.nodes, grid.spacing)):\n",
    "        a, b = e\n",
    "        print(a, b)\n",
    "        if i > stop:\n",
    "            break\n",
    "\n",
    "\n",
    "rng = np.random.default_rng()\n",
    "L = rng.integers(low=1, high=100)\n",
    "M = rng.integers(low=1, high=100)\n",
    "N = rng.integers(low=1, high=100)\n",
    "NFP = rng.integers(low=1, high=100)\n",
    "sym = True if rng.integers(2) > 0 else False\n",
    "random_grid = ConcentricGrid(L=L, N=N, M=M, NFP=NFP, sym=sym)\n",
    "print_grid(random_grid, stop=15)"
   ],
   "metadata": {
    "collapsed": false,
    "pycharm": {
     "name": "#%%\n"
    }
   }
  },
  {
   "cell_type": "markdown",
   "source": [
    "## Bulk flux surface averaging test\n",
    "The tests pass. timeit also shows the _surface_sums no loop algorithm is faster."
   ],
   "metadata": {
    "collapsed": false,
    "pycharm": {
     "name": "#%% md\n"
    }
   }
  },
  {
   "cell_type": "code",
   "execution_count": 4,
   "outputs": [],
   "source": [
    "from desc.compute._core import surface_sums\n",
    "\n",
    "function = np.random.random_sample(size=len(random_grid.nodes))"
   ],
   "metadata": {
    "collapsed": false,
    "pycharm": {
     "name": "#%%\n"
    }
   }
  },
  {
   "cell_type": "code",
   "execution_count": 5,
   "outputs": [],
   "source": [
    "# %%timeit\n",
    "\n",
    "iota_1 = np.empty(random_grid.num_rho)\n",
    "# DESIRED ALGORITHM\n",
    "# collect collocation node indices for each rho surface\n",
    "surfaces = dict()\n",
    "for index, rho in enumerate(random_grid.nodes[:, 0]):\n",
    "    surfaces.setdefault(rho, list()).append(index)\n",
    "# integration over non-contiguous elements\n",
    "for i, surface in enumerate(surfaces.values()):\n",
    "    iota_1[i] = function[surface].sum()"
   ],
   "metadata": {
    "collapsed": false,
    "pycharm": {
     "name": "#%%\n"
    }
   }
  },
  {
   "cell_type": "code",
   "execution_count": 6,
   "outputs": [],
   "source": [
    "# %%timeit\n",
    "\n",
    "# NO LOOP IMPLEMENTATION\n",
    "bins = jnp.append(random_grid.nodes[random_grid.unique_rho_indices, 0], 1)\n",
    "iota_2 = surface_sums(random_grid.nodes[:, 0], bins, function)\n",
    "# bincount, bins = jnp.histogram(random_grid.nodes[:, 0], bins=bins)\n",
    "# print(grid.nodes[random_grid.unique_rho_indices, 0])\n",
    "# print(bincount)\n",
    "# print(bins)"
   ],
   "metadata": {
    "collapsed": false,
    "pycharm": {
     "name": "#%%\n"
    }
   }
  },
  {
   "cell_type": "code",
   "execution_count": 7,
   "outputs": [
    {
     "name": "stdout",
     "output_type": "stream",
     "text": [
      "[ 364.899 1714.855 3170.326 4550.627 5996.460 7314.246]\n",
      "[ 364.899 1714.855 3170.326 4550.627 5996.460 7314.246]\n"
     ]
    }
   ],
   "source": [
    "# must comment %%timeit to test assertion\n",
    "print(iota_1)\n",
    "print(iota_2)\n",
    "assert jnp.allclose(iota_1, iota_2)"
   ],
   "metadata": {
    "collapsed": false,
    "pycharm": {
     "name": "#%%\n"
    }
   }
  },
  {
   "cell_type": "markdown",
   "source": [
    "## Axisymmetric, vacuum, no current test\n",
    "Want to test if the returned rotational transform profile is 0 when toroidal current input is 0.\n",
    "This should be a good test because the bulk of the computation lies on enforcing the zero\n",
    "toroidal current algorithm for the geometry of the device. And when a non-zero toroidal current is specified we just add it to the numerator because that is the delta poloidal flux term."
   ],
   "metadata": {
    "collapsed": false,
    "pycharm": {
     "name": "#%% md\n"
    }
   }
  },
  {
   "cell_type": "code",
   "execution_count": 8,
   "outputs": [],
   "source": [
    "from desc.compute._core import compute_rotational_transform_v2\n",
    "\n",
    "\n",
    "def get_concentric_grid(eq):\n",
    "    \"\"\"\n",
    "    Parameters\n",
    "    ----------\n",
    "    eq : Equilibrium\n",
    "        The equilibrium.\n",
    "\n",
    "    Returns\n",
    "    -------\n",
    "    ConcentricGrid\n",
    "        Concentric grid used by the given equilibrium.\n",
    "    \"\"\"\n",
    "    return ConcentricGrid(\n",
    "        L=eq.L_grid,\n",
    "        M=eq.M_grid,\n",
    "        N=eq.N_grid,\n",
    "        NFP=1,  # to avoid known grid bug\n",
    "        sym=False,  # to avoid known grid bug\n",
    "        node_pattern=eq.node_pattern,\n",
    "    )\n",
    "\n",
    "\n",
    "def get_transform(eq, grid):\n",
    "    \"\"\"\n",
    "    Parameters\n",
    "    ----------\n",
    "    eq : Equilibrium\n",
    "        The equilibrium.\n",
    "    grid : ConcentricGrid\n",
    "        Concentric grid used by the given equilibrium.\n",
    "\n",
    "    Returns\n",
    "    -------\n",
    "    Transform\n",
    "         R_transform, Z_transform, L_transform of the given equilibrium.\n",
    "    \"\"\"\n",
    "    from desc.compute import data_index\n",
    "    from desc.transform import Transform\n",
    "\n",
    "    r_derivs = data_index[\"sqrt(g)_rr\"][\"R_derivs\"]\n",
    "    l_derivs = jnp.vstack(\n",
    "        (\n",
    "            data_index[\"lambda_t\"][\"L_derivs\"],\n",
    "            data_index[\"lambda_rt\"][\"L_derivs\"],\n",
    "            data_index[\"lambda_rrt\"][\"L_derivs\"],\n",
    "            data_index[\"lambda_z\"][\"L_derivs\"],\n",
    "            data_index[\"lambda_rz\"][\"L_derivs\"],\n",
    "            data_index[\"lambda_rrz\"][\"L_derivs\"],\n",
    "        )\n",
    "    )\n",
    "    R_transform = Transform(grid, eq.R_basis, derivs=r_derivs, build=True)\n",
    "    Z_transform = Transform(grid, eq.Z_basis, derivs=r_derivs, build=True)\n",
    "    L_transform = Transform(grid, eq.L_basis, derivs=l_derivs, build=True)\n",
    "    return R_transform, Z_transform, L_transform\n",
    "\n",
    "\n",
    "def get_toroidal_current(eq, grid):\n",
    "    \"\"\"\n",
    "    Parameters\n",
    "    ----------\n",
    "    eq : Equilibrium\n",
    "        The equilibrium.\n",
    "    grid : ConcentricGrid\n",
    "        The grid for the power series profile.\n",
    "\n",
    "    Returns\n",
    "    -------\n",
    "    current : ndarray\n",
    "        The toroidal current at each unique rho surface of the given equilibrium.\n",
    "    \"\"\"\n",
    "    current = np.empty(grid.num_rho)\n",
    "    for i, r in enumerate(grid.nodes[grid.unique_rho_indices, 0]):\n",
    "        data = eq.compute(\"I\", grid=LinearGrid(M=eq.M_grid, N=eq.N_grid, rho=r))\n",
    "        current[i] = data[\"I\"]\n",
    "    assert jnp.isfinite(current).all(), \"compute_quasisymmetry produces nan values\"\n",
    "    print(eq)\n",
    "    print(current)\n",
    "    return current\n",
    "    # return PowerSeriesProfile.from_values(x=rho, y=current, grid=grid)\n",
    "\n",
    "\n",
    "def get_iota_data(eq, I_l, power_series):\n",
    "    \"\"\"\n",
    "    Parameters\n",
    "    ----------\n",
    "    eq : Equilibrium\n",
    "        The equilibrium.\n",
    "    I_l : ndarray\n",
    "        Coefficients of the current profile. (params of power_series).\n",
    "    power_series : PowerSeriesProfile\n",
    "        The power series to compute the toroidal current.\n",
    "\n",
    "    Returns\n",
    "    -------\n",
    "    data : dict\n",
    "        The dictionary which contains at least iota, iota_r, iota_rr.\n",
    "    \"\"\"\n",
    "    transform = get_transform(eq, power_series.grid)\n",
    "    return compute_rotational_transform_v2(\n",
    "        eq.R_lmn,\n",
    "        eq.Z_lmn,\n",
    "        eq.L_lmn,\n",
    "        transform[0],\n",
    "        transform[1],\n",
    "        transform[2],\n",
    "        eq.Psi,\n",
    "        I_l=I_l,\n",
    "        toroidal_current=power_series,\n",
    "    )\n",
    "\n",
    "\n",
    "def get_iota_data_v2(eq, power_series):\n",
    "    \"\"\"\n",
    "    Parameters\n",
    "    ----------\n",
    "    eq : Equilibrium\n",
    "        The equilibrium.\n",
    "    power_series : PowerSeriesProfile\n",
    "        Only used grid\n",
    "\n",
    "    Returns\n",
    "    -------\n",
    "    data : dict\n",
    "        The dictionary which contains at least iota, iota_r, iota_rr.\n",
    "    \"\"\"\n",
    "    grid = get_concentric_grid(eq)\n",
    "    current = get_toroidal_current(eq, grid)\n",
    "    transform = get_transform(eq, grid)\n",
    "    return compute_rotational_transform_v2(\n",
    "        eq.R_lmn,\n",
    "        eq.Z_lmn,\n",
    "        eq.L_lmn,\n",
    "        transform[0],\n",
    "        transform[1],\n",
    "        transform[2],\n",
    "        eq.Psi,\n",
    "        toroidal_current_unique_rho=current,\n",
    "        toroidal_current=power_series,\n",
    "    )"
   ],
   "metadata": {
    "collapsed": false,
    "pycharm": {
     "name": "#%%\n"
    }
   }
  },
  {
   "cell_type": "code",
   "execution_count": 9,
   "outputs": [],
   "source": [
    "from desc.equilibrium import Equilibrium\n",
    "\n",
    "torus = Equilibrium()\n",
    "torus_I_l = jnp.zeros(2)\n",
    "data = get_iota_data(\n",
    "    torus,\n",
    "    I_l=torus_I_l,\n",
    "    power_series=PowerSeriesProfile(\n",
    "        params=torus_I_l, modes=[0, 2], grid=get_concentric_grid(torus)\n",
    "    ),\n",
    ")\n",
    "assert jnp.allclose(data[\"iota\"], 0)"
   ],
   "metadata": {
    "collapsed": false,
    "pycharm": {
     "name": "#%%\n"
    }
   }
  },
  {
   "cell_type": "markdown",
   "source": [
    "## Compare to VMEC test\n",
    "Want to test if the rotational transform profile from new compute function matches the rotational transform profile computed by VMEC."
   ],
   "metadata": {
    "collapsed": false,
    "pycharm": {
     "name": "#%% md\n"
    }
   }
  },
  {
   "cell_type": "code",
   "execution_count": 10,
   "outputs": [],
   "source": [
    "def plot(x, y, prepend_title):\n",
    "    \"\"\"\n",
    "    Parameters\n",
    "    ----------\n",
    "    x : ndarray\n",
    "        plot x-axis.\n",
    "    y : ndarray\n",
    "        plot y-axis. will make multiple plots if y.ndim > 1\n",
    "    prepend_title : str\n",
    "        string to prepend to plot title\n",
    "    \"\"\"\n",
    "    dot_size = 5 if len(x) > 64 else 10\n",
    "    y = np.atleast_2d(y)\n",
    "    fig, ax = plt.subplots(ncols=y.shape[0], figsize=(y.shape[0] * 8, 5))\n",
    "    ax = np.atleast_1d(ax)\n",
    "\n",
    "    for i in range(y.shape[0]):\n",
    "        append = \" \" + str(i) + \" derivative wrt rho\"\n",
    "        ax[i].scatter(x, y[i, :], s=dot_size)\n",
    "        ax[i].plot(x, y[i, :])\n",
    "        ax[i].set(\n",
    "            xlabel=\"rho\",\n",
    "            ylabel=\"iota\" + append,\n",
    "            yscale=\"symlog\" if jnp.ptp(y[i, :]) > 1e3 else \"linear\",\n",
    "            title=prepend_title + \" iota\" + append,\n",
    "        )\n",
    "        ax[i].grid()\n",
    "\n",
    "\n",
    "def get_desc_plot(eq, params, modes):\n",
    "    \"\"\"\n",
    "    Parameters\n",
    "    ----------\n",
    "    eq : Equilibrium\n",
    "        The equilibrium.\n",
    "    params : ndarray\n",
    "        Coefficients of the current profile. (params of power_series).\n",
    "    modes : ndarray\n",
    "        Toroidal current power series profile modes.\n",
    "        Should include only even modes to match VMEC AC input.\n",
    "\n",
    "    Returns\n",
    "    -------\n",
    "    rho : ndarray\n",
    "        unique rho values. x-axis of plot\n",
    "    iotas : ndarray\n",
    "        iota, iota_r, iota_rr at the unique rho values. y-axis of plot\n",
    "    \"\"\"\n",
    "    grid = get_concentric_grid(eq)\n",
    "    data = get_iota_data_v2(\n",
    "        eq,\n",
    "        # I_l=params,\n",
    "        power_series=PowerSeriesProfile(params=params, modes=modes, grid=grid),\n",
    "    )\n",
    "    assert len(grid.nodes) == len(data[\"iota\"])\n",
    "    rho = grid.nodes[grid.unique_rho_indices, 0]\n",
    "    iota = data[\"iota\"][grid.unique_rho_indices]\n",
    "    # iota_r = data[\"iota_r\"][grid.unique_rho_indices]\n",
    "    # iota_rr = data[\"iota_rr\"][grid.unique_rho_indices]\n",
    "    return rho, iota  # jnp.stack([iota, iota_r, iota_rr])\n",
    "\n",
    "\n",
    "def get_vmec_plot(name):\n",
    "    \"\"\"\n",
    "    Parameters\n",
    "    ----------\n",
    "    name : str\n",
    "        Name of the equilibrium.\n",
    "\n",
    "    Returns\n",
    "    -------\n",
    "    rho : ndarray\n",
    "        rho values. x-axis of plot.\n",
    "    iota : ndarray\n",
    "        iota. y-axis of plot.\n",
    "    \"\"\"\n",
    "    from netCDF4 import Dataset\n",
    "\n",
    "    f = Dataset(\"edu-vmec/wout_\" + name + \".nc\")\n",
    "    iota = jnp.asarray(f.variables[\"iotaf\"])\n",
    "    rho = jnp.sqrt(jnp.linspace(0, 1, len(iota)))\n",
    "    return rho, iota"
   ],
   "metadata": {
    "collapsed": false,
    "pycharm": {
     "name": "#%%\n"
    }
   }
  },
  {
   "cell_type": "code",
   "execution_count": 11,
   "outputs": [],
   "source": [
    "# values are toroidal current profiles (AC input for VMEC)\n",
    "stellarators = {\n",
    "    \"ATF\": jnp.array([1, -1, 0]),\n",
    "    \"DSHAPE\": jnp.array([2, -3, 0]),\n",
    "    \"SOLOVEV\": jnp.array([4, -2, -1]),\n",
    "    \"HELIOTRON\": jnp.array([2, -2, -1]),\n",
    "    \"AXISYM\": jnp.array([1, -1, 0]),\n",
    "}"
   ],
   "metadata": {
    "collapsed": false,
    "pycharm": {
     "name": "#%%\n"
    }
   }
  },
  {
   "cell_type": "markdown",
   "source": [
    "## Note\n",
    "VMEC says its HELIOTRON and AXISYM inputs may have convergence issues. Suggestion was to decrease DELT (step size). However, the error message remained.\n",
    "DESC also says its HELIOTRON and AXISYM inputs exceed max function evaluations. This can be fixed by increasing `nfev` in the input files for HELIOTRON.\n",
    "I did not change this to keep the input consistent with VMEC."
   ],
   "metadata": {
    "collapsed": false,
    "pycharm": {
     "name": "#%% md\n"
    }
   }
  },
  {
   "cell_type": "code",
   "execution_count": 12,
   "outputs": [
    {
     "name": "stdout",
     "output_type": "stream",
     "text": [
      "Equilibrium at 0x7f68740cc790 (L=24, M=12, N=4, NFP=12.0, sym=1, spectral_indexing=fringe)\n",
      "[-2.718e-05 -3.002e-04 -1.293e-03 -3.674e-03 -8.227e-03 -1.578e-02\n",
      " -2.719e-02 -4.328e-02 -6.483e-02 -9.273e-02 -1.278e-01 -1.703e-01\n",
      " -2.187e-01 -2.698e-01 -3.185e-01 -3.585e-01 -3.835e-01]\n"
     ]
    },
    {
     "ename": "AssertionError",
     "evalue": "compute_quasisymmetry produces nan values",
     "output_type": "error",
     "traceback": [
      "\u001b[0;31m---------------------------------------------------------------------------\u001b[0m",
      "\u001b[0;31mAssertionError\u001b[0m                            Traceback (most recent call last)",
      "Input \u001b[0;32mIn [12]\u001b[0m, in \u001b[0;36m<cell line: 5>\u001b[0;34m()\u001b[0m\n\u001b[1;32m      7\u001b[0m plot_1d(eq, \u001b[38;5;124m\"\u001b[39m\u001b[38;5;124miota\u001b[39m\u001b[38;5;124m\"\u001b[39m)\n\u001b[1;32m      8\u001b[0m \u001b[38;5;66;03m# modes are even to match VMEC psi modes\u001b[39;00m\n\u001b[0;32m----> 9\u001b[0m rho, iota \u001b[38;5;241m=\u001b[39m \u001b[43mget_desc_plot\u001b[49m\u001b[43m(\u001b[49m\u001b[43meq\u001b[49m\u001b[43m,\u001b[49m\u001b[43m \u001b[49m\u001b[43mparams\u001b[49m\u001b[43m,\u001b[49m\u001b[43m \u001b[49m\u001b[43mjnp\u001b[49m\u001b[38;5;241;43m.\u001b[39;49m\u001b[43marray\u001b[49m\u001b[43m(\u001b[49m\u001b[43m[\u001b[49m\u001b[38;5;241;43m0\u001b[39;49m\u001b[43m,\u001b[49m\u001b[43m \u001b[49m\u001b[38;5;241;43m2\u001b[39;49m\u001b[43m,\u001b[49m\u001b[43m \u001b[49m\u001b[38;5;241;43m4\u001b[39;49m\u001b[43m]\u001b[49m\u001b[43m)\u001b[49m\u001b[43m)\u001b[49m\n\u001b[1;32m     10\u001b[0m plot(rho, iota, \u001b[38;5;124m\"\u001b[39m\u001b[38;5;124mDESC \u001b[39m\u001b[38;5;124m\"\u001b[39m \u001b[38;5;241m+\u001b[39m name)\n",
      "Input \u001b[0;32mIn [10]\u001b[0m, in \u001b[0;36mget_desc_plot\u001b[0;34m(eq, params, modes)\u001b[0m\n\u001b[1;32m     31\u001b[0m \u001b[38;5;124;03m\"\"\"\u001b[39;00m\n\u001b[1;32m     32\u001b[0m \u001b[38;5;124;03mParameters\u001b[39;00m\n\u001b[1;32m     33\u001b[0m \u001b[38;5;124;03m----------\u001b[39;00m\n\u001b[0;32m   (...)\u001b[0m\n\u001b[1;32m     47\u001b[0m \u001b[38;5;124;03m    iota, iota_r, iota_rr at the unique rho values. y-axis of plot\u001b[39;00m\n\u001b[1;32m     48\u001b[0m \u001b[38;5;124;03m\"\"\"\u001b[39;00m\n\u001b[1;32m     49\u001b[0m grid \u001b[38;5;241m=\u001b[39m get_concentric_grid(eq)\n\u001b[0;32m---> 50\u001b[0m data \u001b[38;5;241m=\u001b[39m \u001b[43mget_iota_data_v2\u001b[49m\u001b[43m(\u001b[49m\n\u001b[1;32m     51\u001b[0m \u001b[43m    \u001b[49m\u001b[43meq\u001b[49m\u001b[43m,\u001b[49m\n\u001b[1;32m     52\u001b[0m \u001b[43m    \u001b[49m\u001b[38;5;66;43;03m# I_l=params,\u001b[39;49;00m\n\u001b[1;32m     53\u001b[0m \u001b[43m    \u001b[49m\u001b[43mpower_series\u001b[49m\u001b[38;5;241;43m=\u001b[39;49m\u001b[43mPowerSeriesProfile\u001b[49m\u001b[43m(\u001b[49m\u001b[43mparams\u001b[49m\u001b[38;5;241;43m=\u001b[39;49m\u001b[43mparams\u001b[49m\u001b[43m,\u001b[49m\u001b[43m \u001b[49m\u001b[43mmodes\u001b[49m\u001b[38;5;241;43m=\u001b[39;49m\u001b[43mmodes\u001b[49m\u001b[43m,\u001b[49m\u001b[43m \u001b[49m\u001b[43mgrid\u001b[49m\u001b[38;5;241;43m=\u001b[39;49m\u001b[43mgrid\u001b[49m\u001b[43m)\u001b[49m\u001b[43m,\u001b[49m\n\u001b[1;32m     54\u001b[0m \u001b[43m\u001b[49m\u001b[43m)\u001b[49m\n\u001b[1;32m     55\u001b[0m \u001b[38;5;28;01massert\u001b[39;00m \u001b[38;5;28mlen\u001b[39m(grid\u001b[38;5;241m.\u001b[39mnodes) \u001b[38;5;241m==\u001b[39m \u001b[38;5;28mlen\u001b[39m(data[\u001b[38;5;124m\"\u001b[39m\u001b[38;5;124miota\u001b[39m\u001b[38;5;124m\"\u001b[39m])\n\u001b[1;32m     56\u001b[0m rho \u001b[38;5;241m=\u001b[39m grid\u001b[38;5;241m.\u001b[39mnodes[grid\u001b[38;5;241m.\u001b[39munique_rho_indices, \u001b[38;5;241m0\u001b[39m]\n",
      "Input \u001b[0;32mIn [8]\u001b[0m, in \u001b[0;36mget_iota_data_v2\u001b[0;34m(eq, power_series)\u001b[0m\n\u001b[1;32m    115\u001b[0m \u001b[38;5;124;03m\"\"\"\u001b[39;00m\n\u001b[1;32m    116\u001b[0m \u001b[38;5;124;03mParameters\u001b[39;00m\n\u001b[1;32m    117\u001b[0m \u001b[38;5;124;03m----------\u001b[39;00m\n\u001b[0;32m   (...)\u001b[0m\n\u001b[1;32m    126\u001b[0m \u001b[38;5;124;03m    The dictionary which contains at least iota, iota_r, iota_rr.\u001b[39;00m\n\u001b[1;32m    127\u001b[0m \u001b[38;5;124;03m\"\"\"\u001b[39;00m\n\u001b[1;32m    128\u001b[0m grid \u001b[38;5;241m=\u001b[39m get_concentric_grid(eq)\n\u001b[0;32m--> 129\u001b[0m current \u001b[38;5;241m=\u001b[39m \u001b[43mget_toroidal_current\u001b[49m\u001b[43m(\u001b[49m\u001b[43meq\u001b[49m\u001b[43m,\u001b[49m\u001b[43m \u001b[49m\u001b[43mgrid\u001b[49m\u001b[43m)\u001b[49m\n\u001b[1;32m    130\u001b[0m transform \u001b[38;5;241m=\u001b[39m get_transform(eq, grid)\n\u001b[1;32m    131\u001b[0m \u001b[38;5;28;01mreturn\u001b[39;00m compute_rotational_transform_v2(\n\u001b[1;32m    132\u001b[0m     eq\u001b[38;5;241m.\u001b[39mR_lmn,\n\u001b[1;32m    133\u001b[0m     eq\u001b[38;5;241m.\u001b[39mZ_lmn,\n\u001b[0;32m   (...)\u001b[0m\n\u001b[1;32m    140\u001b[0m     toroidal_current\u001b[38;5;241m=\u001b[39mpower_series,\n\u001b[1;32m    141\u001b[0m )\n",
      "Input \u001b[0;32mIn [8]\u001b[0m, in \u001b[0;36mget_toroidal_current\u001b[0;34m(eq, grid)\u001b[0m\n\u001b[1;32m     75\u001b[0m     data \u001b[38;5;241m=\u001b[39m eq\u001b[38;5;241m.\u001b[39mcompute(\u001b[38;5;124m\"\u001b[39m\u001b[38;5;124mI\u001b[39m\u001b[38;5;124m\"\u001b[39m, grid\u001b[38;5;241m=\u001b[39mLinearGrid(M\u001b[38;5;241m=\u001b[39meq\u001b[38;5;241m.\u001b[39mM_grid, N\u001b[38;5;241m=\u001b[39meq\u001b[38;5;241m.\u001b[39mN_grid, rho\u001b[38;5;241m=\u001b[39mr))\n\u001b[1;32m     76\u001b[0m     current[i] \u001b[38;5;241m=\u001b[39m data[\u001b[38;5;124m\"\u001b[39m\u001b[38;5;124mI\u001b[39m\u001b[38;5;124m\"\u001b[39m]\n\u001b[0;32m---> 77\u001b[0m \u001b[38;5;28;01massert\u001b[39;00m jnp\u001b[38;5;241m.\u001b[39misfinite(current)\u001b[38;5;241m.\u001b[39mall(), \u001b[38;5;124m\"\u001b[39m\u001b[38;5;124mcompute_quasisymmetry produces nan values\u001b[39m\u001b[38;5;124m\"\u001b[39m\n\u001b[1;32m     78\u001b[0m \u001b[38;5;28mprint\u001b[39m(eq)\n\u001b[1;32m     79\u001b[0m \u001b[38;5;28mprint\u001b[39m(current)\n",
      "\u001b[0;31mAssertionError\u001b[0m: compute_quasisymmetry produces nan values"
     ]
    },
    {
     "data": {
      "text/plain": "<Figure size 384x384 with 1 Axes>",
      "image/png": "[encoded data removed]"
     },
     "metadata": {},
     "output_type": "display_data"
    },
    {
     "data": {
      "text/plain": "<Figure size 768x480 with 1 Axes>",
      "image/png": "[encoded data removed]"
     },
     "metadata": {},
     "output_type": "display_data"
    },
    {
     "data": {
      "text/plain": "<Figure size 384x384 with 1 Axes>",
      "image/png": "[encoded data removed]"
     },
     "metadata": {},
     "output_type": "display_data"
    }
   ],
   "source": [
    "import desc.io\n",
    "from desc.plotting import plot_1d\n",
    "\n",
    "# plot DESC output\n",
    "for name, params in stellarators.items():\n",
    "    eq = desc.io.load(\"../examples/DESC/\" + name + \"_output.h5\")[-1]\n",
    "    plot_1d(eq, \"iota\")\n",
    "    # modes are even to match VMEC psi modes\n",
    "    rho, iota = get_desc_plot(eq, params, jnp.array([0, 2, 4]))\n",
    "    plot(rho, iota, \"DESC \" + name)"
   ],
   "metadata": {
    "collapsed": false,
    "pycharm": {
     "name": "#%%\n"
    }
   }
  },
  {
   "cell_type": "code",
   "execution_count": null,
   "outputs": [],
   "source": [
    "# plot VMEC output\n",
    "for name in stellarators.keys():\n",
    "    rho, iota = get_vmec_plot(name)\n",
    "    plot(rho, iota, \"VMEC \" + name)"
   ],
   "metadata": {
    "collapsed": false,
    "pycharm": {
     "name": "#%%\n"
    }
   }
  }
 ],
 "metadata": {
  "kernelspec": {
   "name": "fuze",
   "language": "python",
   "display_name": "fuze"
  },
  "language_info": {
   "codemirror_mode": {
    "name": "ipython",
    "version": 3
   },
   "file_extension": ".py",
   "mimetype": "text/x-python",
   "name": "python",
   "nbconvert_exporter": "python",
   "pygments_lexer": "ipython3",
   "version": "3.9.12"
  }
 },
 "nbformat": 4,
 "nbformat_minor": 5
}