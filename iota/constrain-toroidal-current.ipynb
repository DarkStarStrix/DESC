{
 "cells": [
  {
   "cell_type": "code",
   "execution_count": 1,
   "id": "123f0f26",
   "metadata": {
    "pycharm": {
     "name": "#%%\n"
    }
   },
   "outputs": [],
   "source": [
    "import sys\n",
    "import os\n",
    "\n",
    "sys.path.insert(0, os.path.abspath(\".\"))\n",
    "sys.path.append(os.path.abspath(\"../../\"))"
   ]
  },
  {
   "cell_type": "code",
   "execution_count": 2,
   "id": "786026cd",
   "metadata": {
    "pycharm": {
     "name": "#%%\n"
    }
   },
   "outputs": [
    {
     "name": "stdout",
     "output_type": "stream",
     "text": [
      "DESC version 0.5.1+74.g47683e6.dirty, using JAX backend, jax version=0.2.25, jaxlib version=0.1.76, dtype=float64\n",
      "Using device: CPU, with 8.43 GB available memory\n"
     ]
    }
   ],
   "source": [
    "%matplotlib inline\n",
    "import matplotlib.pyplot as plt\n",
    "from scipy.constants import mu_0\n",
    "import numpy as np\n",
    "from desc.backend import jnp\n",
    "from desc.grid import QuadratureGrid, ConcentricGrid, LinearGrid\n",
    "from desc.profiles import PowerSeriesProfile\n",
    "import desc.io\n",
    "from desc.compute._core import compute_rotational_transform\n",
    "from desc.compute.utils import surface_averages, surface_integrals\n",
    "from desc.compute import data_index\n",
    "from desc.transform import Transform\n",
    "from netCDF4 import Dataset\n",
    "from desc.geometry import FourierRZCurve\n",
    "from desc.equilibrium import Equilibrium\n",
    "from desc.plotting import plot_1d\n",
    "\n",
    "np.set_printoptions(precision=3, floatmode=\"fixed\")\n",
    "jnp.set_printoptions(precision=3, floatmode=\"fixed\")"
   ]
  },
  {
   "cell_type": "markdown",
   "id": "58494983",
   "metadata": {
    "pycharm": {
     "name": "#%% md\n"
    }
   },
   "source": [
    "## Visualizing different grids"
   ]
  },
  {
   "cell_type": "code",
   "execution_count": 3,
   "id": "3ea52c9f",
   "metadata": {
    "pycharm": {
     "name": "#%%\n"
    }
   },
   "outputs": [
    {
     "name": "stdout",
     "output_type": "stream",
     "text": [
      "12 72 61 14 True jacobi\n",
      "7 264 123\n",
      "nodes               spacing\n",
      "[0.056 0.349 0.000] [0.359 3.180 0.011]\n",
      "[0.056 1.396 0.000] [0.359 3.180 0.011]\n",
      "[0.056 2.443 0.000] [0.359 3.180 0.011]\n",
      "[0.180 0.070 0.000] [0.450 0.636 0.011]\n",
      "[0.180 0.279 0.000] [0.450 0.636 0.011]\n",
      "[0.180 0.489 0.000] [0.450 0.636 0.011]\n",
      "[0.180 0.698 0.000] [0.450 0.636 0.011]\n",
      "[0.180 0.908 0.000] [0.450 0.636 0.011]\n",
      "[0.180 1.117 0.000] [0.450 0.636 0.011]\n",
      "[0.180 1.326 0.000] [0.450 0.636 0.011]\n",
      "[0.180 1.536 0.000] [0.450 0.636 0.011]\n",
      "[0.180 1.745 0.000] [0.450 0.636 0.011]\n"
     ]
    }
   ],
   "source": [
    "def print_grid(grid, stop=None, quantity=None):\n",
    "    \"\"\"\n",
    "    Parameters\n",
    "    ----------\n",
    "    grid\n",
    "        Prints nodes and spacing.\n",
    "    stop : int\n",
    "        Max number of nodes to print. Defaults to entire grid.\n",
    "    quantity : ndarray\n",
    "        A quantity to print alongside the grid. i.e. data[\"iota\"]\n",
    "    \"\"\"\n",
    "    assert (\n",
    "        len(grid.nodes) // grid.num_zeta\n",
    "        == jnp.where(~jnp.isclose(grid.nodes[:, 2], 0))[0][0]\n",
    "    )\n",
    "    print(grid.L, grid.M, grid.N, grid.NFP, grid.sym, grid.node_pattern)\n",
    "    print(grid.num_rho, grid.num_theta, grid.num_zeta)\n",
    "    print(\"nodes\", \"             \", \"spacing\")\n",
    "    if stop is None:\n",
    "        stop = len(grid.nodes)\n",
    "    if quantity is None:\n",
    "        for i, e in enumerate(zip(grid.nodes, grid.spacing)):\n",
    "            a, b = e\n",
    "            print(a, b)\n",
    "            if i > stop:\n",
    "                break\n",
    "    else:\n",
    "        for i, e in enumerate(zip(grid.nodes, grid.spacing, quantity)):\n",
    "            a, b, c = e\n",
    "            print(a, b, c)\n",
    "            if i > stop:\n",
    "                break\n",
    "\n",
    "\n",
    "rng = np.random.default_rng()\n",
    "L = rng.integers(low=1, high=100)\n",
    "M = rng.integers(low=1, high=100)\n",
    "N = rng.integers(low=1, high=100)\n",
    "NFP = rng.integers(low=1, high=100)\n",
    "sym = True if rng.integers(2) > 0 else False\n",
    "random_grid = ConcentricGrid(L=L, N=N, M=M, NFP=NFP, sym=sym)\n",
    "print_grid(random_grid, stop=10)"
   ]
  },
  {
   "cell_type": "markdown",
   "id": "15fcd0f4",
   "metadata": {
    "pycharm": {
     "name": "#%% md\n"
    }
   },
   "source": [
    "## Bulk flux surface averaging test\n",
    "The tests pass. timeit also shows the _surface_sums no loop algorithm is faster."
   ]
  },
  {
   "cell_type": "code",
   "execution_count": 4,
   "id": "a0d9dede",
   "metadata": {
    "pycharm": {
     "name": "#%%\n"
    }
   },
   "outputs": [
    {
     "name": "stderr",
     "output_type": "stream",
     "text": [
      "/home/kaya/Documents/edu/pton/plasma/desc/DESC/desc/io/hdf5_io.py:108: RuntimeWarning: Save attribute '_unique_rho_indices' was not loaded.\n",
      "  warnings.warn(\n",
      "/home/kaya/Documents/edu/pton/plasma/desc/DESC/desc/io/hdf5_io.py:108: RuntimeWarning: Save attribute '_unique_theta_indices' was not loaded.\n",
      "  warnings.warn(\n",
      "/home/kaya/Documents/edu/pton/plasma/desc/DESC/desc/io/hdf5_io.py:108: RuntimeWarning: Save attribute '_unique_zeta_indices' was not loaded.\n",
      "  warnings.warn(\n",
      "/home/kaya/Documents/edu/pton/plasma/desc/DESC/desc/io/hdf5_io.py:108: RuntimeWarning: Save attribute '_current' was not loaded.\n",
      "  warnings.warn(\n"
     ]
    }
   ],
   "source": [
    "heliotron = desc.io.load(\n",
    "    \"../../master-28d5b14/examples/DESC/\" + \"HELIOTRON\" + \"_output.h5\"\n",
    ")[-1]\n",
    "random_integrand = np.random.random_sample(size=len(random_grid.nodes))\n",
    "\n",
    "# print(flux_surface_function_integrand)\n",
    "heliotron_grid = ConcentricGrid(\n",
    "    L=heliotron.L_grid,\n",
    "    M=heliotron.M_grid,\n",
    "    N=heliotron.N_grid,\n",
    "    NFP=heliotron.NFP,\n",
    "    sym=heliotron.sym,\n",
    "    node_pattern=heliotron.node_pattern,\n",
    ")\n",
    "flux_surface_function_integrand = np.asarray(\n",
    "    heliotron.compute(\"p\", grid=heliotron_grid)[\"p\"]\n",
    ")"
   ]
  },
  {
   "cell_type": "code",
   "execution_count": 5,
   "id": "60ca12e7",
   "metadata": {
    "pycharm": {
     "name": "#%%\n"
    }
   },
   "outputs": [],
   "source": [
    "# %%timeit\n",
    "\n",
    "result_1 = np.empty(random_grid.num_rho)\n",
    "# collect collocation node indices for each rho surface\n",
    "surfaces = dict()\n",
    "for index, rho in enumerate(random_grid.nodes[:, 0]):\n",
    "    surfaces.setdefault(rho, list()).append(index)\n",
    "# integration over non-contiguous elements\n",
    "ds = random_grid.spacing[:, 1:].prod(axis=1)\n",
    "for i, surface_indices in enumerate(surfaces.values()):\n",
    "    result_1[i] = (ds * random_integrand)[surface_indices].sum()"
   ]
  },
  {
   "cell_type": "code",
   "execution_count": 6,
   "outputs": [],
   "source": [
    "# %%timeit\n",
    "\n",
    "result_1_helio = np.empty(heliotron_grid.num_rho)\n",
    "# collect collocation node indices for each rho surface\n",
    "surfaces_helio = dict()\n",
    "for index, rho in enumerate(heliotron_grid.nodes[:, 0]):\n",
    "    surfaces_helio.setdefault(rho, list()).append(index)\n",
    "# integration over non-contiguous elements\n",
    "ds = (\n",
    "    heliotron_grid.weights\n",
    "    if heliotron_grid.num_rho == 1\n",
    "    else heliotron_grid.spacing[:, 1:].prod(axis=1)\n",
    ")  # for NFP bug\n",
    "for i, surface_indices in enumerate(surfaces_helio.values()):\n",
    "    result_1_helio[i] = (ds * flux_surface_function_integrand)[surface_indices].sum()"
   ],
   "metadata": {
    "collapsed": false,
    "pycharm": {
     "name": "#%%\n"
    }
   }
  },
  {
   "cell_type": "code",
   "execution_count": 7,
   "id": "d87a956c",
   "metadata": {
    "pycharm": {
     "name": "#%%\n"
    }
   },
   "outputs": [],
   "source": [
    "# %%timeit\n",
    "result_2 = surface_integrals(random_grid, random_integrand)\n",
    "result_2_helio = surface_integrals(heliotron_grid, flux_surface_function_integrand)"
   ]
  },
  {
   "cell_type": "code",
   "execution_count": 12,
   "id": "2a9d2f87",
   "metadata": {
    "pycharm": {
     "name": "#%%\n"
    }
   },
   "outputs": [
    {
     "name": "stdout",
     "output_type": "stream",
     "text": [
      "[6.394 6.492 6.562 6.521 6.511 6.500 6.554]\n",
      "[6.394 6.492 6.562 6.521 6.511 6.500 6.554]\n",
      "36 18 6 19.0 1 jacobi\n",
      "19 180 13\n",
      "nodes               spacing\n",
      "[0.009 2.094 0.000] [ 0.065 20.514  0.083] 17996.987305265866\n",
      "[0.030 0.698 0.000] [0.088 6.838 0.083] 17966.641960604935\n",
      "[0.030 2.793 0.000] [0.088 6.838 0.083] 17966.641960604935\n",
      "[0.063 0.419 0.000] [0.125 4.103 0.083] 17856.02210540674\n",
      "[0.063 1.676 0.000] [0.125 4.103 0.083] 17856.02210540674\n",
      "[0.063 2.932 0.000] [0.125 4.103 0.083] 17856.02210540674\n",
      "[0.107 0.299 0.000] [0.158 2.931 0.083] 17590.904428375157\n",
      "[0.107 1.197 0.000] [0.158 2.931 0.083] 17590.904428375157\n",
      "[0.107 2.094 0.000] [0.158 2.931 0.083] 17590.904428375157\n",
      "[0.107 2.992 0.000] [0.158 2.931 0.083] 17590.904428375157\n",
      "[0.160 0.233 0.000] [0.188 2.279 0.083] 17088.159331990475\n",
      "[0.160 0.931 0.000] [0.188 2.279 0.083] 17088.159331990475\n",
      "[0.160 1.629 0.000] [0.188 2.279 0.083] 17088.159331990475\n",
      "[0.160 2.327 0.000] [0.188 2.279 0.083] 17088.159331990475\n",
      "[0.160 3.025 0.000] [0.188 2.279 0.083] 17088.159331990475\n",
      "[0.222 0.190 0.000] [0.212 1.865 0.083] 16272.294883983193\n",
      "[0.222 0.762 0.000] [0.212 1.865 0.083] 16272.294883983193\n"
     ]
    }
   ],
   "source": [
    "# must comment %%timeit to test assertion\n",
    "print(result_1)\n",
    "print(result_2)\n",
    "assert jnp.allclose(result_1, result_2)\n",
    "assert jnp.allclose(result_1_helio, result_2_helio)\n",
    "sqrtg = heliotron.compute(\"sqrt(g)\", grid=heliotron_grid)[\"sqrt(g)\"]\n",
    "assert jnp.allclose(\n",
    "    flux_surface_function_integrand,\n",
    "    surface_averages(\n",
    "        heliotron_grid, flux_surface_function_integrand, sqrtg, match_grid=True\n",
    "    ),\n",
    ")\n",
    "print_grid(heliotron_grid, stop=15, quantity=flux_surface_function_integrand)"
   ]
  },
  {
   "cell_type": "code",
   "execution_count": 9,
   "outputs": [
    {
     "name": "stdout",
     "output_type": "stream",
     "text": [
      "12 72 61 14 True jacobi\n",
      "7 264 123\n",
      "nodes               spacing\n",
      "[0.056 0.349 0.000] [0.359 3.180 0.011] 6.39439470385697\n",
      "[0.056 1.396 0.000] [0.359 3.180 0.011] 6.39439470385697\n",
      "[0.056 2.443 0.000] [0.359 3.180 0.011] 6.39439470385697\n",
      "[0.180 0.070 0.000] [0.450 0.636 0.011] 6.491556777208184\n",
      "[0.180 0.279 0.000] [0.450 0.636 0.011] 6.491556777208184\n",
      "[0.180 0.489 0.000] [0.450 0.636 0.011] 6.491556777208184\n",
      "[0.180 0.698 0.000] [0.450 0.636 0.011] 6.491556777208184\n",
      "[0.180 0.908 0.000] [0.450 0.636 0.011] 6.491556777208184\n",
      "[0.180 1.117 0.000] [0.450 0.636 0.011] 6.491556777208184\n",
      "[0.180 1.326 0.000] [0.450 0.636 0.011] 6.491556777208184\n",
      "[0.180 1.536 0.000] [0.450 0.636 0.011] 6.491556777208184\n",
      "[0.180 1.745 0.000] [0.450 0.636 0.011] 6.491556777208184\n",
      "[0.180 1.955 0.000] [0.450 0.636 0.011] 6.491556777208184\n",
      "[0.180 2.164 0.000] [0.450 0.636 0.011] 6.491556777208184\n",
      "[0.180 2.374 0.000] [0.450 0.636 0.011] 6.491556777208184\n",
      "[0.180 2.583 0.000] [0.450 0.636 0.011] 6.491556777208184\n",
      "[0.180 2.793 0.000] [0.450 0.636 0.011] 6.491556777208184\n"
     ]
    }
   ],
   "source": [
    "integrals_match_grid = surface_integrals(random_grid, random_integrand, match_grid=True)\n",
    "for i, surface_indices in enumerate(surfaces.values()):\n",
    "    for index in surface_indices:\n",
    "        assert jnp.allclose(integrals_match_grid[index], result_1[i])\n",
    "print_grid(random_grid, stop=15, quantity=integrals_match_grid)"
   ],
   "metadata": {
    "collapsed": false,
    "pycharm": {
     "name": "#%%\n"
    }
   }
  },
  {
   "cell_type": "markdown",
   "source": [
    "## Axisymmetric, vacuum, no current test\n",
    "Want to test if the returned rotational transform profile is 0 when toroidal current input is 0.\n",
    "This should be a good test because the bulk of the computation lies on enforcing the zero toroidal current algorithm for the geometry of the device.\n",
    "And when a non-zero toroidal current is specified we just add it to the numerator because that is the delta poloidal flux term."
   ],
   "metadata": {
    "collapsed": false,
    "pycharm": {
     "name": "#%% md\n"
    }
   }
  },
  {
   "cell_type": "code",
   "execution_count": 10,
   "outputs": [],
   "source": [
    "def get_concentric_grid(eq):\n",
    "    \"\"\"\n",
    "    Parameters\n",
    "    ----------\n",
    "    eq : Equilibrium\n",
    "        The equilibrium.\n",
    "\n",
    "    Returns\n",
    "    -------\n",
    "    ConcentricGrid\n",
    "        Concentric grid used by the given equilibrium.\n",
    "    \"\"\"\n",
    "    return ConcentricGrid(\n",
    "        L=eq.L_grid,\n",
    "        M=eq.M_grid,\n",
    "        N=eq.N_grid,\n",
    "        NFP=1,  # to avoid known grid bug\n",
    "        sym=False,  # to avoid known grid bug\n",
    "        node_pattern=eq.node_pattern,\n",
    "    )\n",
    "\n",
    "\n",
    "def get_linear_grid(eq, rho):\n",
    "    \"\"\"\n",
    "    Parameters\n",
    "    ----------\n",
    "    eq : Equilibrium\n",
    "        The equilibrium.\n",
    "    rho: ndarray\n",
    "        Grid rhos.\n",
    "\n",
    "    Returns\n",
    "    -------\n",
    "    LinearGrid\n",
    "        LinearGrid grid for the given equilibrium.\n",
    "    \"\"\"\n",
    "    return LinearGrid(\n",
    "        M=max(5, eq.M_grid),\n",
    "        N=max(5, eq.N_grid),\n",
    "        NFP=1,  # to avoid known grid bug\n",
    "        sym=False,  # to avoid known grid bug\n",
    "        rho=rho,\n",
    "    )\n",
    "\n",
    "\n",
    "def get_transform(eq, grid):\n",
    "    \"\"\"\n",
    "    Parameters\n",
    "    ----------\n",
    "    eq : Equilibrium\n",
    "        The equilibrium.\n",
    "    grid : ConcentricGrid\n",
    "        Concentric grid used by the given equilibrium.\n",
    "\n",
    "    Returns\n",
    "    -------\n",
    "    Transform\n",
    "         R_transform, Z_transform, L_transform of the given equilibrium.\n",
    "    \"\"\"\n",
    "    r_derivs = data_index[\"sqrt(g)_rr\"][\"R_derivs\"]\n",
    "    l_derivs = jnp.vstack(\n",
    "        (\n",
    "            data_index[\"lambda_t\"][\"L_derivs\"],\n",
    "            data_index[\"lambda_rt\"][\"L_derivs\"],\n",
    "            data_index[\"lambda_rrt\"][\"L_derivs\"],\n",
    "            data_index[\"lambda_z\"][\"L_derivs\"],\n",
    "            data_index[\"lambda_rz\"][\"L_derivs\"],\n",
    "            data_index[\"lambda_rrz\"][\"L_derivs\"],\n",
    "        )\n",
    "    )\n",
    "    R_transform = Transform(grid, eq.R_basis, derivs=r_derivs, build=True)\n",
    "    Z_transform = Transform(grid, eq.Z_basis, derivs=r_derivs, build=True)\n",
    "    L_transform = Transform(grid, eq.L_basis, derivs=l_derivs, build=True)\n",
    "    return R_transform, Z_transform, L_transform\n",
    "\n",
    "\n",
    "def get_toroidal_current(eq, grid):\n",
    "    \"\"\"\n",
    "    Parameters\n",
    "    ----------\n",
    "    eq : Equilibrium\n",
    "        The equilibrium.\n",
    "    grid : ConcentricGrid, LinearGrid\n",
    "        The grid for the power series profile.\n",
    "\n",
    "    Returns\n",
    "    -------\n",
    "    current : ndarray\n",
    "        The toroidal current at each unique rho surface of the given equilibrium.\n",
    "    \"\"\"\n",
    "    current = np.empty(grid.num_rho)\n",
    "    for i, r in enumerate(grid.nodes[grid.unique_rho_indices, 0]):\n",
    "        data = eq.compute(\"I\", grid=LinearGrid(M=eq.M_grid, N=max(1, eq.N_grid), rho=r))\n",
    "        current[i] = data[\"I\"]\n",
    "    # assert jnp.isfinite(current).all(), \"compute_quasisymmetry_error produces nan values\"\n",
    "    return 2 * jnp.pi / mu_0 * current\n",
    "    # return PowerSeriesProfile.from_values(x=rho, y=current, grid=grid)\n",
    "\n",
    "\n",
    "def get_iota_data(eq, c_l, power_series, vmec_current=None):\n",
    "    \"\"\"\n",
    "    Parameters\n",
    "    ----------\n",
    "    eq : Equilibrium\n",
    "        The equilibrium.\n",
    "    c_l : ndarray\n",
    "        Coefficients of the current profile. (params of power_series).\n",
    "    power_series : PowerSeriesProfile\n",
    "        The power series to compute the toroidal current.\n",
    "    vmec_current : ndarray\n",
    "        uses vmec current as input to compute_rotational_transform if specified.\n",
    "        Make sure power series has linear grid with rho = vmec plot rho.\n",
    "\n",
    "    Returns\n",
    "    -------\n",
    "    data : dict\n",
    "        The dictionary which contains at least iota.\n",
    "    \"\"\"\n",
    "    current = None\n",
    "    if c_l is None:\n",
    "        current = (\n",
    "            get_toroidal_current(eq, power_series.grid)\n",
    "            if vmec_current is None\n",
    "            else vmec_current\n",
    "        )\n",
    "    transform = get_transform(eq, power_series.grid)\n",
    "    return compute_rotational_transform(\n",
    "        eq.R_lmn,\n",
    "        eq.Z_lmn,\n",
    "        eq.L_lmn,\n",
    "        eq.i_l,\n",
    "        eq.c_l,\n",
    "        eq.Psi,\n",
    "        transform[0],\n",
    "        transform[1],\n",
    "        transform[2],\n",
    "        iota=eq.iota,\n",
    "        current=eq.current,\n",
    "        toroidal_current_unique_rho=current,\n",
    "    )"
   ],
   "metadata": {
    "collapsed": false,
    "pycharm": {
     "name": "#%%\n"
    }
   }
  },
  {
   "cell_type": "code",
   "execution_count": 11,
   "outputs": [
    {
     "name": "stderr",
     "output_type": "stream",
     "text": [
      "/home/kaya/Documents/edu/pton/plasma/desc/DESC/desc/configuration.py:344: UserWarning: Must specify either iota or current. Using default profile of iota=0.\n",
      "  warnings.warn(\n"
     ]
    },
    {
     "name": "stdout",
     "output_type": "stream",
     "text": [
      "[[0.355 0.000 0.000]\n",
      " [0.845 0.000 0.000]\n",
      " [0.845 1.257 0.000]\n",
      " [0.845 2.513 0.000]\n",
      " [0.845 3.770 0.000]\n",
      " [0.845 5.027 0.000]\n",
      " [0.355 0.000 0.299]\n",
      " [0.845 0.000 0.299]\n",
      " [0.845 1.257 0.299]\n",
      " [0.845 2.513 0.299]\n",
      " [0.845 3.770 0.299]\n",
      " [0.845 5.027 0.299]\n",
      " [0.355 0.000 0.598]\n",
      " [0.845 0.000 0.598]\n",
      " [0.845 1.257 0.598]\n",
      " [0.845 2.513 0.598]\n",
      " [0.845 3.770 0.598]\n",
      " [0.845 5.027 0.598]\n",
      " [0.355 0.000 0.898]\n",
      " [0.845 0.000 0.898]\n",
      " [0.845 1.257 0.898]\n",
      " [0.845 2.513 0.898]\n",
      " [0.845 3.770 0.898]\n",
      " [0.845 5.027 0.898]\n",
      " [0.355 0.000 1.197]\n",
      " [0.845 0.000 1.197]\n",
      " [0.845 1.257 1.197]\n",
      " [0.845 2.513 1.197]\n",
      " [0.845 3.770 1.197]\n",
      " [0.845 5.027 1.197]\n",
      " [0.355 0.000 1.496]\n",
      " [0.845 0.000 1.496]\n",
      " [0.845 1.257 1.496]\n",
      " [0.845 2.513 1.496]\n",
      " [0.845 3.770 1.496]\n",
      " [0.845 5.027 1.496]\n",
      " [0.355 0.000 1.795]\n",
      " [0.845 0.000 1.795]\n",
      " [0.845 1.257 1.795]\n",
      " [0.845 2.513 1.795]\n",
      " [0.845 3.770 1.795]\n",
      " [0.845 5.027 1.795]\n",
      " [0.355 0.000 2.094]\n",
      " [0.845 0.000 2.094]\n",
      " [0.845 1.257 2.094]\n",
      " [0.845 2.513 2.094]\n",
      " [0.845 3.770 2.094]\n",
      " [0.845 5.027 2.094]\n",
      " [0.355 0.000 2.394]\n",
      " [0.845 0.000 2.394]\n",
      " [0.845 1.257 2.394]\n",
      " [0.845 2.513 2.394]\n",
      " [0.845 3.770 2.394]\n",
      " [0.845 5.027 2.394]\n",
      " [0.355 0.000 2.693]\n",
      " [0.845 0.000 2.693]\n",
      " [0.845 1.257 2.693]\n",
      " [0.845 2.513 2.693]\n",
      " [0.845 3.770 2.693]\n",
      " [0.845 5.027 2.693]\n",
      " [0.355 0.000 2.992]\n",
      " [0.845 0.000 2.992]\n",
      " [0.845 1.257 2.992]\n",
      " [0.845 2.513 2.992]\n",
      " [0.845 3.770 2.992]\n",
      " [0.845 5.027 2.992]\n",
      " [0.355 0.000 3.291]\n",
      " [0.845 0.000 3.291]\n",
      " [0.845 1.257 3.291]\n",
      " [0.845 2.513 3.291]\n",
      " [0.845 3.770 3.291]\n",
      " [0.845 5.027 3.291]\n",
      " [0.355 0.000 3.590]\n",
      " [0.845 0.000 3.590]\n",
      " [0.845 1.257 3.590]\n",
      " [0.845 2.513 3.590]\n",
      " [0.845 3.770 3.590]\n",
      " [0.845 5.027 3.590]\n",
      " [0.355 0.000 3.890]\n",
      " [0.845 0.000 3.890]\n",
      " [0.845 1.257 3.890]\n",
      " [0.845 2.513 3.890]\n",
      " [0.845 3.770 3.890]\n",
      " [0.845 5.027 3.890]\n",
      " [0.355 0.000 4.189]\n",
      " [0.845 0.000 4.189]\n",
      " [0.845 1.257 4.189]\n",
      " [0.845 2.513 4.189]\n",
      " [0.845 3.770 4.189]\n",
      " [0.845 5.027 4.189]\n",
      " [0.355 0.000 4.488]\n",
      " [0.845 0.000 4.488]\n",
      " [0.845 1.257 4.488]\n",
      " [0.845 2.513 4.488]\n",
      " [0.845 3.770 4.488]\n",
      " [0.845 5.027 4.488]\n",
      " [0.355 0.000 4.787]\n",
      " [0.845 0.000 4.787]\n",
      " [0.845 1.257 4.787]\n",
      " [0.845 2.513 4.787]\n",
      " [0.845 3.770 4.787]\n",
      " [0.845 5.027 4.787]\n",
      " [0.355 0.000 5.086]\n",
      " [0.845 0.000 5.086]\n",
      " [0.845 1.257 5.086]\n",
      " [0.845 2.513 5.086]\n",
      " [0.845 3.770 5.086]\n",
      " [0.845 5.027 5.086]\n",
      " [0.355 0.000 5.386]\n",
      " [0.845 0.000 5.386]\n",
      " [0.845 1.257 5.386]\n",
      " [0.845 2.513 5.386]\n",
      " [0.845 3.770 5.386]\n",
      " [0.845 5.027 5.386]\n",
      " [0.355 0.000 5.685]\n",
      " [0.845 0.000 5.685]\n",
      " [0.845 1.257 5.685]\n",
      " [0.845 2.513 5.685]\n",
      " [0.845 3.770 5.685]\n",
      " [0.845 5.027 5.685]\n",
      " [0.355 0.000 5.984]\n",
      " [0.845 0.000 5.984]\n",
      " [0.845 1.257 5.984]\n",
      " [0.845 2.513 5.984]\n",
      " [0.845 3.770 5.984]\n",
      " [0.845 5.027 5.984]]\n",
      "2 2 10 1 False jacobi\n",
      "2 5 21\n",
      "nodes               spacing\n",
      "[0.355 0.000 0.000] [0.600 6.283 0.299]\n",
      "[0.845 0.000 0.000] [0.400 1.257 0.299]\n",
      "[0.845 1.257 0.000] [0.400 1.257 0.299]\n",
      "[0.845 2.513 0.000] [0.400 1.257 0.299]\n",
      "[0.845 3.770 0.000] [0.400 1.257 0.299]\n",
      "[0.845 5.027 0.000] [0.400 1.257 0.299]\n",
      "[0.355 0.000 0.299] [0.600 6.283 0.299]\n",
      "[0.845 0.000 0.299] [0.400 1.257 0.299]\n",
      "[0.845 1.257 0.299] [0.400 1.257 0.299]\n",
      "[0.845 2.513 0.299] [0.400 1.257 0.299]\n",
      "[0.845 3.770 0.299] [0.400 1.257 0.299]\n",
      "[0.845 5.027 0.299] [0.400 1.257 0.299]\n",
      "[0.355 0.000 0.598] [0.600 6.283 0.299]\n",
      "[0.845 0.000 0.598] [0.400 1.257 0.299]\n",
      "[0.845 1.257 0.598] [0.400 1.257 0.299]\n",
      "[0.845 2.513 0.598] [0.400 1.257 0.299]\n",
      "[0.845 3.770 0.598] [0.400 1.257 0.299]\n",
      "[0.845 5.027 0.598] [0.400 1.257 0.299]\n",
      "[0.355 0.000 0.898] [0.600 6.283 0.299]\n",
      "[0.845 0.000 0.898] [0.400 1.257 0.299]\n",
      "[0.845 1.257 0.898] [0.400 1.257 0.299]\n",
      "[0.845 2.513 0.898] [0.400 1.257 0.299]\n",
      "[0.845 3.770 0.898] [0.400 1.257 0.299]\n",
      "[0.845 5.027 0.898] [0.400 1.257 0.299]\n",
      "[0.355 0.000 1.197] [0.600 6.283 0.299]\n",
      "[0.845 0.000 1.197] [0.400 1.257 0.299]\n",
      "[0.845 1.257 1.197] [0.400 1.257 0.299]\n",
      "[0.845 2.513 1.197] [0.400 1.257 0.299]\n",
      "[0.845 3.770 1.197] [0.400 1.257 0.299]\n",
      "[0.845 5.027 1.197] [0.400 1.257 0.299]\n",
      "[0.355 0.000 1.496] [0.600 6.283 0.299]\n",
      "[0.845 0.000 1.496] [0.400 1.257 0.299]\n",
      "[0.845 1.257 1.496] [0.400 1.257 0.299]\n",
      "[0.845 2.513 1.496] [0.400 1.257 0.299]\n",
      "[0.845 3.770 1.496] [0.400 1.257 0.299]\n",
      "[0.845 5.027 1.496] [0.400 1.257 0.299]\n",
      "[0.355 0.000 1.795] [0.600 6.283 0.299]\n",
      "[0.845 0.000 1.795] [0.400 1.257 0.299]\n",
      "[0.845 1.257 1.795] [0.400 1.257 0.299]\n",
      "[0.845 2.513 1.795] [0.400 1.257 0.299]\n",
      "[0.845 3.770 1.795] [0.400 1.257 0.299]\n",
      "[0.845 5.027 1.795] [0.400 1.257 0.299]\n",
      "[0.355 0.000 2.094] [0.600 6.283 0.299]\n",
      "[0.845 0.000 2.094] [0.400 1.257 0.299]\n",
      "[0.845 1.257 2.094] [0.400 1.257 0.299]\n",
      "[0.845 2.513 2.094] [0.400 1.257 0.299]\n",
      "[0.845 3.770 2.094] [0.400 1.257 0.299]\n",
      "[0.845 5.027 2.094] [0.400 1.257 0.299]\n",
      "[0.355 0.000 2.394] [0.600 6.283 0.299]\n",
      "[0.845 0.000 2.394] [0.400 1.257 0.299]\n",
      "[0.845 1.257 2.394] [0.400 1.257 0.299]\n",
      "[0.845 2.513 2.394] [0.400 1.257 0.299]\n",
      "[0.845 3.770 2.394] [0.400 1.257 0.299]\n",
      "[0.845 5.027 2.394] [0.400 1.257 0.299]\n",
      "[0.355 0.000 2.693] [0.600 6.283 0.299]\n",
      "[0.845 0.000 2.693] [0.400 1.257 0.299]\n",
      "[0.845 1.257 2.693] [0.400 1.257 0.299]\n",
      "[0.845 2.513 2.693] [0.400 1.257 0.299]\n",
      "[0.845 3.770 2.693] [0.400 1.257 0.299]\n",
      "[0.845 5.027 2.693] [0.400 1.257 0.299]\n",
      "[0.355 0.000 2.992] [0.600 6.283 0.299]\n",
      "[0.845 0.000 2.992] [0.400 1.257 0.299]\n",
      "[0.845 1.257 2.992] [0.400 1.257 0.299]\n",
      "[0.845 2.513 2.992] [0.400 1.257 0.299]\n",
      "[0.845 3.770 2.992] [0.400 1.257 0.299]\n",
      "[0.845 5.027 2.992] [0.400 1.257 0.299]\n",
      "[0.355 0.000 3.291] [0.600 6.283 0.299]\n",
      "[0.845 0.000 3.291] [0.400 1.257 0.299]\n",
      "[0.845 1.257 3.291] [0.400 1.257 0.299]\n",
      "[0.845 2.513 3.291] [0.400 1.257 0.299]\n",
      "[0.845 3.770 3.291] [0.400 1.257 0.299]\n",
      "[0.845 5.027 3.291] [0.400 1.257 0.299]\n",
      "[0.355 0.000 3.590] [0.600 6.283 0.299]\n",
      "[0.845 0.000 3.590] [0.400 1.257 0.299]\n",
      "[0.845 1.257 3.590] [0.400 1.257 0.299]\n",
      "[0.845 2.513 3.590] [0.400 1.257 0.299]\n",
      "[0.845 3.770 3.590] [0.400 1.257 0.299]\n",
      "[0.845 5.027 3.590] [0.400 1.257 0.299]\n",
      "[0.355 0.000 3.890] [0.600 6.283 0.299]\n",
      "[0.845 0.000 3.890] [0.400 1.257 0.299]\n",
      "[0.845 1.257 3.890] [0.400 1.257 0.299]\n",
      "[0.845 2.513 3.890] [0.400 1.257 0.299]\n",
      "[0.845 3.770 3.890] [0.400 1.257 0.299]\n",
      "[0.845 5.027 3.890] [0.400 1.257 0.299]\n",
      "[0.355 0.000 4.189] [0.600 6.283 0.299]\n",
      "[0.845 0.000 4.189] [0.400 1.257 0.299]\n",
      "[0.845 1.257 4.189] [0.400 1.257 0.299]\n",
      "[0.845 2.513 4.189] [0.400 1.257 0.299]\n",
      "[0.845 3.770 4.189] [0.400 1.257 0.299]\n",
      "[0.845 5.027 4.189] [0.400 1.257 0.299]\n",
      "[0.355 0.000 4.488] [0.600 6.283 0.299]\n",
      "[0.845 0.000 4.488] [0.400 1.257 0.299]\n",
      "[0.845 1.257 4.488] [0.400 1.257 0.299]\n",
      "[0.845 2.513 4.488] [0.400 1.257 0.299]\n",
      "[0.845 3.770 4.488] [0.400 1.257 0.299]\n",
      "[0.845 5.027 4.488] [0.400 1.257 0.299]\n",
      "[0.355 0.000 4.787] [0.600 6.283 0.299]\n",
      "[0.845 0.000 4.787] [0.400 1.257 0.299]\n",
      "[0.845 1.257 4.787] [0.400 1.257 0.299]\n",
      "[0.845 2.513 4.787] [0.400 1.257 0.299]\n",
      "[0.845 3.770 4.787] [0.400 1.257 0.299]\n",
      "[0.845 5.027 4.787] [0.400 1.257 0.299]\n",
      "[0.355 0.000 5.086] [0.600 6.283 0.299]\n",
      "[0.845 0.000 5.086] [0.400 1.257 0.299]\n",
      "[0.845 1.257 5.086] [0.400 1.257 0.299]\n",
      "[0.845 2.513 5.086] [0.400 1.257 0.299]\n",
      "[0.845 3.770 5.086] [0.400 1.257 0.299]\n",
      "[0.845 5.027 5.086] [0.400 1.257 0.299]\n",
      "[0.355 0.000 5.386] [0.600 6.283 0.299]\n",
      "[0.845 0.000 5.386] [0.400 1.257 0.299]\n",
      "[0.845 1.257 5.386] [0.400 1.257 0.299]\n",
      "[0.845 2.513 5.386] [0.400 1.257 0.299]\n",
      "[0.845 3.770 5.386] [0.400 1.257 0.299]\n",
      "[0.845 5.027 5.386] [0.400 1.257 0.299]\n",
      "[0.355 0.000 5.685] [0.600 6.283 0.299]\n",
      "[0.845 0.000 5.685] [0.400 1.257 0.299]\n",
      "[0.845 1.257 5.685] [0.400 1.257 0.299]\n",
      "[0.845 2.513 5.685] [0.400 1.257 0.299]\n",
      "[0.845 3.770 5.685] [0.400 1.257 0.299]\n",
      "[0.845 5.027 5.685] [0.400 1.257 0.299]\n",
      "[0.355 0.000 5.984] [0.600 6.283 0.299]\n",
      "[0.845 0.000 5.984] [0.400 1.257 0.299]\n",
      "[0.845 1.257 5.984] [0.400 1.257 0.299]\n",
      "[0.845 2.513 5.984] [0.400 1.257 0.299]\n",
      "[0.845 3.770 5.984] [0.400 1.257 0.299]\n",
      "[0.845 5.027 5.984] [0.400 1.257 0.299]\n",
      "PowerSeriesProfile at 0x7f926c169a90 (name=, grid=ConcentricGrid at 0x7f9298050100 (L=2, M=2, N=10, NFP=1, sym=False, node_pattern=jacobi), basis=PowerSeries at 0x7f926c1fbfd0 (L=4, M=0, N=0, NFP=1, sym=even, spectral_indexing=linear))\n",
      "dict_keys(['R', 'Z', 'R_r', 'Z_r', 'R_t', 'Z_t', 'R_z', 'Z_z', 'R_rr', 'Z_rr', 'R_rt', 'Z_rt', 'R_rz', 'Z_rz', 'R_rrr', 'Z_rrr', 'R_rrt', 'Z_rrt', 'R_rrz', 'Z_rrz', '0', 'e_rho', 'e_theta', 'e_zeta', 'e_rho_r', 'e_rho_t', 'e_rho_z', 'e_theta_r', 'e_zeta_r', 'e_rho_rr', 'e_rho_rt', 'e_rho_rz', 'e_theta_rr', 'e_zeta_rr', 'sqrt(g)', '|e_theta x e_zeta|', '|e_zeta x e_rho|', '|e_rho x e_theta|', 'sqrt(g)_r', 'sqrt(g)_rr', 'rho', 'theta', 'zeta', 'psi', 'psi_r', 'psi_rr', 'lambda_t', 'lambda_z', 'lambda_rt', 'lambda_rz', 'lambda_rrt', 'lambda_rrz', 'g_rr', 'g_tt', 'g_zz', 'g_rt', 'g_rz', 'g_tz'])\n"
     ]
    },
    {
     "ename": "KeyError",
     "evalue": "'iota'",
     "output_type": "error",
     "traceback": [
      "\u001b[0;31m---------------------------------------------------------------------------\u001b[0m",
      "\u001b[0;31mKeyError\u001b[0m                                  Traceback (most recent call last)",
      "Input \u001b[0;32mIn [11]\u001b[0m, in \u001b[0;36m<cell line: 8>\u001b[0;34m()\u001b[0m\n\u001b[1;32m      6\u001b[0m data \u001b[38;5;241m=\u001b[39m get_iota_data(torus, c_l\u001b[38;5;241m=\u001b[39mtorus\u001b[38;5;241m.\u001b[39mc_l, power_series\u001b[38;5;241m=\u001b[39mtorus\u001b[38;5;241m.\u001b[39mcurrent)\n\u001b[1;32m      7\u001b[0m \u001b[38;5;28mprint\u001b[39m(data\u001b[38;5;241m.\u001b[39mkeys())\n\u001b[0;32m----> 8\u001b[0m \u001b[38;5;28;01massert\u001b[39;00m jnp\u001b[38;5;241m.\u001b[39mallclose(\u001b[43mdata\u001b[49m\u001b[43m[\u001b[49m\u001b[38;5;124;43m\"\u001b[39;49m\u001b[38;5;124;43miota\u001b[39;49m\u001b[38;5;124;43m\"\u001b[39;49m\u001b[43m]\u001b[49m, \u001b[38;5;241m0\u001b[39m)\n",
      "\u001b[0;31mKeyError\u001b[0m: 'iota'"
     ]
    }
   ],
   "source": [
    "grid = get_concentric_grid(Equilibrium(N=5))\n",
    "print(grid.nodes)\n",
    "print_grid(grid)\n",
    "torus = Equilibrium(\n",
    "    current=PowerSeriesProfile(\n",
    "        params=jnp.zeros(3), modes=jnp.arange(0, 6, step=2), grid=grid\n",
    "    )\n",
    ")\n",
    "print(torus.current)\n",
    "data = get_iota_data(torus, c_l=torus.c_l, power_series=torus.current)\n",
    "print(data.keys())\n",
    "assert jnp.allclose(data[\"iota\"], 0)"
   ],
   "metadata": {
    "collapsed": false,
    "pycharm": {
     "name": "#%%\n"
    }
   }
  },
  {
   "cell_type": "markdown",
   "source": [
    "## Compare to VMEC test\n",
    "Want to test if the rotational transform profile from new compute function matches the rotational transform profile computed by VMEC."
   ],
   "metadata": {
    "collapsed": false,
    "pycharm": {
     "name": "#%% md\n"
    }
   }
  },
  {
   "cell_type": "code",
   "execution_count": null,
   "outputs": [],
   "source": [
    "def plot(x, y, prepend_title):\n",
    "    \"\"\"\n",
    "    Parameters\n",
    "    ----------\n",
    "    x : ndarray\n",
    "        plot x-axis.\n",
    "    y : ndarray\n",
    "        plot y-axis. will make multiple plots if y.ndim > 1\n",
    "    prepend_title : str\n",
    "        string to prepend to plot title\n",
    "    \"\"\"\n",
    "    dot_size = 5 if len(x) > 64 else 10\n",
    "    y = np.atleast_2d(y)\n",
    "    fig, ax = plt.subplots(ncols=y.shape[0], figsize=(y.shape[0] * 8, 5))\n",
    "    ax = np.atleast_1d(ax)\n",
    "\n",
    "    for i in range(y.shape[0]):\n",
    "        append = \" \" + str(i) + \" derivative wrt rho\"\n",
    "        ax[i].scatter(x, y[i, :], s=dot_size)\n",
    "        ax[i].plot(x, y[i, :])\n",
    "        ax[i].set(\n",
    "            xlabel=r\"$\\rho$\",\n",
    "            ylabel=\"iota\" + append,\n",
    "            yscale=\"symlog\" if jnp.ptp(y[i, :]) > 1e3 else \"linear\",\n",
    "            title=prepend_title + \" iota\" + append,\n",
    "        )\n",
    "        ax[i].grid()\n",
    "\n",
    "\n",
    "def plot_overlay(x, y, prepend_title, x2, y2, prepend_title_2):\n",
    "    \"\"\"\n",
    "    Parameters\n",
    "    ----------\n",
    "    x : ndarray\n",
    "        plot x-axis.\n",
    "    y : ndarray\n",
    "        plot y-axis. will make multiple plots if y.ndim > 1\n",
    "    prepend_title : str\n",
    "        string to prepend to plot title\n",
    "    \"\"\"\n",
    "    dot_size = 2 if len(x) > 128 else 5\n",
    "    y = np.atleast_2d(y)\n",
    "    y2 = np.atleast_2d(y2)\n",
    "    fig, ax = plt.subplots(dpi=300)\n",
    "    ax = np.atleast_1d(ax)\n",
    "\n",
    "    for i in range(y.shape[0]):\n",
    "        append = \" \" + str(i) + \" derivative wrt rho\"\n",
    "        ax[i].scatter(x, y[i, :], s=dot_size, label=prepend_title)\n",
    "        ax[i].plot(x, y[i, :])\n",
    "        ax[i].scatter(x2, y2[i, :], s=dot_size, label=prepend_title_2)\n",
    "        ax[i].plot(x2, y2[i, :])\n",
    "        ax[i].set(\n",
    "            xlabel=r\"$\\rho$\",\n",
    "            ylabel=\"iota\" + append,\n",
    "            yscale=\"symlog\" if jnp.ptp(y[i, :]) > 1e3 else \"linear\",\n",
    "            title=\"iota\" + append,\n",
    "        )\n",
    "        ax[i].grid()\n",
    "    fig.legend()\n",
    "\n",
    "\n",
    "def get_desc_plot(\n",
    "    eq,\n",
    "    params,\n",
    "    modes,\n",
    "    ignore_params_use_eq_compute=False,\n",
    "    vmec_rho=None,\n",
    "    vmec_current=None,\n",
    "):\n",
    "    \"\"\"\n",
    "    Parameters\n",
    "    ----------\n",
    "    eq : Equilibrium\n",
    "        The equilibrium.\n",
    "    params : ndarray, None\n",
    "        Coefficients of the current profile. (params of power_series).\n",
    "    modes : ndarray\n",
    "        Toroidal current power series profile modes.\n",
    "        Should include only even modes to match VMEC AC input.\n",
    "    ignore_params_use_eq_compute: bool\n",
    "        The current is computed from eq.compute(\"I\") rather than the power series.\n",
    "\n",
    "    Returns\n",
    "    -------\n",
    "    rho : ndarray\n",
    "        unique rho values. x-axis of plot\n",
    "    iotas : ndarray\n",
    "        iota, iota_r, iota_rr at the unique rho values. y-axis of plot\n",
    "    \"\"\"\n",
    "    grid = get_linear_grid(eq, vmec_rho)\n",
    "    data = get_iota_data(\n",
    "        eq,\n",
    "        I_l=None if ignore_params_use_eq_compute else params,\n",
    "        power_series=PowerSeriesProfile(params=params, modes=modes, grid=grid),\n",
    "        vmec_current=vmec_current,\n",
    "    )\n",
    "    assert len(grid.nodes) == len(data[\"iota\"])\n",
    "    rho = grid.nodes[grid.unique_rho_indices, 0]\n",
    "    iota = data[\"iota\"][grid.unique_rho_indices]\n",
    "    # iota_r = data[\"iota_r\"][grid.unique_rho_indices]\n",
    "    # iota_rr = data[\"iota_rr\"][grid.unique_rho_indices]\n",
    "    print()\n",
    "    return rho, iota  # iota_r, iota_rr])\n",
    "\n",
    "\n",
    "def get_vmec_plot(name, return_iota=True):\n",
    "    \"\"\"\n",
    "    Parameters\n",
    "    ----------\n",
    "    name : str\n",
    "        Name of the equilibrium.\n",
    "    return_iota: bool\n",
    "        Returns iota for the y value if True, else current.\n",
    "\n",
    "    Returns\n",
    "    -------\n",
    "    rho : ndarray\n",
    "        rho values. x-axis of plot.\n",
    "    iota : ndarray\n",
    "        iota. y-axis of plot.\n",
    "    \"\"\"x\n",
    "\n",
    "    f = Dataset(\"edu-vmec/input-iota/wout_\" + name + \".nc\")\n",
    "    current = 2 * jnp.pi / mu_0 * jnp.array(f.variables[\"buco\"])\n",
    "    iota = jnp.asarray(f.variables[\"iotaf\"])\n",
    "    rho = jnp.sqrt(f.variables[\"phi\"] / np.array(f.variables[\"phi\"])[-1])\n",
    "    return rho, iota if return_iota else current"
   ],
   "metadata": {
    "collapsed": false,
    "pycharm": {
     "name": "#%%\n"
    }
   }
  },
  {
   "cell_type": "code",
   "execution_count": null,
   "outputs": [],
   "source": [
    "# values are toroidal current profiles (AC input for VMEC)\n",
    "stellarators = {\n",
    "    \"ATF\": jnp.array([1, -1, 0]),\n",
    "    \"DSHAPE\": jnp.array([2, -3, 0]),\n",
    "    \"SOLOVEV\": jnp.array([4, -2, -1]),\n",
    "    \"HELIOTRON\": jnp.array([2, -2, -1]),\n",
    "    \"AXISYM\": jnp.array([1, -1, 0]),\n",
    "}"
   ],
   "metadata": {
    "collapsed": false,
    "pycharm": {
     "name": "#%%\n"
    }
   }
  },
  {
   "cell_type": "markdown",
   "source": [],
   "metadata": {
    "collapsed": false,
    "pycharm": {
     "name": "#%% md\n"
    }
   }
  },
  {
   "cell_type": "code",
   "execution_count": null,
   "outputs": [],
   "source": [
    "# surface = FourierRZCurve(R_n=[1e1, -1e0, -3e-1, 3e-1],\n",
    "#                          Z_n=[1e0, -3e-1, -3e-1],\n",
    "#                          modes_R=[[0, 0], [1,0], [1, 1], [-1, -1]], # modes given as [m,n] for each coefficient\n",
    "#                          modes_Z=[[-1, 0], [-1, 1], [1, -1]],\n",
    "#                          NFP=1,\n",
    "#                          sym=False,\n",
    "#                         )\n",
    "# pressure = PowerSeriesProfile(params=[1.8e4, -3.6e4, 1.8e4], modes=[0,2,4])\n",
    "# current = PowerSeriesProfile(params=[2, -2, -1], modes=[0,2,4])\n",
    "#\n",
    "# heliotron = Equilibrium(Psi=1, NFP=1, sym=False, L=24, M=12, N=3, M_grid=18, N_grid=6,node_pattern=\"jacobi\", pressure=pressure, current=current, spectral_indexing=\"fringe\", objective=\"force\", optimizer=\"lsq-exact\")\n",
    "# print(heliotron.compute(\"iota\")[\"iota\"])\n",
    "# heliotron.solve()"
   ],
   "metadata": {
    "collapsed": false,
    "pycharm": {
     "name": "#%%\n"
    }
   }
  },
  {
   "cell_type": "code",
   "execution_count": null,
   "outputs": [],
   "source": [
    "# currents = dict()\n",
    "# eqs = dict()\n",
    "# for name in stellarators.keys():\n",
    "#      rho, vmec_current = get_vmec_plot(name, return_iota=False)\n",
    "#      eq = desc.io.load(\"../../master-28d5b14/examples/DESC/\" + name + \"_output.h5\")[-1]\n",
    "#      eqs[name] = eq\n",
    "#      desc_current = get_toroidal_current(eq, LinearGrid(M=eq.M_grid,\n",
    "#                                              N=max(1, eq.N_grid),\n",
    "#                                              NFP=1,  # to avoid known grid bug\n",
    "#                                              sym=False,  # to avoid known grid bug\n",
    "#                                              rho=rho,\n",
    "#                                             ))\n",
    "#      currents[name] = rho, vmec_current, desc_current"
   ],
   "metadata": {
    "collapsed": false,
    "pycharm": {
     "name": "#%%\n"
    }
   }
  },
  {
   "cell_type": "code",
   "execution_count": null,
   "outputs": [],
   "source": [
    "# for name in stellarators.keys():\n",
    "#     fig, ax = plt.subplots(dpi=300)\n",
    "#     rho = currents[name][0]\n",
    "#\n",
    "#     ax.scatter(rho, currents[name][1], s=1)\n",
    "#     ax.scatter(rho, currents[name][2], s=1)\n",
    "#     ax.plot(rho, currents[name][1], label=\"VMEC\")\n",
    "#     ax.plot(rho, currents[name][2], label=\"DESC\")\n",
    "#     ax.plot(rho, -1 * currents[name][1], label=\"VMEC * -1\")\n",
    "#     ax.set(xlabel=r\"$\\rho$\", ylabel=\"Toroidal Current (amperes)\", title=name + \" Toroidal Current\")\n",
    "#     ax.grid()\n",
    "#     fig.legend()\n",
    "#     fig.savefig(name + \" current compare plot.png\", facecolor='white')"
   ],
   "metadata": {
    "collapsed": false,
    "pycharm": {
     "name": "#%%\n"
    }
   }
  },
  {
   "cell_type": "markdown",
   "source": [
    "## Note\n",
    "VMEC says its HELIOTRON and AXISYM inputs may have convergence issues. Suggestion was to decrease DELT (step size). However, the error message remained.\n",
    "DESC also says its HELIOTRON and AXISYM inputs exceed max function evaluations. This can be fixed by increasing `nfev` in the input files for HELIOTRON.\n",
    "I did not change this to keep the input consistent with VMEC."
   ],
   "metadata": {
    "collapsed": false,
    "pycharm": {
     "name": "#%% md\n"
    }
   }
  },
  {
   "cell_type": "code",
   "execution_count": null,
   "outputs": [],
   "source": [
    "# plot DESC output\n",
    "for name, params in stellarators.items():\n",
    "    vmec_rho, vmec_current = get_vmec_plot(name, return_iota=False)\n",
    "    _, vmec_iota = get_vmec_plot(name)\n",
    "    assert jnp.allclose(_, vmec_rho)\n",
    "    eq = desc.io.load(\"../../master-28d5b14/examples/DESC/\" + name + \"_output.h5\")[-1]\n",
    "    # modes are even to match VMEC psi modes\n",
    "    rho, iota = get_desc_plot(\n",
    "        eq,\n",
    "        params,\n",
    "        jnp.array([0, 2, 4]),\n",
    "        ignore_params_use_eq_compute=True,\n",
    "        vmec_rho=vmec_rho,\n",
    "        vmec_current=-1 * vmec_current * mu_0 / 2 / jnp.pi,\n",
    "    )\n",
    "    scale = iota[-1]\n",
    "    iota = iota / scale\n",
    "\n",
    "    plot_overlay(\n",
    "        rho,\n",
    "        iota,\n",
    "        \"DESC \" + name + \" / (iota[-1]=\" + str(scale) + \")\",\n",
    "        vmec_rho,\n",
    "        vmec_iota,\n",
    "        \"VMEC \" + name,\n",
    "    )"
   ],
   "metadata": {
    "collapsed": false,
    "pycharm": {
     "name": "#%%\n"
    }
   }
  },
  {
   "cell_type": "code",
   "execution_count": null,
   "id": "b2aae356",
   "metadata": {
    "pycharm": {
     "name": "#%%\n"
    }
   },
   "outputs": [],
   "source": [
    "# plot VMEC output\n",
    "for name in stellarators.keys():\n",
    "    rho, iota = get_vmec_plot(name)\n",
    "    plot(rho, iota, \"VMEC \" + name)"
   ]
  }
 ],
 "metadata": {
  "kernelspec": {
   "display_name": "fuze",
   "language": "python",
   "name": "fuze"
  },
  "language_info": {
   "codemirror_mode": {
    "name": "ipython",
    "version": 3
   },
   "file_extension": ".py",
   "mimetype": "text/x-python",
   "name": "python",
   "nbconvert_exporter": "python",
   "pygments_lexer": "ipython3",
   "version": "3.9.12"
  }
 },
 "nbformat": 4,
 "nbformat_minor": 5
}