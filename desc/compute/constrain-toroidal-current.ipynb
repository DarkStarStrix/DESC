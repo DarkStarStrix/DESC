{
 "cells": [
  {
   "cell_type": "code",
   "execution_count": 1,
   "id": "123f0f26",
   "metadata": {},
   "outputs": [],
   "source": [
    "import sys\n",
    "import os\n",
    "\n",
    "sys.path.insert(0, os.path.abspath(\".\"))\n",
    "sys.path.append(os.path.abspath(\"../../\"))"
   ]
  },
  {
   "cell_type": "code",
   "execution_count": 2,
   "id": "786026cd",
   "metadata": {},
   "outputs": [
    {
     "name": "stdout",
     "output_type": "stream",
     "text": [
      "DESC version 0.5.0+44.gbb775c3.dirty, using JAX backend, jax version=0.2.25, jaxlib version=0.1.76, dtype=float64\n",
      "Using device: CPU, with 9.88 GB available memory\n"
     ]
    }
   ],
   "source": [
    "from desc.backend import jnp, jit\n",
    "from desc.grid import ConcentricGrid\n",
    "from desc.equilibrium import Equilibrium\n",
    "from desc.geometry import FourierRZToroidalSurface\n",
    "from desc.profiles import PowerSeriesProfile\n",
    "from desc.compute import data_index\n",
    "from desc.compute._core import (\n",
    "    compute_rotational_transform,\n",
    "    compute_rotational_transform_v2,\n",
    ")\n",
    "from desc.transform import Transform\n",
    "import numpy as np"
   ]
  },
  {
   "cell_type": "code",
   "execution_count": 3,
   "id": "45683d71",
   "metadata": {
    "scrolled": false
   },
   "outputs": [
    {
     "name": "stdout",
     "output_type": "stream",
     "text": [
      "73 41 29\n"
     ]
    }
   ],
   "source": [
    "jnp.set_printoptions(precision=3, floatmode=\"fixed\")\n",
    "rng = np.random.default_rng()\n",
    "L = rng.integers(low=1, high=100)\n",
    "M = rng.integers(low=1, high=100)\n",
    "N = rng.integers(low=1, high=100)\n",
    "print(L, M, N)\n",
    "grid = ConcentricGrid(L=L, N=N, M=M, node_pattern=\"jacobi\")\n",
    "# print(\"nodes\", \"             \", \"spacing\")\n",
    "# for a, b in zip(grid.nodes, grid.spacing):\n",
    "#     print(a, b)"
   ]
  },
  {
   "cell_type": "markdown",
   "id": "dc78de1e",
   "metadata": {},
   "source": [
    "## Bulk flux surface averaging test\n",
    "The tests pass. timeit also shows the _surface_sums no loop algorithm is faster."
   ]
  },
  {
   "cell_type": "code",
   "execution_count": 4,
   "id": "f6c49a12",
   "metadata": {},
   "outputs": [],
   "source": [
    "@jit\n",
    "def _surface_sums(surf_label, unique_append_upperbound, weights):\n",
    "    \"\"\"\n",
    "    Parameters\n",
    "    ----------\n",
    "    surf_label : ndarray\n",
    "        The surface label. Elements of a coordinate in the collocation grid.\n",
    "        i.e. grid.nodes[:, 0]\n",
    "    unique_append_upperbound : ndarray\n",
    "        Sorted unique elements of surf_label with the upper bound of that coordinate appended.\n",
    "        i.e. grid.unique_rho + [1]\n",
    "    weights : ndarray\n",
    "        Node at surf_label[i]'s contribution to its surface's sum is weights[i].\n",
    "        For an integral, this could be: ds * function_to_integrate.\n",
    "\n",
    "    Returns\n",
    "    -------\n",
    "    ndarray\n",
    "        An array of weighted sums over each surface.\n",
    "        The returned array has length = len(unique_append_upperbound) - 1.\n",
    "    \"\"\"\n",
    "    # DESIRED ALGORITHM\n",
    "    # collect collocation node indices for each rho surface\n",
    "    # surfaces = dict()\n",
    "    # for index, rho in enumerate(surf_label):\n",
    "    #     surfaces.setdefault(rho, list()).append(index)\n",
    "    # integration over non-contiguous elements\n",
    "    # for i, surface in enumerate(surfaces.values()):\n",
    "    #     surface_sums[i] = weights[surface].sum()\n",
    "\n",
    "    # NO LOOP IMPLEMENTATION\n",
    "    # Separate collocation nodes into bins with boundaries at unique values of rho.\n",
    "    # This groups nodes with identical rho values.\n",
    "    # Each is assigned a weight of their contribution to the integral.\n",
    "    # The elements of each bin are summed, performing the integration.\n",
    "    return jnp.histogram(surf_label, bins=unique_append_upperbound, weights=weights)[0]"
   ]
  },
  {
   "cell_type": "code",
   "execution_count": 5,
   "id": "4a80c28b",
   "metadata": {},
   "outputs": [],
   "source": [
    "weights = np.random.random_sample(size=len(grid.nodes))"
   ]
  },
  {
   "cell_type": "code",
   "execution_count": 6,
   "id": "74ff7b13",
   "metadata": {},
   "outputs": [],
   "source": [
    "# %%timeit\n",
    "\n",
    "iota_1 = np.zeros(grid.num_rho)\n",
    "# DESIRED ALGORITHM\n",
    "# collect collocation node indices for each rho surface\n",
    "surfaces = dict()\n",
    "for index, rho in enumerate(grid.nodes[:, 0]):\n",
    "    surfaces.setdefault(rho, list()).append(index)\n",
    "# integration over non-contiguous elements\n",
    "for i, surface in enumerate(surfaces.values()):\n",
    "    iota_1[i] = weights[surface].sum()"
   ]
  },
  {
   "cell_type": "code",
   "execution_count": 7,
   "id": "f36df7af",
   "metadata": {},
   "outputs": [],
   "source": [
    "# %%timeit\n",
    "\n",
    "# NO LOOP IMPLEMENTATION\n",
    "bins = jnp.append(grid.nodes[grid.unique_rho_indices, 0], 1)\n",
    "iota_2 = _surface_sums(grid.nodes[:, 0], bins, weights)\n",
    "# bincount, bins = jnp.histogram(grid.nodes[:, 0], bins=bins)\n",
    "# print(grid.nodes[grid.unique_rho_indices, 0])\n",
    "# print(bincount)\n",
    "# print(bins)"
   ]
  },
  {
   "cell_type": "code",
   "execution_count": 8,
   "id": "15cdb817",
   "metadata": {},
   "outputs": [
    {
     "name": "stdout",
     "output_type": "stream",
     "text": [
      "[  59.984  115.283  205.626  267.042  315.803  393.101  477.868  530.959\n",
      "  596.363  648.509  743.443  797.712  862.164  926.470  997.916 1080.021\n",
      " 1128.475 1186.462 1286.332 1331.837 1381.752 1403.958 1554.216 1584.757\n",
      " 1667.491 1711.377 1792.302 1845.671 1921.149 1959.358 2074.140 2149.672\n",
      " 2185.967 2266.464 2312.255 2392.996 2436.764]\n",
      "[  59.984  115.283  205.626  267.042  315.803  393.101  477.868  530.959\n",
      "  596.363  648.509  743.443  797.712  862.164  926.470  997.916 1080.021\n",
      " 1128.475 1186.462 1286.332 1331.837 1381.752 1403.958 1554.216 1584.757\n",
      " 1667.491 1711.377 1792.302 1845.671 1921.149 1959.358 2074.140 2149.672\n",
      " 2185.967 2266.464 2312.255 2392.996 2436.764]\n"
     ]
    }
   ],
   "source": [
    "# must comment %%timeit to test assertion\n",
    "print(iota_1)\n",
    "print(iota_2)\n",
    "assert jnp.allclose(iota_1, iota_2)"
   ]
  },
  {
   "cell_type": "markdown",
   "id": "bb7eb84a",
   "metadata": {},
   "source": [
    "## Axisymmetric, vacuum, no current test\n",
    "Want to test if the returned rotational transform profile is 0 when toroidal current input is 0.\n",
    "This should be a good test because the bulk of the computation lies on enforcing the zero\n",
    "toroidal current algorithm for the geometry of the device. And when a non-zero toroidal current is specified we just add it to the numerator because that is the delta poloidal flux term."
   ]
  },
  {
   "cell_type": "code",
   "execution_count": 9,
   "id": "13e1c0c0",
   "metadata": {},
   "outputs": [],
   "source": [
    "eq = Equilibrium()\n",
    "# is this the canoncial way to request multiple derivatives be computed in a transform?\n",
    "r_derivs = np.stack(\n",
    "    (\n",
    "        data_index[\"g_tt\"][\"R_derivs\"][0],\n",
    "        data_index[\"e_theta_r\"][\"R_derivs\"][0],\n",
    "        data_index[\"e_theta_rr\"][\"R_derivs\"][0],\n",
    "        data_index[\"g_tz\"][\"R_derivs\"][0],\n",
    "        data_index[\"g_tz\"][\"R_derivs\"][1],\n",
    "        data_index[\"g_tz\"][\"R_derivs\"][2],\n",
    "        data_index[\"e_zeta_r\"][\"R_derivs\"][0],\n",
    "        data_index[\"e_zeta_r\"][\"R_derivs\"][1],\n",
    "        data_index[\"e_zeta_rr\"][\"R_derivs\"][0],\n",
    "        data_index[\"e_zeta_rr\"][\"R_derivs\"][1],\n",
    "        data_index[\"R_rrz\"][\"R_derivs\"][0],\n",
    "    )\n",
    ")\n",
    "l_derivs = np.stack(\n",
    "    (\n",
    "        data_index[\"lambda_t\"][\"L_derivs\"][0],\n",
    "        data_index[\"lambda_rt\"][\"L_derivs\"][0],\n",
    "        data_index[\"lambda_rrt\"][\"L_derivs\"][0],\n",
    "        data_index[\"lambda_z\"][\"L_derivs\"][0],\n",
    "        data_index[\"lambda_rz\"][\"L_derivs\"][0],\n",
    "        data_index[\"lambda_rrz\"][\"L_derivs\"][0],\n",
    "    )\n",
    ")\n",
    "R_transform = Transform(grid, eq.R_basis, derivs=r_derivs, build=True)\n",
    "Z_transform = Transform(grid, eq.Z_basis, derivs=r_derivs, build=True)\n",
    "L_transform = Transform(grid, eq.L_basis, derivs=l_derivs, build=True)"
   ]
  },
  {
   "cell_type": "code",
   "execution_count": 10,
   "id": "2a904f8a",
   "metadata": {},
   "outputs": [],
   "source": [
    "I_l = np.array([0, 0])\n",
    "toroidal_current = PowerSeriesProfile(params=[1, 1.5], modes=[0, 2], grid=grid)\n",
    "\n",
    "data = compute_rotational_transform_v2(\n",
    "    eq.R_lmn,\n",
    "    eq.Z_lmn,\n",
    "    eq.L_lmn,\n",
    "    R_transform,\n",
    "    Z_transform,\n",
    "    L_transform,\n",
    "    eq.Psi,\n",
    "    I_l=I_l,\n",
    "    toroidal_current=toroidal_current,\n",
    ")"
   ]
  },
  {
   "cell_type": "code",
   "execution_count": 11,
   "id": "3d7b5432",
   "metadata": {},
   "outputs": [],
   "source": [
    "assert data[\"iota\"].size == grid.nodes[:, 0].size\n",
    "assert jnp.allclose(data[\"iota\"], 0)"
   ]
  }
 ],
 "metadata": {
  "kernelspec": {
   "display_name": "Python [conda env:fuze]",
   "language": "python",
   "name": "conda-env-fuze-py"
  },
  "language_info": {
   "codemirror_mode": {
    "name": "ipython",
    "version": 3
   },
   "file_extension": ".py",
   "mimetype": "text/x-python",
   "name": "python",
   "nbconvert_exporter": "python",
   "pygments_lexer": "ipython3",
   "version": "3.9.12"
  }
 },
 "nbformat": 4,
 "nbformat_minor": 5
}
