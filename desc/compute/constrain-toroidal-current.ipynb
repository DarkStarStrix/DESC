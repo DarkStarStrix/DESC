{
 "cells": [
  {
   "cell_type": "code",
   "execution_count": 1,
   "id": "123f0f26",
   "metadata": {},
   "outputs": [],
   "source": [
    "import sys\n",
    "import os\n",
    "\n",
    "sys.path.insert(0, os.path.abspath(\".\"))\n",
    "sys.path.append(os.path.abspath(\"../../\"))"
   ]
  },
  {
   "cell_type": "code",
   "execution_count": 2,
   "id": "786026cd",
   "metadata": {},
   "outputs": [
    {
     "name": "stdout",
     "output_type": "stream",
     "text": [
      "DESC version 0.5.0+43.g57e5849.dirty, using JAX backend, jax version=0.2.25, jaxlib version=0.1.76, dtype=float64\n",
      "Using device: CPU, with 10.88 GB available memory\n"
     ]
    }
   ],
   "source": [
    "from desc.backend import jnp, jit\n",
    "from desc.grid import ConcentricGrid\n",
    "from desc.equilibrium import Equilibrium\n",
    "from desc.geometry import FourierRZToroidalSurface\n",
    "from desc.profiles import PowerSeriesProfile\n",
    "from desc.compute import data_index\n",
    "from desc.compute._core import (\n",
    "    compute_rotational_transform,\n",
    "    compute_rotational_transform_v2,\n",
    ")\n",
    "from desc.transform import Transform\n",
    "import numpy as np"
   ]
  },
  {
   "cell_type": "code",
   "execution_count": 3,
   "id": "2c8f7791",
   "metadata": {},
   "outputs": [],
   "source": [
    "jnp.set_printoptions(precision=3, floatmode=\"fixed\")\n",
    "rng = np.random.default_rng()"
   ]
  },
  {
   "cell_type": "code",
   "execution_count": 4,
   "id": "45683d71",
   "metadata": {},
   "outputs": [
    {
     "name": "stdout",
     "output_type": "stream",
     "text": [
      "74 25 28\n"
     ]
    }
   ],
   "source": [
    "L = rng.integers(low=1, high=100)\n",
    "M = rng.integers(low=1, high=100)\n",
    "N = rng.integers(low=1, high=100)\n",
    "print(L, M, N)\n",
    "grid = ConcentricGrid(L=L, N=N, M=M, node_pattern=\"jacobi\")\n",
    "# print(\"nodes\", \"             \", \"spacing\")\n",
    "# for a, b in zip(grid.nodes, grid.spacing):\n",
    "#     print(a, b)"
   ]
  },
  {
   "cell_type": "markdown",
   "id": "dc78de1e",
   "metadata": {},
   "source": [
    "## Bulk flux surface averaging test\n",
    "The tests pass. As shown by timeit the _surface_sums no loop algorithm is much faster."
   ]
  },
  {
   "cell_type": "code",
   "execution_count": 5,
   "id": "f6c49a12",
   "metadata": {},
   "outputs": [],
   "source": [
    "@jit\n",
    "def _surface_sums(surf_label, unique_append_upperbound, weights):\n",
    "    \"\"\"\n",
    "    Parameters\n",
    "    ----------\n",
    "    surf_label : ndarray\n",
    "        The surface label. Elements of a coordinate in the collocation grid.\n",
    "        i.e. grid.nodes[:, 0]\n",
    "    unique_append_upperbound : ndarray\n",
    "        Sorted unique elements of surf_label with the upper bound of that coordinate appended.\n",
    "        i.e. grid.unique_rho + [1]\n",
    "    weights : ndarray\n",
    "        Node at surf_label[i]'s contribution to its surface's sum is weights[i].\n",
    "        For an integral, this could be: ds * function_to_integrate.\n",
    "\n",
    "    Returns\n",
    "    -------\n",
    "    ndarray\n",
    "        An array of weighted sums over each surface.\n",
    "        The returned array has length = len(unique_append_upperbound) - 1.\n",
    "    \"\"\"\n",
    "    # DESIRED ALGORITHM\n",
    "    # collect collocation node indices for each rho surface\n",
    "    # surfaces = dict()\n",
    "    # for index, rho in enumerate(surf_label):\n",
    "    #     surfaces.setdefault(rho, list()).append(index)\n",
    "    # integration over non-contiguous elements\n",
    "    # for i, surface in enumerate(surfaces.values()):\n",
    "    #     surface_sums[i] = weights[surface].sum()\n",
    "\n",
    "    # NO LOOP IMPLEMENTATION\n",
    "    # Separate collocation nodes into bins with boundaries at unique values of rho.\n",
    "    # This groups nodes with identical rho values.\n",
    "    # Each is assigned a weight of their contribution to the integral.\n",
    "    # The elements of each bin are summed, performing the integration.\n",
    "    return jnp.histogram(surf_label, bins=unique_append_upperbound, weights=weights)[0]"
   ]
  },
  {
   "cell_type": "code",
   "execution_count": 6,
   "id": "4a80c28b",
   "metadata": {},
   "outputs": [],
   "source": [
    "rho = grid.nodes[:, 0]\n",
    "weights = np.random.random_sample(size=len(rho))"
   ]
  },
  {
   "cell_type": "code",
   "execution_count": 7,
   "id": "74ff7b13",
   "metadata": {},
   "outputs": [
    {
     "name": "stdout",
     "output_type": "stream",
     "text": [
      "15.8 ms ± 307 µs per loop (mean ± std. dev. of 7 runs, 100 loops each)\n"
     ]
    }
   ],
   "source": [
    "%%timeit\n",
    "\n",
    "iota_1 = np.zeros(grid.num_rho)\n",
    "# DESIRED ALGORITHM\n",
    "# collect collocation node indices for each rho surface\n",
    "surfaces = dict()\n",
    "for index, r in enumerate(rho):\n",
    "    surfaces.setdefault(r, list()).append(index)\n",
    "# integration over non-contiguous elements\n",
    "for i, surface in enumerate(surfaces.values()):\n",
    "    iota_1[i] = weights[surface].sum()"
   ]
  },
  {
   "cell_type": "code",
   "execution_count": 8,
   "id": "f36df7af",
   "metadata": {},
   "outputs": [
    {
     "name": "stdout",
     "output_type": "stream",
     "text": [
      "1.49 ms ± 15 µs per loop (mean ± std. dev. of 7 runs, 1,000 loops each)\n"
     ]
    }
   ],
   "source": [
    "%%timeit\n",
    "\n",
    "# NO LOOP IMPLEMENTATION\n",
    "bins = jnp.append(grid.unique_rho, 1)\n",
    "iota_2 = _surface_sums(rho, bins, weights)\n",
    "# bincount, bins = jnp.histogram(rho, bins=bins)\n",
    "# print(grid.unique_rho)\n",
    "# print(bincount)\n",
    "# print(bins)"
   ]
  },
  {
   "cell_type": "code",
   "execution_count": 9,
   "id": "15cdb817",
   "metadata": {},
   "outputs": [],
   "source": [
    "# must remove %%timeit to test\n",
    "# print(iota_1)\n",
    "# print(iota_2)\n",
    "# assert jnp.allclose(iota_1, iota_2)"
   ]
  },
  {
   "cell_type": "code",
   "execution_count": 10,
   "id": "caf5f73e",
   "metadata": {},
   "outputs": [],
   "source": [
    "# no longer used in code\n",
    "# custom implementation of jnp.unique(), fails jit\n",
    "# @jit\n",
    "def get_unique_rho(grid):\n",
    "    change_zeta = jnp.where(\n",
    "        jnp.diff(grid.nodes[:, 2], prepend=jnp.nan), size=grid.num_zeta\n",
    "    )[0]\n",
    "    stop_zeta = change_zeta[1] if grid.num_zeta > 1 else None\n",
    "    change_rho = jnp.where(\n",
    "        jnp.diff(grid.nodes[:stop_zeta, 0], prepend=jnp.nan), size=grid.num_rho\n",
    "    )[0]\n",
    "    return grid.nodes[change_rho, 0]\n",
    "\n",
    "assert jnp.allclose(grid.unique_rho, get_unique_rho(grid))"
   ]
  },
  {
   "cell_type": "markdown",
   "id": "bb7eb84a",
   "metadata": {},
   "source": [
    "## Axisymmetric, vacuum, no current test\n",
    "Want to test to see if the returned rotational transform profile is 0 when toroidal current input is 0.\n",
    "This should be a good test because the bulk of the computation lies on enforcing the zero\n",
    "toroidal current algorithm for the geometry of the device. And when a non-zero toroidal current is specified we just add it to the numerator because that is the delta poloidal flux term."
   ]
  },
  {
   "cell_type": "code",
   "execution_count": 11,
   "id": "b967a516",
   "metadata": {},
   "outputs": [
    {
     "name": "stdout",
     "output_type": "stream",
     "text": [
      "1.0\n",
      "[0.000]\n"
     ]
    },
    {
     "data": {
      "text/plain": [
       "{'iota': DeviceArray([], dtype=float64),\n",
       " 'iota_r': DeviceArray([], dtype=float64),\n",
       " 'iota_rr': DeviceArray([], dtype=float64)}"
      ]
     },
     "execution_count": 11,
     "metadata": {},
     "output_type": "execute_result"
    }
   ],
   "source": [
    "eq = Equilibrium()\n",
    "print(eq.Psi)\n",
    "print(eq.i_l)\n",
    "compute_rotational_transform(eq.i_l, eq.iota)"
   ]
  },
  {
   "cell_type": "code",
   "execution_count": 12,
   "id": "13e1c0c0",
   "metadata": {},
   "outputs": [
    {
     "ename": "TypeError",
     "evalue": "mul got incompatible shapes for broadcasting: (55974,), (0,).",
     "output_type": "error",
     "traceback": [
      "\u001b[0;31m---------------------------------------------------------------------------\u001b[0m",
      "\u001b[0;31mTypeError\u001b[0m                                 Traceback (most recent call last)",
      "Input \u001b[0;32mIn [12]\u001b[0m, in \u001b[0;36m<cell line: 33>\u001b[0;34m()\u001b[0m\n\u001b[1;32m     29\u001b[0m L_transform \u001b[38;5;241m=\u001b[39m Transform(grid, eq\u001b[38;5;241m.\u001b[39mL_basis, derivs\u001b[38;5;241m=\u001b[39ml_derivs, build\u001b[38;5;241m=\u001b[39m\u001b[38;5;28;01mTrue\u001b[39;00m)\n\u001b[1;32m     31\u001b[0m \u001b[38;5;66;03m# The * operation between psi_r and the term in the following parenthesis fails\u001b[39;00m\n\u001b[1;32m     32\u001b[0m \u001b[38;5;66;03m# The error clams they are different sizes, but I'm not sure why.\u001b[39;00m\n\u001b[0;32m---> 33\u001b[0m \u001b[43mcompute_rotational_transform_v2\u001b[49m\u001b[43m(\u001b[49m\n\u001b[1;32m     34\u001b[0m \u001b[43m    \u001b[49m\u001b[43meq\u001b[49m\u001b[38;5;241;43m.\u001b[39;49m\u001b[43mR_lmn\u001b[49m\u001b[43m,\u001b[49m\n\u001b[1;32m     35\u001b[0m \u001b[43m    \u001b[49m\u001b[43meq\u001b[49m\u001b[38;5;241;43m.\u001b[39;49m\u001b[43mZ_lmn\u001b[49m\u001b[43m,\u001b[49m\n\u001b[1;32m     36\u001b[0m \u001b[43m    \u001b[49m\u001b[43meq\u001b[49m\u001b[38;5;241;43m.\u001b[39;49m\u001b[43mL_lmn\u001b[49m\u001b[43m,\u001b[49m\n\u001b[1;32m     37\u001b[0m \u001b[43m    \u001b[49m\u001b[43mR_transform\u001b[49m\u001b[43m,\u001b[49m\n\u001b[1;32m     38\u001b[0m \u001b[43m    \u001b[49m\u001b[43mZ_transform\u001b[49m\u001b[43m,\u001b[49m\n\u001b[1;32m     39\u001b[0m \u001b[43m    \u001b[49m\u001b[43mL_transform\u001b[49m\u001b[43m,\u001b[49m\n\u001b[1;32m     40\u001b[0m \u001b[43m    \u001b[49m\u001b[43meq\u001b[49m\u001b[38;5;241;43m.\u001b[39;49m\u001b[43mPsi\u001b[49m\u001b[43m,\u001b[49m\n\u001b[1;32m     41\u001b[0m \u001b[43m    \u001b[49m\u001b[43mI_l\u001b[49m\u001b[38;5;241;43m=\u001b[39;49m\u001b[43mnp\u001b[49m\u001b[38;5;241;43m.\u001b[39;49m\u001b[43mzeros\u001b[49m\u001b[43m(\u001b[49m\u001b[38;5;241;43m2\u001b[39;49m\u001b[43m)\u001b[49m\u001b[43m,\u001b[49m\n\u001b[1;32m     42\u001b[0m \u001b[43m    \u001b[49m\u001b[43mtoroidal_current\u001b[49m\u001b[38;5;241;43m=\u001b[39;49m\u001b[43mPowerSeriesProfile\u001b[49m\u001b[43m(\u001b[49m\u001b[43mparams\u001b[49m\u001b[38;5;241;43m=\u001b[39;49m\u001b[43m[\u001b[49m\u001b[38;5;241;43m1\u001b[39;49m\u001b[43m,\u001b[49m\u001b[43m \u001b[49m\u001b[38;5;241;43m1.5\u001b[39;49m\u001b[43m]\u001b[49m\u001b[43m,\u001b[49m\u001b[43m \u001b[49m\u001b[43mmodes\u001b[49m\u001b[38;5;241;43m=\u001b[39;49m\u001b[43m[\u001b[49m\u001b[38;5;241;43m0\u001b[39;49m\u001b[43m,\u001b[49m\u001b[43m \u001b[49m\u001b[38;5;241;43m2\u001b[39;49m\u001b[43m]\u001b[49m\u001b[43m)\u001b[49m\u001b[43m,\u001b[49m\n\u001b[1;32m     43\u001b[0m \u001b[43m)\u001b[49m\n",
      "File \u001b[0;32m~/Documents/edu/pton/plasma/DESC/desc/compute/_core.py:505\u001b[0m, in \u001b[0;36mcompute_rotational_transform_v2\u001b[0;34m(R_lmn, Z_lmn, L_lmn, R_transform, Z_transform, L_transform, Psi, I_l, toroidal_current, jzeta_l, toroidal_current_density, data, **kwargs)\u001b[0m\n\u001b[1;32m    500\u001b[0m \u001b[38;5;66;03m# integrands of the flux surface averages in eq. 11\u001b[39;00m\n\u001b[1;32m    501\u001b[0m \u001b[38;5;66;03m# num = numerator, den = denominator\u001b[39;00m\n\u001b[1;32m    502\u001b[0m \u001b[38;5;66;03m# TODO: There should be an error in eq.11. We need g in denominator not sqrt(g).\u001b[39;00m\n\u001b[1;32m    503\u001b[0m \u001b[38;5;66;03m# TODO: for less computation we can pull out psi_r, psi_rr from flux surface average\u001b[39;00m\n\u001b[1;32m    504\u001b[0m dtdz \u001b[38;5;241m=\u001b[39m profile\u001b[38;5;241m.\u001b[39mgrid\u001b[38;5;241m.\u001b[39mspacing[:, \u001b[38;5;241m1\u001b[39m:]\u001b[38;5;241m.\u001b[39mprod(axis\u001b[38;5;241m=\u001b[39m\u001b[38;5;241m1\u001b[39m)\n\u001b[0;32m--> 505\u001b[0m num \u001b[38;5;241m=\u001b[39m \u001b[43mdtdz\u001b[49m\u001b[43m \u001b[49m\u001b[38;5;241;43m*\u001b[39;49m\u001b[43m \u001b[49m\u001b[43mpsi_r\u001b[49m\u001b[43m \u001b[49m\u001b[38;5;241;43m*\u001b[39;49m\u001b[43m \u001b[49m\u001b[43m(\u001b[49m\u001b[43mA\u001b[49m\u001b[43m \u001b[49m\u001b[38;5;241;43m:=\u001b[39;49m\u001b[43m \u001b[49m\u001b[43m(\u001b[49m\u001b[43mg_tt\u001b[49m\u001b[43m \u001b[49m\u001b[38;5;241;43m*\u001b[39;49m\u001b[43m \u001b[49m\u001b[43mlam_z\u001b[49m\u001b[43m \u001b[49m\u001b[38;5;241;43m-\u001b[39;49m\u001b[43m \u001b[49m\u001b[43mg_tz\u001b[49m\u001b[43m \u001b[49m\u001b[38;5;241;43m*\u001b[39;49m\u001b[43m \u001b[49m\u001b[43m(\u001b[49m\u001b[38;5;241;43m1\u001b[39;49m\u001b[43m \u001b[49m\u001b[38;5;241;43m+\u001b[39;49m\u001b[43m \u001b[49m\u001b[43mlam_t\u001b[49m\u001b[43m)\u001b[49m\u001b[43m)\u001b[49m\u001b[43m)\u001b[49m\n\u001b[1;32m    506\u001b[0m num_r \u001b[38;5;241m=\u001b[39m dtdz \u001b[38;5;241m*\u001b[39m psi_rr \u001b[38;5;241m*\u001b[39m A \u001b[38;5;241m+\u001b[39m psi_r \u001b[38;5;241m*\u001b[39m (\n\u001b[1;32m    507\u001b[0m     A_r \u001b[38;5;241m:=\u001b[39m (g_tt_r \u001b[38;5;241m*\u001b[39m lam_z \u001b[38;5;241m+\u001b[39m g_tt \u001b[38;5;241m*\u001b[39m lam_zr \u001b[38;5;241m-\u001b[39m g_tz_r \u001b[38;5;241m*\u001b[39m (\u001b[38;5;241m1\u001b[39m \u001b[38;5;241m+\u001b[39m lam_t) \u001b[38;5;241m-\u001b[39m g_tz \u001b[38;5;241m*\u001b[39m lam_tr)\n\u001b[1;32m    508\u001b[0m )\n\u001b[1;32m    509\u001b[0m num_rr \u001b[38;5;241m=\u001b[39m dtdz \u001b[38;5;241m*\u001b[39m \u001b[38;5;241m2\u001b[39m \u001b[38;5;241m*\u001b[39m psi_rr \u001b[38;5;241m*\u001b[39m A_r \u001b[38;5;241m+\u001b[39m psi_r \u001b[38;5;241m*\u001b[39m (\n\u001b[1;32m    510\u001b[0m     g_tt_rr \u001b[38;5;241m*\u001b[39m lam_z\n\u001b[1;32m    511\u001b[0m     \u001b[38;5;241m+\u001b[39m \u001b[38;5;241m2\u001b[39m \u001b[38;5;241m*\u001b[39m g_tt_r \u001b[38;5;241m*\u001b[39m lam_zr\n\u001b[0;32m   (...)\u001b[0m\n\u001b[1;32m    515\u001b[0m     \u001b[38;5;241m+\u001b[39m g_tz \u001b[38;5;241m*\u001b[39m lam_trr\n\u001b[1;32m    516\u001b[0m )\n",
      "File \u001b[0;32m~/Software/miniconda3/envs/fuze/lib/python3.9/site-packages/jax/_src/numpy/lax_numpy.py:6585\u001b[0m, in \u001b[0;36m_defer_to_unrecognized_arg.<locals>.deferring_binary_op\u001b[0;34m(self, other)\u001b[0m\n\u001b[1;32m   6583\u001b[0m \u001b[38;5;28;01mif\u001b[39;00m \u001b[38;5;129;01mnot\u001b[39;00m \u001b[38;5;28misinstance\u001b[39m(other, _accepted_binop_types):\n\u001b[1;32m   6584\u001b[0m   \u001b[38;5;28;01mreturn\u001b[39;00m \u001b[38;5;28mNotImplemented\u001b[39m\n\u001b[0;32m-> 6585\u001b[0m \u001b[38;5;28;01mreturn\u001b[39;00m \u001b[43mbinary_op\u001b[49m\u001b[43m(\u001b[49m\u001b[38;5;28;43mself\u001b[39;49m\u001b[43m,\u001b[49m\u001b[43m \u001b[49m\u001b[43mother\u001b[49m\u001b[43m)\u001b[49m\n",
      "    \u001b[0;31m[... skipping hidden 13 frame]\u001b[0m\n",
      "File \u001b[0;32m~/Software/miniconda3/envs/fuze/lib/python3.9/site-packages/jax/_src/numpy/lax_numpy.py:690\u001b[0m, in \u001b[0;36m_maybe_bool_binop.<locals>.fn\u001b[0;34m(x1, x2)\u001b[0m\n\u001b[1;32m    688\u001b[0m \u001b[38;5;28;01mdef\u001b[39;00m \u001b[38;5;21mfn\u001b[39m(x1, x2):\n\u001b[1;32m    689\u001b[0m   x1, x2 \u001b[38;5;241m=\u001b[39m _promote_args(numpy_fn\u001b[38;5;241m.\u001b[39m\u001b[38;5;18m__name__\u001b[39m, x1, x2)\n\u001b[0;32m--> 690\u001b[0m   \u001b[38;5;28;01mreturn\u001b[39;00m \u001b[43mlax_fn\u001b[49m\u001b[43m(\u001b[49m\u001b[43mx1\u001b[49m\u001b[43m,\u001b[49m\u001b[43m \u001b[49m\u001b[43mx2\u001b[49m\u001b[43m)\u001b[49m \u001b[38;5;28;01mif\u001b[39;00m x1\u001b[38;5;241m.\u001b[39mdtype \u001b[38;5;241m!=\u001b[39m bool_ \u001b[38;5;28;01melse\u001b[39;00m bool_lax_fn(x1, x2)\n",
      "    \u001b[0;31m[... skipping hidden 4 frame]\u001b[0m\n",
      "File \u001b[0;32m~/Software/miniconda3/envs/fuze/lib/python3.9/site-packages/jax/_src/lax/lax.py:2372\u001b[0m, in \u001b[0;36m_broadcasting_shape_rule\u001b[0;34m(name, *avals)\u001b[0m\n\u001b[1;32m   2370\u001b[0m \u001b[38;5;28;01mif\u001b[39;00m result_shape \u001b[38;5;129;01mis\u001b[39;00m \u001b[38;5;28;01mNone\u001b[39;00m:\n\u001b[1;32m   2371\u001b[0m   msg \u001b[38;5;241m=\u001b[39m \u001b[38;5;124m'\u001b[39m\u001b[38;5;132;01m{}\u001b[39;00m\u001b[38;5;124m got incompatible shapes for broadcasting: \u001b[39m\u001b[38;5;132;01m{}\u001b[39;00m\u001b[38;5;124m.\u001b[39m\u001b[38;5;124m'\u001b[39m\n\u001b[0;32m-> 2372\u001b[0m   \u001b[38;5;28;01mraise\u001b[39;00m \u001b[38;5;167;01mTypeError\u001b[39;00m(msg\u001b[38;5;241m.\u001b[39mformat(name, \u001b[38;5;124m'\u001b[39m\u001b[38;5;124m, \u001b[39m\u001b[38;5;124m'\u001b[39m\u001b[38;5;241m.\u001b[39mjoin(\u001b[38;5;28mmap\u001b[39m(\u001b[38;5;28mstr\u001b[39m, \u001b[38;5;28mmap\u001b[39m(\u001b[38;5;28mtuple\u001b[39m, shapes)))))\n\u001b[1;32m   2373\u001b[0m \u001b[38;5;28;01mreturn\u001b[39;00m result_shape\n",
      "\u001b[0;31mTypeError\u001b[0m: mul got incompatible shapes for broadcasting: (55974,), (0,)."
     ]
    }
   ],
   "source": [
    "# is this the canoncial way to request multiple derivatives be computed in a transform?\n",
    "r_derivs = np.stack(\n",
    "    (\n",
    "        data_index[\"g_tt\"][\"R_derivs\"][0],\n",
    "        data_index[\"e_theta_r\"][\"R_derivs\"][0],\n",
    "        data_index[\"e_theta_rr\"][\"R_derivs\"][0],\n",
    "        data_index[\"g_tz\"][\"R_derivs\"][0],\n",
    "        data_index[\"g_tz\"][\"R_derivs\"][1],\n",
    "        data_index[\"g_tz\"][\"R_derivs\"][2],\n",
    "        data_index[\"e_zeta_r\"][\"R_derivs\"][0],\n",
    "        data_index[\"e_zeta_r\"][\"R_derivs\"][1],\n",
    "        data_index[\"e_zeta_rr\"][\"R_derivs\"][0],\n",
    "        data_index[\"e_zeta_rr\"][\"R_derivs\"][1],\n",
    "        data_index[\"R_rrz\"][\"R_derivs\"][0],\n",
    "    )\n",
    ")\n",
    "l_derivs = np.stack(\n",
    "    (\n",
    "        data_index[\"lambda_t\"][\"L_derivs\"][0],\n",
    "        data_index[\"lambda_rt\"][\"L_derivs\"][0],\n",
    "        data_index[\"lambda_rrt\"][\"L_derivs\"][0],\n",
    "        data_index[\"lambda_z\"][\"L_derivs\"][0],\n",
    "        data_index[\"lambda_rz\"][\"L_derivs\"][0],\n",
    "        data_index[\"lambda_rrz\"][\"L_derivs\"][0],\n",
    "    )\n",
    ")\n",
    "R_transform = Transform(grid, eq.R_basis, derivs=r_derivs, build=True)\n",
    "Z_transform = Transform(grid, eq.Z_basis, derivs=r_derivs, build=True)\n",
    "L_transform = Transform(grid, eq.L_basis, derivs=l_derivs, build=True)\n",
    "\n",
    "# The * operation between psi_r and the term in the following parenthesis fails\n",
    "# The error clams they are different sizes, but I'm not sure why.\n",
    "compute_rotational_transform_v2(\n",
    "    eq.R_lmn,\n",
    "    eq.Z_lmn,\n",
    "    eq.L_lmn,\n",
    "    R_transform,\n",
    "    Z_transform,\n",
    "    L_transform,\n",
    "    eq.Psi,\n",
    "    I_l=np.zeros(2),\n",
    "    toroidal_current=PowerSeriesProfile(params=[1, 1.5], modes=[0, 2]),\n",
    ")"
   ]
  }
 ],
 "metadata": {
  "kernelspec": {
   "display_name": "Python [conda env:fuze]",
   "language": "python",
   "name": "conda-env-fuze-py"
  },
  "language_info": {
   "codemirror_mode": {
    "name": "ipython",
    "version": 3
   },
   "file_extension": ".py",
   "mimetype": "text/x-python",
   "name": "python",
   "nbconvert_exporter": "python",
   "pygments_lexer": "ipython3",
   "version": "3.9.12"
  }
 },
 "nbformat": 4,
 "nbformat_minor": 5
}
