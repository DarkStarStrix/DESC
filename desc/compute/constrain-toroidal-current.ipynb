{
 "cells": [
  {
   "cell_type": "code",
   "execution_count": 1,
   "id": "123f0f26",
   "metadata": {},
   "outputs": [],
   "source": [
    "import sys\n",
    "import os\n",
    "\n",
    "sys.path.insert(0, os.path.abspath(\".\"))\n",
    "sys.path.append(os.path.abspath(\"../../\"))"
   ]
  },
  {
   "cell_type": "code",
   "execution_count": 2,
   "id": "786026cd",
   "metadata": {},
   "outputs": [
    {
     "name": "stdout",
     "output_type": "stream",
     "text": [
      "DESC version 0.5.0+42.ga55ac71.dirty, using JAX backend, jax version=0.2.25, jaxlib version=0.1.76, dtype=float64\n",
      "Using device: CPU, with 9.68 GB available memory\n"
     ]
    }
   ],
   "source": [
    "from desc.backend import jnp, jit\n",
    "from desc.grid import ConcentricGrid\n",
    "import numpy as np"
   ]
  },
  {
   "cell_type": "code",
   "execution_count": 3,
   "id": "2c8f7791",
   "metadata": {},
   "outputs": [],
   "source": [
    "jnp.set_printoptions(precision=3, floatmode=\"fixed\")\n",
    "rng = np.random.default_rng()"
   ]
  },
  {
   "cell_type": "code",
   "execution_count": 4,
   "id": "45683d71",
   "metadata": {},
   "outputs": [
    {
     "name": "stdout",
     "output_type": "stream",
     "text": [
      "65 27 75\n"
     ]
    }
   ],
   "source": [
    "L = rng.integers(low=1, high=100)\n",
    "M = rng.integers(low=1, high=100)\n",
    "N = rng.integers(low=1, high=100)\n",
    "print(L, M, N)\n",
    "grid = ConcentricGrid(L=L, N=N, M=M, node_pattern=\"jacobi\")\n",
    "# print(\"nodes\", \"             \", \"spacing\")\n",
    "# for a, b in zip(grid.nodes, grid.spacing):\n",
    "#     print(a, b)"
   ]
  },
  {
   "cell_type": "markdown",
   "id": "dc78de1e",
   "metadata": {},
   "source": [
    "### Bulk flux surface averaging test"
   ]
  },
  {
   "cell_type": "code",
   "execution_count": 5,
   "id": "4a80c28b",
   "metadata": {},
   "outputs": [],
   "source": [
    "rho = grid.nodes[:, 0]\n",
    "weights = np.random.random_sample(size=len(rho))"
   ]
  },
  {
   "cell_type": "code",
   "execution_count": 6,
   "id": "74ff7b13",
   "metadata": {},
   "outputs": [],
   "source": [
    "iota_1 = np.zeros(grid.num_rho)\n",
    "\n",
    "# DESIRED ALGORITHM\n",
    "# collect collocation node indices for each rho surface\n",
    "surfaces = dict()\n",
    "for index, r in enumerate(rho):\n",
    "    surfaces.setdefault(r, list()).append(index)\n",
    "# integration over non-contiguous elements\n",
    "for i, surface in enumerate(surfaces.values()):\n",
    "    iota_1[i] = weights[surface].sum()"
   ]
  },
  {
   "cell_type": "code",
   "execution_count": 7,
   "id": "f6c49a12",
   "metadata": {},
   "outputs": [],
   "source": [
    "@jit\n",
    "def _surface_sums(surf_label, unique_append_upperbound, weights):\n",
    "    \"\"\"\n",
    "    Parameters\n",
    "    ----------\n",
    "    surf_label : ndarray\n",
    "        The surface label. Elements of a coordinate in the collocation grid.\n",
    "        i.e. grid.nodes[:, 0]\n",
    "    unique_append_upperbound : ndarray\n",
    "        Sorted unique elements of surf_label with the upper bound of that coordinate appended.\n",
    "        i.e. grid.unique_rho + [1]\n",
    "    weights : ndarray\n",
    "        Node at surf_label[i]'s contribution to its surface's sum is weights[i].\n",
    "        For an integral, this could be: ds * function_to_integrate.\n",
    "\n",
    "    Returns\n",
    "    -------\n",
    "    ndarray\n",
    "        An array of weighted sums over each surface.\n",
    "        The returned array has length = len(unique_append_upperbound) - 1.\n",
    "    \"\"\"\n",
    "    # DESIRED ALGORITHM\n",
    "    # collect collocation node indices for each rho surface\n",
    "    # surfaces = dict()\n",
    "    # for index, rho in enumerate(surf_label):\n",
    "    #     surfaces.setdefault(rho, list()).append(index)\n",
    "    # integration over non-contiguous elements\n",
    "    # for i, surface in enumerate(surfaces.values()):\n",
    "    #     surface_sums[i] = weights[surface].sum()\n",
    "\n",
    "    # NO LOOP IMPLEMENTATION\n",
    "    # Separate collocation nodes into bins with boundaries at unique values of rho.\n",
    "    # This groups nodes with identical rho values.\n",
    "    # Each is assigned a weight of their contribution to the integral.\n",
    "    # The elements of each bin are summed, performing the integration.\n",
    "    return jnp.histogram(surf_label, bins=unique_append_upperbound, weights=weights)[0]"
   ]
  },
  {
   "cell_type": "code",
   "execution_count": 8,
   "id": "f36df7af",
   "metadata": {},
   "outputs": [],
   "source": [
    "# NO LOOP IMPLEMENTATION\n",
    "bins = jnp.append(grid.unique_rho, 1)\n",
    "iota_2 = _surface_sums(rho, bins, weights)\n",
    "# bincount, bins = jnp.histogram(rho, bins=bins)\n",
    "# print(grid.unique_rho)\n",
    "# print(bincount)\n",
    "# print(bins)"
   ]
  },
  {
   "cell_type": "code",
   "execution_count": 9,
   "id": "15cdb817",
   "metadata": {},
   "outputs": [
    {
     "name": "stdout",
     "output_type": "stream",
     "text": [
      "[ 147.208  235.316  382.794  549.182  614.382  750.044  923.733  984.812\n",
      " 1119.754 1295.693 1367.538 1525.841 1664.855 1756.368 1863.554 2073.164\n",
      " 2119.459 2283.247 2445.757 2462.900 2681.401 2821.062 2870.304 3023.904\n",
      " 3174.562 3270.566 3420.687 3563.704 3611.914 3756.860 3932.809 3997.768\n",
      " 4112.891]\n",
      "[ 147.208  235.316  382.794  549.182  614.382  750.044  923.733  984.812\n",
      " 1119.754 1295.693 1367.538 1525.841 1664.855 1756.368 1863.554 2073.164\n",
      " 2119.459 2283.247 2445.757 2462.900 2681.401 2821.062 2870.304 3023.904\n",
      " 3174.562 3270.566 3420.687 3563.704 3611.914 3756.860 3932.809 3997.768\n",
      " 4112.891]\n"
     ]
    }
   ],
   "source": [
    "print(iota_1)\n",
    "print(iota_2)\n",
    "assert jnp.allclose(iota_1, iota_2)"
   ]
  },
  {
   "cell_type": "code",
   "execution_count": 10,
   "id": "fa5d0823",
   "metadata": {},
   "outputs": [],
   "source": [
    "# custom implementation of jnp.unique()\n",
    "# @jit # still fails\n",
    "def _where_change(x, size):\n",
    "    return jnp.where(jnp.diff(x, prepend=jnp.nan), size=size)[0]\n",
    "\n",
    "\n",
    "# @jit # still fails\n",
    "def get_unique_rho(grid):\n",
    "    change_zeta = _where_change(grid.nodes[:, -1], grid.num_zeta)\n",
    "    stop_zeta = change_zeta[1] if grid.num_zeta > 1 else None\n",
    "    change_rho = _where_change(grid.nodes[:stop_zeta, 0], grid.num_rho)\n",
    "    return grid.nodes[change_rho, 0]\n",
    "\n",
    "\n",
    "assert jnp.allclose(grid.unique_rho, get_unique_rho(grid))"
   ]
  }
 ],
 "metadata": {
  "kernelspec": {
   "display_name": "Python [conda env:fuze]",
   "language": "python",
   "name": "conda-env-fuze-py"
  },
  "language_info": {
   "codemirror_mode": {
    "name": "ipython",
    "version": 3
   },
   "file_extension": ".py",
   "mimetype": "text/x-python",
   "name": "python",
   "nbconvert_exporter": "python",
   "pygments_lexer": "ipython3",
   "version": "3.9.12"
  }
 },
 "nbformat": 4,
 "nbformat_minor": 5
}
