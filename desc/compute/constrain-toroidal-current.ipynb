{
 "cells": [
  {
   "cell_type": "code",
   "execution_count": 1,
   "id": "123f0f26",
   "metadata": {},
   "outputs": [],
   "source": [
    "import sys\n",
    "import os\n",
    "\n",
    "sys.path.insert(0, os.path.abspath(\".\"))\n",
    "sys.path.append(os.path.abspath(\"../../\"))"
   ]
  },
  {
   "cell_type": "code",
   "execution_count": 2,
   "id": "786026cd",
   "metadata": {},
   "outputs": [],
   "source": [
    "from desc.grid import ConcentricGrid\n",
    "import numpy as np"
   ]
  },
  {
   "cell_type": "code",
   "execution_count": 3,
   "id": "2c8f7791",
   "metadata": {},
   "outputs": [],
   "source": [
    "np.set_printoptions(precision=3, floatmode=\"fixed\")\n",
    "rng = np.random.default_rng()"
   ]
  },
  {
   "cell_type": "code",
   "execution_count": 4,
   "id": "45683d71",
   "metadata": {},
   "outputs": [
    {
     "name": "stdout",
     "output_type": "stream",
     "text": [
      "93 18 82\n"
     ]
    }
   ],
   "source": [
    "L = rng.integers(low=1, high=100)\n",
    "M = rng.integers(low=1, high=100)\n",
    "N = rng.integers(low=1, high=100)\n",
    "print(L, M, N)\n",
    "grid = ConcentricGrid(L=L, N=N, M=M, node_pattern=\"jacobi\")\n",
    "# print(\"nodes\", \"             \", \"spacing\")\n",
    "# for a, b in zip(grid.nodes, grid.spacing):\n",
    "#     print(a, b)"
   ]
  },
  {
   "cell_type": "code",
   "execution_count": 5,
   "id": "4a80c28b",
   "metadata": {},
   "outputs": [],
   "source": [
    "rho = grid.nodes[:, 0]\n",
    "unique_rho = np.unique(rho)\n",
    "num = np.random.random_sample(size=len(rho))\n",
    "den = np.random.random_sample(size=len(rho))\n",
    "iota_1 = np.zeros(len(unique_rho))\n",
    "iota_2 = np.zeros(len(unique_rho))"
   ]
  },
  {
   "cell_type": "code",
   "execution_count": 6,
   "id": "74ff7b13",
   "metadata": {},
   "outputs": [
    {
     "name": "stdout",
     "output_type": "stream",
     "text": [
      "[1.075 1.061 0.979 1.004 0.981 1.005 0.998 0.960 0.982 0.997 0.992 1.022\n",
      " 0.961 1.008 0.989 1.028 1.039 1.007 0.980 1.004 1.015 0.988 0.992 1.008\n",
      " 1.006 0.997 0.978 0.995 0.980 0.972 0.995 0.994 0.986 1.008 0.993 0.999\n",
      " 1.006 1.014 1.024 1.007 0.996 0.991 1.022 1.011 0.995 1.011 0.991]\n"
     ]
    }
   ],
   "source": [
    "# DESIRED ALGORITHM\n",
    "# collect collocation indices for each constant rho flux surface\n",
    "surfaces = dict()\n",
    "for index, r in enumerate(rho):\n",
    "    surfaces.setdefault(r, list()).append(index)\n",
    "# flux surface average integration\n",
    "for i, surface in enumerate(surfaces.values()):\n",
    "    iota_1[i] += num[surface].sum()\n",
    "    iota_1[i] /= den[surface].sum()\n",
    "\n",
    "print(iota_1)"
   ]
  },
  {
   "cell_type": "code",
   "execution_count": 7,
   "id": "f36df7af",
   "metadata": {},
   "outputs": [
    {
     "name": "stdout",
     "output_type": "stream",
     "text": [
      "[1.075 1.061 0.979 1.004 0.981 1.005 0.998 0.960 0.982 0.997 0.992 1.022\n",
      " 0.961 1.008 0.989 1.028 1.039 1.007 0.980 1.004 1.015 0.988 0.992 1.008\n",
      " 1.006 0.997 0.978 0.995 0.980 0.972 0.995 0.994 0.986 1.008 0.993 0.999\n",
      " 1.006 1.014 1.024 1.007 0.996 0.991 1.022 1.011 0.995 1.011 0.991]\n"
     ]
    }
   ],
   "source": [
    "# NO LOOP IMPLEMENTATION\n",
    "bins = np.append(np.unique(rho), 1)\n",
    "iota_2 += np.histogram(rho, bins=bins, weights=num)[0]\n",
    "iota_2 /= np.histogram(rho, bins=bins, weights=den)[0]\n",
    "print(iota_2)\n",
    "\n",
    "# bincount, bins = np.histogram(rho, bins=bins)\n",
    "# print(rho)\n",
    "# print(bincount)\n",
    "# print(bins)"
   ]
  },
  {
   "cell_type": "code",
   "execution_count": 8,
   "id": "15cdb817",
   "metadata": {},
   "outputs": [],
   "source": [
    "assert np.allclose(iota_1, iota_2, equal_nan=True)"
   ]
  }
 ],
 "metadata": {
  "kernelspec": {
   "display_name": "Python [conda env:fuze]",
   "language": "python",
   "name": "conda-env-fuze-py"
  },
  "language_info": {
   "codemirror_mode": {
    "name": "ipython",
    "version": 3
   },
   "file_extension": ".py",
   "mimetype": "text/x-python",
   "name": "python",
   "nbconvert_exporter": "python",
   "pygments_lexer": "ipython3",
   "version": "3.9.12"
  }
 },
 "nbformat": 4,
 "nbformat_minor": 5
}
