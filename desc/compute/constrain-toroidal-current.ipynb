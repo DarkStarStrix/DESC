{
 "cells": [
  {
   "cell_type": "code",
   "execution_count": 1,
   "id": "123f0f26",
   "metadata": {},
   "outputs": [],
   "source": [
    "import sys\n",
    "import os\n",
    "\n",
    "sys.path.insert(0, os.path.abspath(\".\"))\n",
    "sys.path.append(os.path.abspath(\"../../\"))"
   ]
  },
  {
   "cell_type": "code",
   "execution_count": 2,
   "id": "786026cd",
   "metadata": {},
   "outputs": [
    {
     "name": "stdout",
     "output_type": "stream",
     "text": [
      "DESC version 0.5.0+40.g5d59bae.dirty, using JAX backend, jax version=0.2.25, jaxlib version=0.1.76, dtype=float64\n",
      "Using device: CPU, with 11.41 GB available memory\n"
     ]
    }
   ],
   "source": [
    "from desc.backend import jnp, jit\n",
    "from desc.grid import ConcentricGrid\n",
    "import numpy as np"
   ]
  },
  {
   "cell_type": "code",
   "execution_count": 3,
   "id": "2c8f7791",
   "metadata": {},
   "outputs": [],
   "source": [
    "jnp.set_printoptions(precision=3, floatmode=\"fixed\")\n",
    "rng = np.random.default_rng()"
   ]
  },
  {
   "cell_type": "code",
   "execution_count": 4,
   "id": "45683d71",
   "metadata": {},
   "outputs": [
    {
     "name": "stdout",
     "output_type": "stream",
     "text": [
      "81 15 75\n"
     ]
    }
   ],
   "source": [
    "L = rng.integers(low=1, high=100)\n",
    "M = rng.integers(low=1, high=100)\n",
    "N = rng.integers(low=1, high=100)\n",
    "print(L, M, N)\n",
    "grid = ConcentricGrid(L=L, N=N, M=M, node_pattern=\"jacobi\")\n",
    "# print(\"nodes\", \"             \", \"spacing\")\n",
    "# for a, b in zip(grid.nodes, grid.spacing):\n",
    "#     print(a, b)"
   ]
  },
  {
   "cell_type": "code",
   "execution_count": 5,
   "id": "4a80c28b",
   "metadata": {},
   "outputs": [],
   "source": [
    "rho = grid.nodes[:, 0]\n",
    "num = np.random.random_sample(size=len(rho))\n",
    "den = np.random.random_sample(size=len(rho))\n",
    "unique_rho = jnp.unique(rho)\n",
    "iota_1 = np.zeros_like(unique_rho)\n",
    "iota_2 = np.zeros_like(unique_rho)"
   ]
  },
  {
   "cell_type": "code",
   "execution_count": 6,
   "id": "74ff7b13",
   "metadata": {},
   "outputs": [],
   "source": [
    "# DESIRED ALGORITHM\n",
    "# collect collocation indices for each constant rho flux surface\n",
    "surfaces = dict()\n",
    "for index, r in enumerate(rho):\n",
    "    surfaces.setdefault(r, list()).append(index)\n",
    "# flux surface average integration\n",
    "for i, surface in enumerate(surfaces.values()):\n",
    "    iota_1[i] += num[surface].sum()\n",
    "    iota_1[i] /= den[surface].sum()"
   ]
  },
  {
   "cell_type": "code",
   "execution_count": 7,
   "id": "f36df7af",
   "metadata": {},
   "outputs": [],
   "source": [
    "# NO LOOP IMPLEMENTATION\n",
    "bins = jnp.append(unique_rho, 1)\n",
    "iota_2 += jnp.histogram(rho, bins=bins, weights=num)[0]\n",
    "iota_2 /= jnp.histogram(rho, bins=bins, weights=den)[0]\n",
    "# bincount, bins = jnp.histogram(rho, bins=bins)\n",
    "# print(unique_rho)\n",
    "# print(bincount)\n",
    "# print(bins)"
   ]
  },
  {
   "cell_type": "code",
   "execution_count": 8,
   "id": "15cdb817",
   "metadata": {},
   "outputs": [
    {
     "name": "stdout",
     "output_type": "stream",
     "text": [
      "[1.029 0.939 0.962 0.978 1.043 1.016 1.022 1.004 1.008 1.020 1.023 1.020\n",
      " 1.023 0.988 1.019 1.004 0.989 1.000 1.013 0.964 1.011 0.981 1.008 1.006\n",
      " 0.999 1.002 1.015 1.012 0.977 1.008 0.995 0.991 0.992 1.004 0.988 1.005\n",
      " 1.010 0.999 0.978 1.014 1.006]\n",
      "[1.029 0.939 0.962 0.978 1.043 1.016 1.022 1.004 1.008 1.020 1.023 1.020\n",
      " 1.023 0.988 1.019 1.004 0.989 1.000 1.013 0.964 1.011 0.981 1.008 1.006\n",
      " 0.999 1.002 1.015 1.012 0.977 1.008 0.995 0.991 0.992 1.004 0.988 1.005\n",
      " 1.010 0.999 0.978 1.014 1.006]\n"
     ]
    }
   ],
   "source": [
    "print(iota_1)\n",
    "print(iota_2)\n",
    "assert jnp.allclose(iota_1, iota_2)"
   ]
  },
  {
   "cell_type": "code",
   "execution_count": 9,
   "id": "fa5d0823",
   "metadata": {},
   "outputs": [],
   "source": [
    "# @jit fails\n",
    "def _where_change(x):\n",
    "    return jnp.where(jnp.diff(x, prepend=jnp.nan))[0]\n",
    "\n",
    "\n",
    "def get_unique_rho(nodes):\n",
    "    change_zeta = _where_change(nodes[:, -1])\n",
    "    stop_zeta = change_zeta[1] if len(change_zeta) > 1 else None\n",
    "    change_rho = _where_change(nodes[:stop_zeta, 0])\n",
    "    return nodes[change_rho, 0]\n",
    "\n",
    "\n",
    "assert jnp.allclose(unique_rho, get_unique_rho(grid.nodes))"
   ]
  }
 ],
 "metadata": {
  "kernelspec": {
   "display_name": "Python [conda env:fuze]",
   "language": "python",
   "name": "conda-env-fuze-py"
  },
  "language_info": {
   "codemirror_mode": {
    "name": "ipython",
    "version": 3
   },
   "file_extension": ".py",
   "mimetype": "text/x-python",
   "name": "python",
   "nbconvert_exporter": "python",
   "pygments_lexer": "ipython3",
   "version": "3.9.12"
  }
 },
 "nbformat": 4,
 "nbformat_minor": 5
}
